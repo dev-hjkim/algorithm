{
 "cells": [
  {
   "cell_type": "code",
   "execution_count": 12,
   "metadata": {},
   "outputs": [],
   "source": [
    "def solution(n, path) :\n",
    "    x, y = 1,1\n",
    "    \n",
    "    dx = [0, 0, -1, 1]\n",
    "    dy = [-1, 1, 0, 0]\n",
    "    move_types = ['L', 'R', 'U', 'D']\n",
    "    \n",
    "    for i in path:\n",
    "        for j in range(len(move_types)):\n",
    "            if i == move_types[j] :\n",
    "                nx = x + dx[j]\n",
    "                ny = y + dy[j]\n",
    "        if nx < 1 or ny < 1 or nx > n or ny > n :\n",
    "            continue\n",
    "        x, y = nx, ny\n",
    "    return x, y"
   ]
  },
  {
   "cell_type": "code",
   "execution_count": 13,
   "metadata": {},
   "outputs": [],
   "source": [
    "n = 5\n",
    "path = ['R', 'R', 'R', 'U', 'D', 'D']"
   ]
  },
  {
   "cell_type": "code",
   "execution_count": 15,
   "metadata": {},
   "outputs": [
    {
     "data": {
      "text/plain": [
       "(3, 4)"
      ]
     },
     "execution_count": 15,
     "metadata": {},
     "output_type": "execute_result"
    }
   ],
   "source": [
    "solution(n, path)"
   ]
  },
  {
   "cell_type": "code",
   "execution_count": 28,
   "metadata": {},
   "outputs": [],
   "source": [
    "def solution(n) :\n",
    "    answer = 0\n",
    "    \n",
    "    for hour in range(n+1) :\n",
    "        for minutes in range(60) :\n",
    "            for seconds in range(60) :\n",
    "                if ('3' in str(hour) + str(minutes) + str(seconds)) :\n",
    "                    answer += 1\n",
    "        \n",
    "    return answer"
   ]
  },
  {
   "cell_type": "code",
   "execution_count": 29,
   "metadata": {},
   "outputs": [],
   "source": [
    "n = 5"
   ]
  },
  {
   "cell_type": "code",
   "execution_count": 30,
   "metadata": {},
   "outputs": [
    {
     "data": {
      "text/plain": [
       "11475"
      ]
     },
     "execution_count": 30,
     "metadata": {},
     "output_type": "execute_result"
    }
   ],
   "source": [
    "solution(n)"
   ]
  },
  {
   "cell_type": "code",
   "execution_count": 44,
   "metadata": {},
   "outputs": [],
   "source": [
    "def solution(position) :\n",
    "    answer = 0\n",
    "    \n",
    "    xlst = ['a', 'b', 'c', 'd', 'e', 'f', 'g', 'h']\n",
    "    ylst = ['1', '2', '3', '4', '5', '6', '7', '8']\n",
    "    \n",
    "    x, y = xlst.index(position[0]), ylst.index(position[1])\n",
    "    \n",
    "    possible_lst = [(2,-1), (2, 1), (1, 2), (-1, 2), (-2, 1), (-2, -1), (-1, -2), (1, -2)]\n",
    "    \n",
    "    for i, j in possible_lst :\n",
    "        nx = x + i\n",
    "        ny = y + j\n",
    "        \n",
    "        if nx < 0 or ny < 0 or nx > 7 or ny > 7 :\n",
    "            continue\n",
    "        answer += 1\n",
    "    return answer"
   ]
  },
  {
   "cell_type": "code",
   "execution_count": 45,
   "metadata": {},
   "outputs": [],
   "source": [
    "position = 'a1'"
   ]
  },
  {
   "cell_type": "code",
   "execution_count": 46,
   "metadata": {},
   "outputs": [
    {
     "data": {
      "text/plain": [
       "2"
      ]
     },
     "execution_count": 46,
     "metadata": {},
     "output_type": "execute_result"
    }
   ],
   "source": [
    "solution(position)"
   ]
  },
  {
   "cell_type": "code",
   "execution_count": 141,
   "metadata": {},
   "outputs": [],
   "source": [
    "def solution(n, m, x, y, d, map) :\n",
    "    answer = 1\n",
    "    \n",
    "    dx = [-1, 0, 1, 0]\n",
    "    dy = [0, 1, 0, -1]\n",
    "    \n",
    "    check = [[0] * m for _ in range(n)]\n",
    "    check[x][y] = 1\n",
    "    \n",
    "    turn_time = 0\n",
    "    while True :\n",
    "        d = turn_left(d)\n",
    "        nx = x + dx[d]\n",
    "        ny = y + dy[d]\n",
    "\n",
    "        if check[nx][ny] == 0 and map[nx][ny] == 0 :\n",
    "            check[nx][ny] = 1\n",
    "            x = nx\n",
    "            y = ny\n",
    "            answer += 1\n",
    "            turn_time = 0\n",
    "            continue\n",
    "        else :\n",
    "            turn_time += 1\n",
    "        \n",
    "        if turn_time == 4 :\n",
    "            nx = x - dx[d]\n",
    "            ny = y - dy[d]\n",
    "            if map[nx][ny] == 0 :\n",
    "                x = nx\n",
    "                y = ny\n",
    "            else :\n",
    "                break\n",
    "            turn_time = 0\n",
    "    \n",
    "    return answer"
   ]
  },
  {
   "cell_type": "code",
   "execution_count": 142,
   "metadata": {},
   "outputs": [],
   "source": [
    "def turn_left(d) :\n",
    "    d -= 1\n",
    "    if d == -1 :\n",
    "        d = 3\n",
    "    return d"
   ]
  },
  {
   "cell_type": "code",
   "execution_count": null,
   "metadata": {},
   "outputs": [],
   "source": []
  },
  {
   "cell_type": "code",
   "execution_count": 143,
   "metadata": {},
   "outputs": [],
   "source": [
    "n = 4\n",
    "m = 4\n",
    "x = 1\n",
    "y = 1\n",
    "d = 0\n",
    "map = [[1,1,1,1], [1,0,0,1], [1,1,0,1], [1,1,1,1]]"
   ]
  },
  {
   "cell_type": "code",
   "execution_count": 144,
   "metadata": {},
   "outputs": [
    {
     "data": {
      "text/plain": [
       "3"
      ]
     },
     "execution_count": 144,
     "metadata": {},
     "output_type": "execute_result"
    }
   ],
   "source": [
    "solution(n, m, x, y, d, map)"
   ]
  },
  {
   "cell_type": "code",
   "execution_count": null,
   "metadata": {},
   "outputs": [],
   "source": []
  },
  {
   "cell_type": "code",
   "execution_count": 36,
   "metadata": {},
   "outputs": [],
   "source": [
    "def solution(data) :\n",
    "    answer = ''\n",
    "    length = len(data)\n",
    "    summary = 0\n",
    "    \n",
    "    for i in range(length // 2) :\n",
    "        summary += int(data[i])\n",
    "        \n",
    "    for i in range(length//2, length) :\n",
    "        summary -= int(data[i])\n",
    "        \n",
    "    if summary == 0 :\n",
    "        answer = 'LUCKY'\n",
    "    else :\n",
    "        answer = 'READY'\n",
    "    return answer"
   ]
  },
  {
   "cell_type": "code",
   "execution_count": 37,
   "metadata": {},
   "outputs": [],
   "source": [
    "data = '123402'"
   ]
  },
  {
   "cell_type": "code",
   "execution_count": 8,
   "metadata": {},
   "outputs": [],
   "source": [
    "data = '7755'"
   ]
  },
  {
   "cell_type": "code",
   "execution_count": 10,
   "metadata": {},
   "outputs": [
    {
     "data": {
      "text/plain": [
       "'READY'"
      ]
     },
     "execution_count": 10,
     "metadata": {},
     "output_type": "execute_result"
    }
   ],
   "source": [
    "solution(data)"
   ]
  },
  {
   "cell_type": "code",
   "execution_count": null,
   "metadata": {},
   "outputs": [],
   "source": []
  },
  {
   "cell_type": "code",
   "execution_count": 4,
   "metadata": {},
   "outputs": [],
   "source": [
    "def solution(data) :\n",
    "    answer = ''\n",
    "    result = []\n",
    "    value = 0\n",
    "    \n",
    "    for x in data :\n",
    "        if x.isalpha() :\n",
    "            result.append(x)\n",
    "        else :\n",
    "            value += int(x)\n",
    "    \n",
    "    result.sort()\n",
    "    \n",
    "    if value != 0 :\n",
    "        result.append(str(value))\n",
    "    \n",
    "    answer = answer.join(result)\n",
    "    return answer"
   ]
  },
  {
   "cell_type": "code",
   "execution_count": 5,
   "metadata": {},
   "outputs": [],
   "source": [
    "data = 'K1KA5CB7'"
   ]
  },
  {
   "cell_type": "code",
   "execution_count": 7,
   "metadata": {},
   "outputs": [],
   "source": [
    "data = 'AJKDLSI412K4JSJ9D'"
   ]
  },
  {
   "cell_type": "code",
   "execution_count": 9,
   "metadata": {},
   "outputs": [
    {
     "data": {
      "text/plain": [
       "'ADDIJJJKKLSS20'"
      ]
     },
     "execution_count": 9,
     "metadata": {},
     "output_type": "execute_result"
    }
   ],
   "source": [
    "solution(data)"
   ]
  },
  {
   "cell_type": "code",
   "execution_count": null,
   "metadata": {},
   "outputs": [],
   "source": []
  },
  {
   "cell_type": "code",
   "execution_count": 20,
   "metadata": {},
   "outputs": [],
   "source": [
    "def solution(data) :\n",
    "    answer = len(data)\n",
    "    for step in range(1, len(data) // 2 + 1) :\n",
    "        compressed = ''\n",
    "        prev = data[0:step]\n",
    "        count = 1\n",
    "        \n",
    "        for j in range(step, len(data), step) :\n",
    "            if prev == data[j:j+step] :\n",
    "                count += 1\n",
    "            else :\n",
    "                compressed += str(count) + prev if count >= 2 else prev\n",
    "                prev = data[j:j+step]\n",
    "                count = 1\n",
    "        compressed += str(count) + prev if count >= 2 else prev\n",
    "        answer = min(answer, len(compressed))\n",
    "    return answer"
   ]
  },
  {
   "cell_type": "code",
   "execution_count": 18,
   "metadata": {},
   "outputs": [],
   "source": [
    "data = 'aabbaccc'"
   ]
  },
  {
   "cell_type": "code",
   "execution_count": 12,
   "metadata": {},
   "outputs": [],
   "source": [
    "data = 'ababcdcdababcdcd'"
   ]
  },
  {
   "cell_type": "code",
   "execution_count": 13,
   "metadata": {},
   "outputs": [],
   "source": [
    "data = 'abcabcdede'"
   ]
  },
  {
   "cell_type": "code",
   "execution_count": 14,
   "metadata": {},
   "outputs": [],
   "source": [
    "data = 'abcabcabcabcdededededede'"
   ]
  },
  {
   "cell_type": "code",
   "execution_count": 15,
   "metadata": {},
   "outputs": [],
   "source": [
    "data = 'xababcdcdababcdcd'"
   ]
  },
  {
   "cell_type": "code",
   "execution_count": 21,
   "metadata": {},
   "outputs": [
    {
     "data": {
      "text/plain": [
       "7"
      ]
     },
     "execution_count": 21,
     "metadata": {},
     "output_type": "execute_result"
    }
   ],
   "source": [
    "solution(data)"
   ]
  },
  {
   "cell_type": "code",
   "execution_count": null,
   "metadata": {},
   "outputs": [],
   "source": []
  }
 ],
 "metadata": {
  "kernelspec": {
   "display_name": "Python 3",
   "language": "python",
   "name": "python3"
  },
  "language_info": {
   "codemirror_mode": {
    "name": "ipython",
    "version": 3
   },
   "file_extension": ".py",
   "mimetype": "text/x-python",
   "name": "python",
   "nbconvert_exporter": "python",
   "pygments_lexer": "ipython3",
   "version": "3.7.9"
  }
 },
 "nbformat": 4,
 "nbformat_minor": 4
}
