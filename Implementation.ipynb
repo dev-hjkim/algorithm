{
 "cells": [
  {
   "cell_type": "code",
   "execution_count": 12,
   "metadata": {},
   "outputs": [],
   "source": [
    "def solution(n, path) :\n",
    "    x, y = 1,1\n",
    "    \n",
    "    dx = [0, 0, -1, 1]\n",
    "    dy = [-1, 1, 0, 0]\n",
    "    move_types = ['L', 'R', 'U', 'D']\n",
    "    \n",
    "    for i in path:\n",
    "        for j in range(len(move_types)):\n",
    "            if i == move_types[j] :\n",
    "                nx = x + dx[j]\n",
    "                ny = y + dy[j]\n",
    "        if nx < 1 or ny < 1 or nx > n or ny > n :\n",
    "            continue\n",
    "        x, y = nx, ny\n",
    "    return x, y"
   ]
  },
  {
   "cell_type": "code",
   "execution_count": 13,
   "metadata": {},
   "outputs": [],
   "source": [
    "n = 5\n",
    "path = ['R', 'R', 'R', 'U', 'D', 'D']"
   ]
  },
  {
   "cell_type": "code",
   "execution_count": 15,
   "metadata": {},
   "outputs": [
    {
     "data": {
      "text/plain": [
       "(3, 4)"
      ]
     },
     "execution_count": 15,
     "metadata": {},
     "output_type": "execute_result"
    }
   ],
   "source": [
    "solution(n, path)"
   ]
  },
  {
   "cell_type": "code",
   "execution_count": 28,
   "metadata": {},
   "outputs": [],
   "source": [
    "def solution(n) :\n",
    "    answer = 0\n",
    "    \n",
    "    for hour in range(n+1) :\n",
    "        for minutes in range(60) :\n",
    "            for seconds in range(60) :\n",
    "                if ('3' in str(hour) + str(minutes) + str(seconds)) :\n",
    "                    answer += 1\n",
    "        \n",
    "    return answer"
   ]
  },
  {
   "cell_type": "code",
   "execution_count": 29,
   "metadata": {},
   "outputs": [],
   "source": [
    "n = 5"
   ]
  },
  {
   "cell_type": "code",
   "execution_count": 30,
   "metadata": {},
   "outputs": [
    {
     "data": {
      "text/plain": [
       "11475"
      ]
     },
     "execution_count": 30,
     "metadata": {},
     "output_type": "execute_result"
    }
   ],
   "source": [
    "solution(n)"
   ]
  },
  {
   "cell_type": "code",
   "execution_count": 44,
   "metadata": {},
   "outputs": [],
   "source": [
    "def solution(position) :\n",
    "    answer = 0\n",
    "    \n",
    "    xlst = ['a', 'b', 'c', 'd', 'e', 'f', 'g', 'h']\n",
    "    ylst = ['1', '2', '3', '4', '5', '6', '7', '8']\n",
    "    \n",
    "    x, y = xlst.index(position[0]), ylst.index(position[1])\n",
    "    \n",
    "    possible_lst = [(2,-1), (2, 1), (1, 2), (-1, 2), (-2, 1), (-2, -1), (-1, -2), (1, -2)]\n",
    "    \n",
    "    for i, j in possible_lst :\n",
    "        nx = x + i\n",
    "        ny = y + j\n",
    "        \n",
    "        if nx < 0 or ny < 0 or nx > 7 or ny > 7 :\n",
    "            continue\n",
    "        answer += 1\n",
    "    return answer"
   ]
  },
  {
   "cell_type": "code",
   "execution_count": 45,
   "metadata": {},
   "outputs": [],
   "source": [
    "position = 'a1'"
   ]
  },
  {
   "cell_type": "code",
   "execution_count": 46,
   "metadata": {},
   "outputs": [
    {
     "data": {
      "text/plain": [
       "2"
      ]
     },
     "execution_count": 46,
     "metadata": {},
     "output_type": "execute_result"
    }
   ],
   "source": [
    "solution(position)"
   ]
  },
  {
   "cell_type": "code",
   "execution_count": null,
   "metadata": {},
   "outputs": [],
   "source": []
  }
 ],
 "metadata": {
  "kernelspec": {
   "display_name": "Python 3",
   "language": "python",
   "name": "python3"
  },
  "language_info": {
   "codemirror_mode": {
    "name": "ipython",
    "version": 3
   },
   "file_extension": ".py",
   "mimetype": "text/x-python",
   "name": "python",
   "nbconvert_exporter": "python",
   "pygments_lexer": "ipython3",
   "version": "3.7.9"
  }
 },
 "nbformat": 4,
 "nbformat_minor": 4
}
