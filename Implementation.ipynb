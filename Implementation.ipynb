{
 "cells": [
  {
   "cell_type": "code",
   "execution_count": 12,
   "metadata": {},
   "outputs": [],
   "source": [
    "def solution(n, path) :\n",
    "    x, y = 1,1\n",
    "    \n",
    "    dx = [0, 0, -1, 1]\n",
    "    dy = [-1, 1, 0, 0]\n",
    "    move_types = ['L', 'R', 'U', 'D']\n",
    "    \n",
    "    for i in path:\n",
    "        for j in range(len(move_types)):\n",
    "            if i == move_types[j] :\n",
    "                nx = x + dx[j]\n",
    "                ny = y + dy[j]\n",
    "        if nx < 1 or ny < 1 or nx > n or ny > n :\n",
    "            continue\n",
    "        x, y = nx, ny\n",
    "    return x, y"
   ]
  },
  {
   "cell_type": "code",
   "execution_count": 13,
   "metadata": {},
   "outputs": [],
   "source": [
    "n = 5\n",
    "path = ['R', 'R', 'R', 'U', 'D', 'D']"
   ]
  },
  {
   "cell_type": "code",
   "execution_count": 15,
   "metadata": {},
   "outputs": [
    {
     "data": {
      "text/plain": [
       "(3, 4)"
      ]
     },
     "execution_count": 15,
     "metadata": {},
     "output_type": "execute_result"
    }
   ],
   "source": [
    "solution(n, path)"
   ]
  },
  {
   "cell_type": "code",
   "execution_count": 28,
   "metadata": {},
   "outputs": [],
   "source": [
    "def solution(n) :\n",
    "    answer = 0\n",
    "    \n",
    "    for hour in range(n+1) :\n",
    "        for minutes in range(60) :\n",
    "            for seconds in range(60) :\n",
    "                if ('3' in str(hour) + str(minutes) + str(seconds)) :\n",
    "                    answer += 1\n",
    "        \n",
    "    return answer"
   ]
  },
  {
   "cell_type": "code",
   "execution_count": 29,
   "metadata": {},
   "outputs": [],
   "source": [
    "n = 5"
   ]
  },
  {
   "cell_type": "code",
   "execution_count": 30,
   "metadata": {},
   "outputs": [
    {
     "data": {
      "text/plain": [
       "11475"
      ]
     },
     "execution_count": 30,
     "metadata": {},
     "output_type": "execute_result"
    }
   ],
   "source": [
    "solution(n)"
   ]
  },
  {
   "cell_type": "code",
   "execution_count": 44,
   "metadata": {},
   "outputs": [],
   "source": [
    "def solution(position) :\n",
    "    answer = 0\n",
    "    \n",
    "    xlst = ['a', 'b', 'c', 'd', 'e', 'f', 'g', 'h']\n",
    "    ylst = ['1', '2', '3', '4', '5', '6', '7', '8']\n",
    "    \n",
    "    x, y = xlst.index(position[0]), ylst.index(position[1])\n",
    "    \n",
    "    possible_lst = [(2,-1), (2, 1), (1, 2), (-1, 2), (-2, 1), (-2, -1), (-1, -2), (1, -2)]\n",
    "    \n",
    "    for i, j in possible_lst :\n",
    "        nx = x + i\n",
    "        ny = y + j\n",
    "        \n",
    "        if nx < 0 or ny < 0 or nx > 7 or ny > 7 :\n",
    "            continue\n",
    "        answer += 1\n",
    "    return answer"
   ]
  },
  {
   "cell_type": "code",
   "execution_count": 45,
   "metadata": {},
   "outputs": [],
   "source": [
    "position = 'a1'"
   ]
  },
  {
   "cell_type": "code",
   "execution_count": 46,
   "metadata": {},
   "outputs": [
    {
     "data": {
      "text/plain": [
       "2"
      ]
     },
     "execution_count": 46,
     "metadata": {},
     "output_type": "execute_result"
    }
   ],
   "source": [
    "solution(position)"
   ]
  },
  {
   "cell_type": "code",
   "execution_count": 141,
   "metadata": {},
   "outputs": [],
   "source": [
    "def solution(n, m, x, y, d, map) :\n",
    "    answer = 1\n",
    "    \n",
    "    dx = [-1, 0, 1, 0]\n",
    "    dy = [0, 1, 0, -1]\n",
    "    \n",
    "    check = [[0] * m for _ in range(n)]\n",
    "    check[x][y] = 1\n",
    "    \n",
    "    turn_time = 0\n",
    "    while True :\n",
    "        d = turn_left(d)\n",
    "        nx = x + dx[d]\n",
    "        ny = y + dy[d]\n",
    "\n",
    "        if check[nx][ny] == 0 and map[nx][ny] == 0 :\n",
    "            check[nx][ny] = 1\n",
    "            x = nx\n",
    "            y = ny\n",
    "            answer += 1\n",
    "            turn_time = 0\n",
    "            continue\n",
    "        else :\n",
    "            turn_time += 1\n",
    "        \n",
    "        if turn_time == 4 :\n",
    "            nx = x - dx[d]\n",
    "            ny = y - dy[d]\n",
    "            if map[nx][ny] == 0 :\n",
    "                x = nx\n",
    "                y = ny\n",
    "            else :\n",
    "                break\n",
    "            turn_time = 0\n",
    "    \n",
    "    return answer"
   ]
  },
  {
   "cell_type": "code",
   "execution_count": 142,
   "metadata": {},
   "outputs": [],
   "source": [
    "def turn_left(d) :\n",
    "    d -= 1\n",
    "    if d == -1 :\n",
    "        d = 3\n",
    "    return d"
   ]
  },
  {
   "cell_type": "code",
   "execution_count": null,
   "metadata": {},
   "outputs": [],
   "source": []
  },
  {
   "cell_type": "code",
   "execution_count": 143,
   "metadata": {},
   "outputs": [],
   "source": [
    "n = 4\n",
    "m = 4\n",
    "x = 1\n",
    "y = 1\n",
    "d = 0\n",
    "map = [[1,1,1,1], [1,0,0,1], [1,1,0,1], [1,1,1,1]]"
   ]
  },
  {
   "cell_type": "code",
   "execution_count": 144,
   "metadata": {},
   "outputs": [
    {
     "data": {
      "text/plain": [
       "3"
      ]
     },
     "execution_count": 144,
     "metadata": {},
     "output_type": "execute_result"
    }
   ],
   "source": [
    "solution(n, m, x, y, d, map)"
   ]
  },
  {
   "cell_type": "code",
   "execution_count": null,
   "metadata": {},
   "outputs": [],
   "source": []
  },
  {
   "cell_type": "code",
   "execution_count": 36,
   "metadata": {},
   "outputs": [],
   "source": [
    "def solution(data) :\n",
    "    answer = ''\n",
    "    length = len(data)\n",
    "    summary = 0\n",
    "    \n",
    "    for i in range(length // 2) :\n",
    "        summary += int(data[i])\n",
    "        \n",
    "    for i in range(length//2, length) :\n",
    "        summary -= int(data[i])\n",
    "        \n",
    "    if summary == 0 :\n",
    "        answer = 'LUCKY'\n",
    "    else :\n",
    "        answer = 'READY'\n",
    "    return answer"
   ]
  },
  {
   "cell_type": "code",
   "execution_count": 37,
   "metadata": {},
   "outputs": [],
   "source": [
    "data = '123402'"
   ]
  },
  {
   "cell_type": "code",
   "execution_count": 8,
   "metadata": {},
   "outputs": [],
   "source": [
    "data = '7755'"
   ]
  },
  {
   "cell_type": "code",
   "execution_count": 10,
   "metadata": {},
   "outputs": [
    {
     "data": {
      "text/plain": [
       "'READY'"
      ]
     },
     "execution_count": 10,
     "metadata": {},
     "output_type": "execute_result"
    }
   ],
   "source": [
    "solution(data)"
   ]
  },
  {
   "cell_type": "code",
   "execution_count": null,
   "metadata": {},
   "outputs": [],
   "source": []
  },
  {
   "cell_type": "code",
   "execution_count": 4,
   "metadata": {},
   "outputs": [],
   "source": [
    "def solution(data) :\n",
    "    answer = ''\n",
    "    result = []\n",
    "    value = 0\n",
    "    \n",
    "    for x in data :\n",
    "        if x.isalpha() :\n",
    "            result.append(x)\n",
    "        else :\n",
    "            value += int(x)\n",
    "    \n",
    "    result.sort()\n",
    "    \n",
    "    if value != 0 :\n",
    "        result.append(str(value))\n",
    "    \n",
    "    answer = answer.join(result)\n",
    "    return answer"
   ]
  },
  {
   "cell_type": "code",
   "execution_count": 5,
   "metadata": {},
   "outputs": [],
   "source": [
    "data = 'K1KA5CB7'"
   ]
  },
  {
   "cell_type": "code",
   "execution_count": 7,
   "metadata": {},
   "outputs": [],
   "source": [
    "data = 'AJKDLSI412K4JSJ9D'"
   ]
  },
  {
   "cell_type": "code",
   "execution_count": 9,
   "metadata": {},
   "outputs": [
    {
     "data": {
      "text/plain": [
       "'ADDIJJJKKLSS20'"
      ]
     },
     "execution_count": 9,
     "metadata": {},
     "output_type": "execute_result"
    }
   ],
   "source": [
    "solution(data)"
   ]
  },
  {
   "cell_type": "code",
   "execution_count": null,
   "metadata": {},
   "outputs": [],
   "source": []
  },
  {
   "cell_type": "code",
   "execution_count": 20,
   "metadata": {},
   "outputs": [],
   "source": [
    "def solution(data) :\n",
    "    answer = len(data)\n",
    "    for step in range(1, len(data) // 2 + 1) :\n",
    "        compressed = ''\n",
    "        prev = data[0:step]\n",
    "        count = 1\n",
    "        \n",
    "        for j in range(step, len(data), step) :\n",
    "            if prev == data[j:j+step] :\n",
    "                count += 1\n",
    "            else :\n",
    "                compressed += str(count) + prev if count >= 2 else prev\n",
    "                prev = data[j:j+step]\n",
    "                count = 1\n",
    "        compressed += str(count) + prev if count >= 2 else prev\n",
    "        answer = min(answer, len(compressed))\n",
    "    return answer"
   ]
  },
  {
   "cell_type": "code",
   "execution_count": 18,
   "metadata": {},
   "outputs": [],
   "source": [
    "data = 'aabbaccc'"
   ]
  },
  {
   "cell_type": "code",
   "execution_count": 12,
   "metadata": {},
   "outputs": [],
   "source": [
    "data = 'ababcdcdababcdcd'"
   ]
  },
  {
   "cell_type": "code",
   "execution_count": 13,
   "metadata": {},
   "outputs": [],
   "source": [
    "data = 'abcabcdede'"
   ]
  },
  {
   "cell_type": "code",
   "execution_count": 14,
   "metadata": {},
   "outputs": [],
   "source": [
    "data = 'abcabcabcabcdededededede'"
   ]
  },
  {
   "cell_type": "code",
   "execution_count": 15,
   "metadata": {},
   "outputs": [],
   "source": [
    "data = 'xababcdcdababcdcd'"
   ]
  },
  {
   "cell_type": "code",
   "execution_count": 21,
   "metadata": {},
   "outputs": [
    {
     "data": {
      "text/plain": [
       "7"
      ]
     },
     "execution_count": 21,
     "metadata": {},
     "output_type": "execute_result"
    }
   ],
   "source": [
    "solution(data)"
   ]
  },
  {
   "cell_type": "code",
   "execution_count": null,
   "metadata": {},
   "outputs": [],
   "source": []
  },
  {
   "cell_type": "code",
   "execution_count": 27,
   "metadata": {},
   "outputs": [],
   "source": [
    "def rotate_a_matrix_by_90_degree(a) :\n",
    "    n = len(a)\n",
    "    m = len(a[0])\n",
    "    result = [[0] * m for _ in range(n)]\n",
    "    for i in range(n):\n",
    "        for j in range(m) :\n",
    "            result[j][n-i-1] = a[i][j]\n",
    "    return result"
   ]
  },
  {
   "cell_type": "code",
   "execution_count": 32,
   "metadata": {},
   "outputs": [],
   "source": [
    "def check(new_lock) :\n",
    "    lock_length = len(new_lock) // 3\n",
    "    for i in range(lock_length, lock_length * 2) :\n",
    "        for j in range(lock_length, lock_length * 2) :\n",
    "            if new_lock[i][j] != 1 :\n",
    "                return False\n",
    "    return True"
   ]
  },
  {
   "cell_type": "code",
   "execution_count": 33,
   "metadata": {},
   "outputs": [],
   "source": [
    "def solution(key, lock) :\n",
    "    n = len(lock)\n",
    "    m = len(key)\n",
    "    \n",
    "    new_lock = [[0] * (n*3) for _ in range(n*3)]\n",
    "    \n",
    "    for i in range(n) :\n",
    "        for j in range(n) :\n",
    "            new_lock[i+n][j+n] = lock[i][j]\n",
    "            \n",
    "    for rotation in range(4) :\n",
    "        key = rotate_a_matrix_by_90_degree(key)\n",
    "        for x in range(n*2) :\n",
    "            for y in range(n*2) :\n",
    "                for i in range(m) :\n",
    "                    for j in range(m) :\n",
    "                        new_lock[x+i][y+j] += key[i][j]\n",
    "                if check(new_lock) == True :\n",
    "                    return True\n",
    "                for i in range(m) :\n",
    "                    for j in range(m) :\n",
    "                        new_lock[x+i][y+j] -= key[i][j]\n",
    "    return False"
   ]
  },
  {
   "cell_type": "code",
   "execution_count": 34,
   "metadata": {},
   "outputs": [],
   "source": [
    "key = [[0, 0, 0], [1, 0, 0], [0, 1, 1]]\n",
    "lock = [[1, 1, 1], [1, 1, 0], [1, 0, 1]]"
   ]
  },
  {
   "cell_type": "code",
   "execution_count": 35,
   "metadata": {},
   "outputs": [
    {
     "data": {
      "text/plain": [
       "True"
      ]
     },
     "execution_count": 35,
     "metadata": {},
     "output_type": "execute_result"
    }
   ],
   "source": [
    "solution(key, lock)"
   ]
  },
  {
   "cell_type": "code",
   "execution_count": null,
   "metadata": {},
   "outputs": [],
   "source": []
  },
  {
   "cell_type": "code",
   "execution_count": 183,
   "metadata": {},
   "outputs": [],
   "source": [
    "def turn(direction, c) :\n",
    "    if c == \"L\" :\n",
    "        direction = (direction - 1) % 4\n",
    "    else :\n",
    "        direction = (direction + 1) % 4\n",
    "    return direction"
   ]
  },
  {
   "cell_type": "code",
   "execution_count": 190,
   "metadata": {},
   "outputs": [],
   "source": [
    "def solution(n, k, apple, l, direction) :\n",
    "    data = [[0] * (n+1) for _ in range(n+1)]\n",
    "    info = []\n",
    "    \n",
    "    for a, b in apple :\n",
    "        data[a][b] = 1\n",
    "    \n",
    "    for x, c in direction :\n",
    "        info.append((x, c))\n",
    "    \n",
    "    dx = [0, 1, 0, -1]\n",
    "    dy = [1, 0, -1, 0]\n",
    "    \n",
    "    x, y = 1, 1\n",
    "    data[x][y] = 2\n",
    "    direction = 0\n",
    "    time = 0\n",
    "    index = 0\n",
    "    q = [(x, y)]\n",
    "    while True :\n",
    "        nx = x + dx[direction]\n",
    "        ny = y + dy[direction]\n",
    "        \n",
    "        if 1 <= nx and nx <= n and 1<= ny and ny <= n and data[nx][ny] != 2 :\n",
    "            if data[nx][ny] == 0 :\n",
    "                data[nx][ny] = 2\n",
    "                q.append((nx, ny))\n",
    "                px, py = q.pop(0)\n",
    "                data[px][py] = 0\n",
    "            if data[nx][ny] == 1:\n",
    "                data[nx][ny] = 2\n",
    "                q.append((nx, ny))\n",
    "        else :\n",
    "            time += 1\n",
    "            break\n",
    "        x, y = nx, ny\n",
    "        time += 1\n",
    "        if index > -1 and index < len(info) and time == info[index][0] :\n",
    "            direction = turn(direction, info[index][1])\n",
    "            index += 1\n",
    "    return time"
   ]
  },
  {
   "cell_type": "code",
   "execution_count": 191,
   "metadata": {},
   "outputs": [],
   "source": [
    "n=6\n",
    "k=3\n",
    "apple=[[3,4], [2,5], [5,3]]\n",
    "l = 3\n",
    "direction = [[3, 'D'], [15, 'L'], [17, 'D']]"
   ]
  },
  {
   "cell_type": "code",
   "execution_count": 193,
   "metadata": {},
   "outputs": [],
   "source": [
    "n=10\n",
    "k=4\n",
    "apple=[[1,2], [1,3], [1,4], [1,5]]\n",
    "l = 4\n",
    "direction = [[8, 'D'], [10, 'D'], [11, 'D'], [13, 'L']]"
   ]
  },
  {
   "cell_type": "code",
   "execution_count": 195,
   "metadata": {},
   "outputs": [],
   "source": [
    "n=10\n",
    "k=5\n",
    "apple=[[1,5], [1,3], [1,2], [1,6], [1,7]]\n",
    "l=4\n",
    "direction = [[8, 'D'], [10, 'D'], [11, 'D'], [13, 'L']]"
   ]
  },
  {
   "cell_type": "code",
   "execution_count": 196,
   "metadata": {},
   "outputs": [
    {
     "data": {
      "text/plain": [
       "13"
      ]
     },
     "execution_count": 196,
     "metadata": {},
     "output_type": "execute_result"
    }
   ],
   "source": [
    "solution(n, k, apple, l, direction)"
   ]
  },
  {
   "cell_type": "code",
   "execution_count": null,
   "metadata": {},
   "outputs": [],
   "source": []
  },
  {
   "cell_type": "code",
   "execution_count": 71,
   "metadata": {},
   "outputs": [],
   "source": [
    "def possible(answer) :\n",
    "    for x, y, stuff in answer:\n",
    "        if stuff == 0:\n",
    "            if y == 0 or [x-1, y, 1] in answer or [x, y, 1] in answer or [x, y-1, 0] in answer :\n",
    "                continue\n",
    "            return False\n",
    "        elif stuff == 1 :\n",
    "            if [x, y-1, 0] in answer or [x+1, y-1, 0] in answer or ([x-1, y, 1] in answer and [x+1, y, 1] in answer) :\n",
    "                continue\n",
    "            return False\n",
    "    return True"
   ]
  },
  {
   "cell_type": "code",
   "execution_count": 72,
   "metadata": {},
   "outputs": [],
   "source": [
    "def solution(n, build_frame) :\n",
    "    answer = []\n",
    "    for frame in build_frame :\n",
    "        x, y, stuff, operate = frame\n",
    "        if operate == 0 :\n",
    "            answer.remove([x, y, stuff])\n",
    "            if not possible(answer) :\n",
    "                answer.append([x, y, stuff])\n",
    "        if operate == 1:\n",
    "            answer.append([x, y, stuff])\n",
    "            if not possible(answer) :\n",
    "                answer.remove([x, y, stuff])\n",
    "            \n",
    "    return sorted(answer)"
   ]
  },
  {
   "cell_type": "code",
   "execution_count": 73,
   "metadata": {},
   "outputs": [],
   "source": [
    "n = 5\n",
    "build_frame = [[1,0,0,1], [1,1,1,1], [2,1,0,1], [2,2,1,1], [5,0,0,1], [5,1,0,1], [4,2,1,1], [3,2,1,1]]"
   ]
  },
  {
   "cell_type": "code",
   "execution_count": 75,
   "metadata": {},
   "outputs": [],
   "source": [
    "n = 5\n",
    "build_frame = [[0,0,0,1], [2,0,0,1], [4,0,0,1], [0,1,1,1], [1,1,1,1], [2,1,1,1], [3,1,1,1], [2,0,0,0], [1,1,1,0], [2,2,0,1]]"
   ]
  },
  {
   "cell_type": "code",
   "execution_count": 76,
   "metadata": {},
   "outputs": [
    {
     "data": {
      "text/plain": [
       "[[0, 0, 0], [0, 1, 1], [1, 1, 1], [2, 1, 1], [3, 1, 1], [4, 0, 0]]"
      ]
     },
     "execution_count": 76,
     "metadata": {},
     "output_type": "execute_result"
    }
   ],
   "source": [
    "solution(n, build_frame)"
   ]
  },
  {
   "cell_type": "code",
   "execution_count": null,
   "metadata": {},
   "outputs": [],
   "source": []
  },
  {
   "cell_type": "code",
   "execution_count": 77,
   "metadata": {},
   "outputs": [],
   "source": [
    "from itertools import combinations"
   ]
  },
  {
   "cell_type": "code",
   "execution_count": 83,
   "metadata": {},
   "outputs": [],
   "source": [
    "def solution(n, m, data) :\n",
    "    chicken, house = [], []\n",
    "    \n",
    "    for r in range(len(data)) :\n",
    "        for c in range(len(data[r])) :\n",
    "            if data[r][c] == 1:\n",
    "                house.append((r,c))\n",
    "            elif data[r][c] == 2:\n",
    "                chicken.append((r,c))\n",
    "                \n",
    "    candidates = list(combinations(chicken, m))\n",
    "    \n",
    "    result = 1e9\n",
    "    for candidate in candidates :\n",
    "        result = min(result, get_sum(candidate, house))\n",
    "    return result"
   ]
  },
  {
   "cell_type": "code",
   "execution_count": 84,
   "metadata": {},
   "outputs": [],
   "source": [
    "def get_sum(candidate, house) :\n",
    "    result = 0\n",
    "    for hx, hy in house:\n",
    "        temp = 1e9\n",
    "        for cx, cy in candidate:\n",
    "            temp = min(temp, abs(hx-cx) + abs(hy-cy))\n",
    "        result += temp\n",
    "    return result"
   ]
  },
  {
   "cell_type": "code",
   "execution_count": 85,
   "metadata": {},
   "outputs": [],
   "source": [
    "n = 5\n",
    "m = 3\n",
    "data = [[0,0,1,0,0], [0,0,2,0,1], [0,1,2,0,0], [0,0,1,0,0], [0,0,0,0,2]]"
   ]
  },
  {
   "cell_type": "code",
   "execution_count": 89,
   "metadata": {},
   "outputs": [],
   "source": [
    "n = 5\n",
    "m = 2\n",
    "data = [[0,2,0,1,0], [1,0,1,0,0], [0,0,0,0,0], [2,0,0,1,1], [2,2,0,1,2]]"
   ]
  },
  {
   "cell_type": "code",
   "execution_count": 92,
   "metadata": {},
   "outputs": [],
   "source": [
    "n = 5\n",
    "m = 1\n",
    "data = [[1,2,0,0,0], [1,2,0,0,0], [1,2.0,0,0], [1,2,0,0,0], [1,2,0,0,0]]"
   ]
  },
  {
   "cell_type": "code",
   "execution_count": 93,
   "metadata": {},
   "outputs": [],
   "source": [
    "n = 5\n",
    "m = 1\n",
    "data = [[1,2,0,2,1], [1,2,0,2,1], [1,2,0,2,1], [1,2,0,2,1], [1,2,0,2,1]]"
   ]
  },
  {
   "cell_type": "code",
   "execution_count": 94,
   "metadata": {},
   "outputs": [
    {
     "data": {
      "text/plain": [
       "32"
      ]
     },
     "execution_count": 94,
     "metadata": {},
     "output_type": "execute_result"
    }
   ],
   "source": [
    "solution(n, m, data)"
   ]
  },
  {
   "cell_type": "code",
   "execution_count": null,
   "metadata": {},
   "outputs": [],
   "source": []
  },
  {
   "cell_type": "code",
   "execution_count": 95,
   "metadata": {},
   "outputs": [],
   "source": [
    "from itertools import permutations"
   ]
  },
  {
   "cell_type": "code",
   "execution_count": 96,
   "metadata": {},
   "outputs": [],
   "source": [
    "def solution(n, weak, dist) :\n",
    "    length = len(weak)\n",
    "    for i in range(length) :\n",
    "        weak.append(weak[i] + n)\n",
    "    answer = len(dist) + 1\n",
    "    for start in range(length) :\n",
    "        for friends in list(permutations(dist, len(dist))) :\n",
    "            count = 1\n",
    "            position = weak[start] + friends[count-1]\n",
    "            for index in range(start, start+length) :\n",
    "                if position < weak[index] :\n",
    "                    count += 1\n",
    "                    if count > len(dist) :\n",
    "                        break\n",
    "                    position = weak[index] + friends[count-1]\n",
    "            answer = min(answer, count)\n",
    "    if answer > len(dist) :\n",
    "        return -1\n",
    "    return answer"
   ]
  },
  {
   "cell_type": "code",
   "execution_count": 99,
   "metadata": {},
   "outputs": [],
   "source": [
    "n = 12\n",
    "weak = [1,5,6,10]\n",
    "dist = [1,2,3,4]"
   ]
  },
  {
   "cell_type": "code",
   "execution_count": 100,
   "metadata": {},
   "outputs": [],
   "source": [
    "n = 12\n",
    "weak = [1,3,4,9,10]\n",
    "dist = [3,5,7]"
   ]
  },
  {
   "cell_type": "code",
   "execution_count": 101,
   "metadata": {},
   "outputs": [
    {
     "data": {
      "text/plain": [
       "1"
      ]
     },
     "execution_count": 101,
     "metadata": {},
     "output_type": "execute_result"
    }
   ],
   "source": [
    "solution(n,weak, dist)"
   ]
  },
  {
   "cell_type": "code",
   "execution_count": null,
   "metadata": {},
   "outputs": [],
   "source": []
  }
 ],
 "metadata": {
  "kernelspec": {
   "display_name": "Python 3",
   "language": "python",
   "name": "python3"
  },
  "language_info": {
   "codemirror_mode": {
    "name": "ipython",
    "version": 3
   },
   "file_extension": ".py",
   "mimetype": "text/x-python",
   "name": "python",
   "nbconvert_exporter": "python",
   "pygments_lexer": "ipython3",
   "version": "3.7.9"
  }
 },
 "nbformat": 4,
 "nbformat_minor": 4
}
