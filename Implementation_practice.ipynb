{
 "cells": [
  {
   "cell_type": "markdown",
   "metadata": {},
   "source": [
    "# Q07"
   ]
  },
  {
   "cell_type": "code",
   "execution_count": 1,
   "metadata": {},
   "outputs": [],
   "source": [
    "def solution(data) :\n",
    "    answer = ''\n",
    "    \n",
    "    temp = 0\n",
    "    for i in range(len(data)//2) :\n",
    "        temp += int(data[i])\n",
    "    \n",
    "    for j in range(len(data)//2, len(data)) :\n",
    "        temp -= int(data[j])\n",
    "    \n",
    "    if temp == 0 :\n",
    "        answer = 'LUCKY'\n",
    "    else :\n",
    "        answer = 'READY'\n",
    "    return answer"
   ]
  },
  {
   "cell_type": "code",
   "execution_count": 2,
   "metadata": {},
   "outputs": [],
   "source": [
    "data = '123402'\n",
    "# LUCKY"
   ]
  },
  {
   "cell_type": "code",
   "execution_count": 4,
   "metadata": {},
   "outputs": [],
   "source": [
    "data = '7755'\n",
    "# READY"
   ]
  },
  {
   "cell_type": "code",
   "execution_count": 5,
   "metadata": {},
   "outputs": [
    {
     "data": {
      "text/plain": [
       "'READY'"
      ]
     },
     "execution_count": 5,
     "metadata": {},
     "output_type": "execute_result"
    }
   ],
   "source": [
    "solution(data)"
   ]
  },
  {
   "cell_type": "code",
   "execution_count": null,
   "metadata": {},
   "outputs": [],
   "source": []
  },
  {
   "cell_type": "markdown",
   "metadata": {},
   "source": [
    "# Q08"
   ]
  },
  {
   "cell_type": "code",
   "execution_count": 9,
   "metadata": {},
   "outputs": [],
   "source": [
    "def solution(data) :\n",
    "    answer = ''\n",
    "    \n",
    "    char = ''\n",
    "    temp = 0\n",
    "    for i in data :\n",
    "        if i.isalpha() :\n",
    "            char += i\n",
    "        else :\n",
    "            temp += int(i)\n",
    "    char = sorted(char)\n",
    "    answer = ''.join(char)\n",
    "    \n",
    "    if temp != 0 :\n",
    "        answer += str(temp)\n",
    "            \n",
    "    return answer"
   ]
  },
  {
   "cell_type": "code",
   "execution_count": 10,
   "metadata": {},
   "outputs": [],
   "source": [
    "data = 'K1KA5CB7'\n",
    "# ABCKK13"
   ]
  },
  {
   "cell_type": "code",
   "execution_count": 12,
   "metadata": {},
   "outputs": [],
   "source": [
    "data = 'AJKDLSI412K4JSJ9D'\n",
    "# ADDIJJJKKLSS20"
   ]
  },
  {
   "cell_type": "code",
   "execution_count": 14,
   "metadata": {},
   "outputs": [],
   "source": [
    "data = 'FDSA'\n",
    "# ADFS"
   ]
  },
  {
   "cell_type": "code",
   "execution_count": 15,
   "metadata": {},
   "outputs": [
    {
     "data": {
      "text/plain": [
       "'ADFS'"
      ]
     },
     "execution_count": 15,
     "metadata": {},
     "output_type": "execute_result"
    }
   ],
   "source": [
    "solution(data)"
   ]
  },
  {
   "cell_type": "code",
   "execution_count": null,
   "metadata": {},
   "outputs": [],
   "source": []
  },
  {
   "cell_type": "markdown",
   "metadata": {},
   "source": [
    "# Q09"
   ]
  },
  {
   "cell_type": "code",
   "execution_count": 19,
   "metadata": {},
   "outputs": [],
   "source": [
    "def solution(data) :\n",
    "    answer = len(data)\n",
    "    \n",
    "    for step in range(1, len(data)//2 + 1) :\n",
    "        prev = data[:step]\n",
    "        extracted = ''\n",
    "        cnt = 1\n",
    "        for idx in range(step, len(data), step) :\n",
    "            if prev == data[idx:idx+step] :\n",
    "                cnt += 1\n",
    "            else :\n",
    "                extracted += str(cnt) + prev if cnt > 1 else prev\n",
    "                prev = data[idx:idx+step]\n",
    "                cnt = 1\n",
    "        extracted += str(cnt) + prev if cnt > 1 else prev\n",
    "        answer = min(answer, len(extracted))\n",
    "    \n",
    "    return answer"
   ]
  },
  {
   "cell_type": "code",
   "execution_count": 20,
   "metadata": {},
   "outputs": [],
   "source": [
    "data = 'aabbaccc'\n",
    "# 7"
   ]
  },
  {
   "cell_type": "code",
   "execution_count": 22,
   "metadata": {},
   "outputs": [],
   "source": [
    "data = 'ababcdcdababcdcd'\n",
    "# 9"
   ]
  },
  {
   "cell_type": "code",
   "execution_count": 24,
   "metadata": {},
   "outputs": [],
   "source": [
    "data = 'abcabcdede'\n",
    "# 8"
   ]
  },
  {
   "cell_type": "code",
   "execution_count": 26,
   "metadata": {},
   "outputs": [],
   "source": [
    "data = 'abcabcabcabcdededededede'\n",
    "# 14"
   ]
  },
  {
   "cell_type": "code",
   "execution_count": 28,
   "metadata": {},
   "outputs": [],
   "source": [
    "data = 'xababcdcdababcdcd'\n",
    "# 17"
   ]
  },
  {
   "cell_type": "code",
   "execution_count": 29,
   "metadata": {},
   "outputs": [
    {
     "data": {
      "text/plain": [
       "17"
      ]
     },
     "execution_count": 29,
     "metadata": {},
     "output_type": "execute_result"
    }
   ],
   "source": [
    "solution(data)"
   ]
  },
  {
   "cell_type": "code",
   "execution_count": null,
   "metadata": {},
   "outputs": [],
   "source": []
  },
  {
   "cell_type": "markdown",
   "metadata": {},
   "source": [
    "# Q10"
   ]
  },
  {
   "cell_type": "code",
   "execution_count": 101,
   "metadata": {},
   "outputs": [],
   "source": [
    "def rotate_a_matrix_90_degree(a) :\n",
    "    r = len(a)\n",
    "    c = len(a[0])\n",
    "    \n",
    "    matrix = [[0] * r for _ in range(c)]\n",
    "    for i in range(r) :\n",
    "        for j in range(c) :\n",
    "            matrix[j][r-i-1] = a[i][j]\n",
    "    return matrix"
   ]
  },
  {
   "cell_type": "code",
   "execution_count": 102,
   "metadata": {},
   "outputs": [],
   "source": [
    "def check(data) :\n",
    "    n = len(data)//3\n",
    "    \n",
    "    for i in range(n, 2*n) :\n",
    "        for j in range(n, 2*n) :\n",
    "            if data[i][j] != 1 :\n",
    "                return False\n",
    "    return True"
   ]
  },
  {
   "cell_type": "code",
   "execution_count": 103,
   "metadata": {},
   "outputs": [],
   "source": [
    "def solution(key, lock) :\n",
    "    n = len(lock)\n",
    "    m = len(key)\n",
    "    \n",
    "    data = [[0] * (n*3) for _ in range(n*3)]\n",
    "    \n",
    "    for i in range(n) :\n",
    "        for j in range(n) :\n",
    "            data[i+n][j+n] = lock[i][j]\n",
    "    \n",
    "    for rotate in range(4) :\n",
    "        key = rotate_a_matrix_90_degree(key)\n",
    "        \n",
    "        for i in range(2*n) :\n",
    "            for j in range(2*n) :\n",
    "                for x in range(m) :\n",
    "                    for y in range(m) :\n",
    "                        data[i+x][j+y] += key[x][y]\n",
    "                if check(data) :\n",
    "                    return True\n",
    "                for x in range(m) :\n",
    "                    for y in range(m) :\n",
    "                        data[i+x][j+y] -= key[x][y]\n",
    "                        \n",
    "    return False"
   ]
  },
  {
   "cell_type": "code",
   "execution_count": 104,
   "metadata": {},
   "outputs": [],
   "source": [
    "key = [[0, 0, 0], [1, 0, 0], [0, 1, 1]]\n",
    "lock = [[1, 1, 1], [1, 1, 0], [1, 0, 1]]"
   ]
  },
  {
   "cell_type": "code",
   "execution_count": 105,
   "metadata": {},
   "outputs": [
    {
     "data": {
      "text/plain": [
       "True"
      ]
     },
     "execution_count": 105,
     "metadata": {},
     "output_type": "execute_result"
    }
   ],
   "source": [
    "solution(key, lock)\n",
    "# True"
   ]
  },
  {
   "cell_type": "code",
   "execution_count": null,
   "metadata": {},
   "outputs": [],
   "source": []
  },
  {
   "cell_type": "markdown",
   "metadata": {},
   "source": [
    "# Q11"
   ]
  },
  {
   "cell_type": "code",
   "execution_count": 106,
   "metadata": {},
   "outputs": [],
   "source": [
    "from collections import deque"
   ]
  },
  {
   "cell_type": "code",
   "execution_count": 156,
   "metadata": {},
   "outputs": [],
   "source": [
    "def turn(direct, cmd) :\n",
    "    if cmd == 'L' :\n",
    "        direct = (direct-1) % 4\n",
    "    else :\n",
    "        direct = (direct+1) % 4\n",
    "    return direct"
   ]
  },
  {
   "cell_type": "code",
   "execution_count": 164,
   "metadata": {},
   "outputs": [],
   "source": [
    "def solution(n, k, apple, l, direction) :\n",
    "    time = 0\n",
    "    data = [[0] * (n+1) for _ in range(n+1)]\n",
    "    \n",
    "    for a,b in apple :\n",
    "        data[a][b] = 1\n",
    "        \n",
    "    dx = [0, 1, 0, -1]\n",
    "    dy = [1, 0, -1, 0]\n",
    "    \n",
    "    x, y = 1,1\n",
    "    q = [(x,y)]\n",
    "    data[x][y] = 2\n",
    "    direct = 0\n",
    "    idx = 0\n",
    "    while True :\n",
    "        nx = x + dx[direct]\n",
    "        ny = y + dy[direct]\n",
    "        \n",
    "        if nx>=1 and nx<=n and ny>=1 and ny<=n and data[nx][ny] != 2:\n",
    "            if data[nx][ny] == 0 :\n",
    "                data[nx][ny] = 2\n",
    "                q.append((nx, ny))\n",
    "                px, py = q.pop(0)\n",
    "                data[px][py] = 0\n",
    "            else :\n",
    "                data[nx][ny] = 2\n",
    "                q.append((nx, ny))\n",
    "            time += 1\n",
    "            x, y = nx, ny\n",
    "            if idx >= 0 and idx<len(direction) and direction[idx][0] == time :\n",
    "                direct = turn(direct, direction[idx][1])\n",
    "                idx += 1\n",
    "        else :\n",
    "            time += 1\n",
    "            break\n",
    "    \n",
    "    \n",
    "    return time"
   ]
  },
  {
   "cell_type": "code",
   "execution_count": 165,
   "metadata": {},
   "outputs": [],
   "source": [
    "n=6\n",
    "k=3\n",
    "apple=[[3,4], [2,5], [5,3]]\n",
    "l = 3\n",
    "direction = [[3, 'D'], [15, 'L'], [17, 'D']]\n",
    "\n",
    "# 9"
   ]
  },
  {
   "cell_type": "code",
   "execution_count": 167,
   "metadata": {},
   "outputs": [],
   "source": [
    "n=10\n",
    "k=4\n",
    "apple=[[1,2], [1,3], [1,4], [1,5]]\n",
    "l = 4\n",
    "direction = [[8, 'D'], [10, 'D'], [11, 'D'], [13, 'L']]\n",
    "\n",
    "# 21"
   ]
  },
  {
   "cell_type": "code",
   "execution_count": 169,
   "metadata": {},
   "outputs": [],
   "source": [
    "n=10\n",
    "k=5\n",
    "apple=[[1,5], [1,3], [1,2], [1,6], [1,7]]\n",
    "l=4\n",
    "direction = [[8, 'D'], [10, 'D'], [11, 'D'], [13, 'L']]\n",
    "\n",
    "# 13"
   ]
  },
  {
   "cell_type": "code",
   "execution_count": 170,
   "metadata": {},
   "outputs": [
    {
     "data": {
      "text/plain": [
       "13"
      ]
     },
     "execution_count": 170,
     "metadata": {},
     "output_type": "execute_result"
    }
   ],
   "source": [
    "solution(n, k, apple, l, direction)"
   ]
  },
  {
   "cell_type": "code",
   "execution_count": null,
   "metadata": {},
   "outputs": [],
   "source": []
  },
  {
   "cell_type": "markdown",
   "metadata": {},
   "source": [
    "# Q12"
   ]
  },
  {
   "cell_type": "code",
   "execution_count": 190,
   "metadata": {},
   "outputs": [],
   "source": [
    "def possible(answer) :\n",
    "    for frame in answer :\n",
    "        x, y, stuff = frame\n",
    "        \n",
    "        if stuff == 0 :\n",
    "            if y == 0 or [x,y-1,0] in answer or [x-1, y, 1] in answer or [x,y,1] in answer:\n",
    "                continue\n",
    "            return False\n",
    "        else :\n",
    "            if [x,y-1,0] in answer or [x+1, y-1, 0] in answer or ([x-1,y,1] in answer and [x+1, y, 1] in answer) :\n",
    "                continue\n",
    "            return False\n",
    "    return True"
   ]
  },
  {
   "cell_type": "code",
   "execution_count": 191,
   "metadata": {},
   "outputs": [],
   "source": [
    "def solution(n, build_frame) :\n",
    "    answer = []\n",
    "    \n",
    "    for frame in build_frame :\n",
    "        x, y, stuff, operation = frame\n",
    "        \n",
    "        if operation == 1 :\n",
    "            answer.append([x, y, stuff])\n",
    "            if not possible(answer) :\n",
    "                answer.remove([x,y,stuff])\n",
    "        else :\n",
    "            answer.remove([x,y,stuff])\n",
    "            if not possible(answer) :\n",
    "                answer.append([x,y,stuff])\n",
    "    return sorted(answer)"
   ]
  },
  {
   "cell_type": "code",
   "execution_count": 192,
   "metadata": {},
   "outputs": [
    {
     "data": {
      "text/plain": [
       "'\\n[[1, 0, 0],\\n [1, 1, 1],\\n [2, 1, 0],\\n [2, 2, 1],\\n [3, 2, 1],\\n [4, 2, 1],\\n [5, 0, 0],\\n [5, 1, 0]]\\n'"
      ]
     },
     "execution_count": 192,
     "metadata": {},
     "output_type": "execute_result"
    }
   ],
   "source": [
    "n = 5\n",
    "build_frame = [[1,0,0,1], [1,1,1,1], [2,1,0,1], [2,2,1,1], [5,0,0,1], [5,1,0,1], [4,2,1,1], [3,2,1,1]]\n",
    "\n",
    "\"\"\"\n",
    "[[1, 0, 0],\n",
    " [1, 1, 1],\n",
    " [2, 1, 0],\n",
    " [2, 2, 1],\n",
    " [3, 2, 1],\n",
    " [4, 2, 1],\n",
    " [5, 0, 0],\n",
    " [5, 1, 0]]\n",
    "\"\"\""
   ]
  },
  {
   "cell_type": "code",
   "execution_count": 193,
   "metadata": {},
   "outputs": [
    {
     "data": {
      "text/plain": [
       "'\\n[[0, 0, 0], [0, 1, 1], [1, 1, 1], [2, 1, 1], [3, 1, 1], [4, 0, 0]]\\n'"
      ]
     },
     "execution_count": 193,
     "metadata": {},
     "output_type": "execute_result"
    }
   ],
   "source": [
    "n = 5\n",
    "build_frame = [[0,0,0,1], [2,0,0,1], [4,0,0,1], [0,1,1,1], [1,1,1,1], [2,1,1,1], [3,1,1,1], [2,0,0,0], [1,1,1,0], [2,2,0,1]]\n",
    "\n",
    "\"\"\"\n",
    "[[0, 0, 0], [0, 1, 1], [1, 1, 1], [2, 1, 1], [3, 1, 1], [4, 0, 0]]\n",
    "\"\"\""
   ]
  },
  {
   "cell_type": "code",
   "execution_count": 194,
   "metadata": {},
   "outputs": [
    {
     "data": {
      "text/plain": [
       "[[0, 0, 0], [0, 1, 1], [1, 1, 1], [2, 1, 1], [3, 1, 1], [4, 0, 0]]"
      ]
     },
     "execution_count": 194,
     "metadata": {},
     "output_type": "execute_result"
    }
   ],
   "source": [
    "solution(n, build_frame)"
   ]
  },
  {
   "cell_type": "code",
   "execution_count": null,
   "metadata": {},
   "outputs": [],
   "source": []
  },
  {
   "cell_type": "markdown",
   "metadata": {},
   "source": [
    "# Q13"
   ]
  },
  {
   "cell_type": "code",
   "execution_count": 195,
   "metadata": {},
   "outputs": [],
   "source": [
    "from itertools import combinations"
   ]
  },
  {
   "cell_type": "code",
   "execution_count": 196,
   "metadata": {},
   "outputs": [],
   "source": [
    "def get_chicken_dist(house, candidate) :\n",
    "    chicken_dist = 0\n",
    "    for h1, h2 in house :\n",
    "        dist = 1e9\n",
    "        for c1, c2 in candidate :\n",
    "            dist = min(dist, abs(h1-c1) + abs(h2-c2))\n",
    "        chicken_dist += dist\n",
    "    return chicken_dist"
   ]
  },
  {
   "cell_type": "code",
   "execution_count": 200,
   "metadata": {},
   "outputs": [],
   "source": [
    "def solution(n, m, data) :\n",
    "    result = 1e9\n",
    "    \n",
    "    house, chicken = [], []\n",
    "    \n",
    "    for i in range(n) :\n",
    "        for j in range(n) :\n",
    "            if data[i][j] == 1 :\n",
    "                house.append((i, j))\n",
    "            elif data[i][j] == 2 :\n",
    "                chicken.append((i,j))\n",
    "    \n",
    "    candidates = combinations(chicken, m)\n",
    "    \n",
    "    for candidate in candidates :\n",
    "        candidate_dist = get_chicken_dist(house, candidate)\n",
    "        result = min(result, candidate_dist)\n",
    "    return result"
   ]
  },
  {
   "cell_type": "code",
   "execution_count": 201,
   "metadata": {},
   "outputs": [],
   "source": [
    "n = 5\n",
    "m = 3\n",
    "data = [[0,0,1,0,0], [0,0,2,0,1], [0,1,2,0,0], [0,0,1,0,0], [0,0,0,0,2]]\n",
    "# 5"
   ]
  },
  {
   "cell_type": "code",
   "execution_count": 203,
   "metadata": {},
   "outputs": [],
   "source": [
    "n = 5\n",
    "m = 2\n",
    "data = [[0,2,0,1,0], [1,0,1,0,0], [0,0,0,0,0], [2,0,0,1,1], [2,2,0,1,2]]\n",
    "# 10"
   ]
  },
  {
   "cell_type": "code",
   "execution_count": 205,
   "metadata": {},
   "outputs": [],
   "source": [
    "n = 5\n",
    "m = 1\n",
    "data = [[1,2,0,0,0], [1,2,0,0,0], [1,2,0,0,0], [1,2,0,0,0], [1,2,0,0,0]]\n",
    "# 11"
   ]
  },
  {
   "cell_type": "code",
   "execution_count": 207,
   "metadata": {},
   "outputs": [],
   "source": [
    "n = 5\n",
    "m = 1\n",
    "data = [[1,2,0,2,1], [1,2,0,2,1], [1,2,0,2,1], [1,2,0,2,1], [1,2,0,2,1]]\n",
    "# 32"
   ]
  },
  {
   "cell_type": "code",
   "execution_count": 208,
   "metadata": {},
   "outputs": [
    {
     "data": {
      "text/plain": [
       "32"
      ]
     },
     "execution_count": 208,
     "metadata": {},
     "output_type": "execute_result"
    }
   ],
   "source": [
    "solution(n, m, data)"
   ]
  },
  {
   "cell_type": "code",
   "execution_count": null,
   "metadata": {},
   "outputs": [],
   "source": []
  },
  {
   "cell_type": "markdown",
   "metadata": {},
   "source": [
    "# Q14"
   ]
  },
  {
   "cell_type": "code",
   "execution_count": 213,
   "metadata": {},
   "outputs": [],
   "source": [
    "from itertools import permutations"
   ]
  },
  {
   "cell_type": "code",
   "execution_count": 218,
   "metadata": {},
   "outputs": [],
   "source": [
    "def solution(n, weak, dist) :\n",
    "    answer = len(dist) + 1\n",
    "    length = len(weak)\n",
    "    \n",
    "    for i in range(length) :\n",
    "        weak.append(weak[i]+n)\n",
    "    \n",
    "    for start in range(length) :\n",
    "        for friends in list(permutations(dist, len(dist))) :\n",
    "            count = 1\n",
    "            position = weak[start] + friends[count-1]\n",
    "            for index in range(start, start+length) :\n",
    "                if position < weak[index] :\n",
    "                    count += 1\n",
    "                    if count > len(dist) :\n",
    "                        break\n",
    "                    position = weak[index] + friends[count-1]\n",
    "            answer = min(answer, count)\n",
    "    \n",
    "    if answer > len(dist) :\n",
    "        return -1\n",
    "    return answer"
   ]
  },
  {
   "cell_type": "code",
   "execution_count": 219,
   "metadata": {},
   "outputs": [],
   "source": [
    "n = 12\n",
    "weak = [1,5,6,10]\n",
    "dist = [1,2,3,4]\n",
    "# 2"
   ]
  },
  {
   "cell_type": "code",
   "execution_count": 221,
   "metadata": {},
   "outputs": [],
   "source": [
    "n = 12\n",
    "weak = [1,3,4,9,10]\n",
    "dist = [3,5,7]\n",
    "# 1"
   ]
  },
  {
   "cell_type": "code",
   "execution_count": 222,
   "metadata": {},
   "outputs": [
    {
     "data": {
      "text/plain": [
       "1"
      ]
     },
     "execution_count": 222,
     "metadata": {},
     "output_type": "execute_result"
    }
   ],
   "source": [
    "solution(n,weak, dist)"
   ]
  },
  {
   "cell_type": "code",
   "execution_count": null,
   "metadata": {},
   "outputs": [],
   "source": []
  }
 ],
 "metadata": {
  "kernelspec": {
   "display_name": "Python 3",
   "language": "python",
   "name": "python3"
  },
  "language_info": {
   "codemirror_mode": {
    "name": "ipython",
    "version": 3
   },
   "file_extension": ".py",
   "mimetype": "text/x-python",
   "name": "python",
   "nbconvert_exporter": "python",
   "pygments_lexer": "ipython3",
   "version": "3.7.9"
  }
 },
 "nbformat": 4,
 "nbformat_minor": 4
}
