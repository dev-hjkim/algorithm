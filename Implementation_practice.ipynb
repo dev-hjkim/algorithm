{
 "cells": [
  {
   "cell_type": "markdown",
   "metadata": {},
   "source": [
    "# Q07"
   ]
  },
  {
   "cell_type": "code",
   "execution_count": 9,
   "metadata": {},
   "outputs": [],
   "source": [
    "def solution(data) :\n",
    "    answer = ''\n",
    "    \n",
    "    temp = 0\n",
    "    for i in range(len(data) // 2) :\n",
    "        temp += int(data[i])\n",
    "    \n",
    "    for j in range(len(data)// 2, len(data)) :\n",
    "        temp -= int(data[j])\n",
    "        \n",
    "    if temp == 0 :\n",
    "        answer = 'LUCKY'\n",
    "    else :\n",
    "        answer = 'READY'\n",
    "    \n",
    "    return answer"
   ]
  },
  {
   "cell_type": "code",
   "execution_count": 10,
   "metadata": {},
   "outputs": [],
   "source": [
    "data = '123402'"
   ]
  },
  {
   "cell_type": "code",
   "execution_count": 12,
   "metadata": {},
   "outputs": [],
   "source": [
    "data = '7755'"
   ]
  },
  {
   "cell_type": "code",
   "execution_count": 13,
   "metadata": {},
   "outputs": [
    {
     "data": {
      "text/plain": [
       "'READY'"
      ]
     },
     "execution_count": 13,
     "metadata": {},
     "output_type": "execute_result"
    }
   ],
   "source": [
    "solution(data)"
   ]
  },
  {
   "cell_type": "code",
   "execution_count": null,
   "metadata": {},
   "outputs": [],
   "source": []
  },
  {
   "cell_type": "markdown",
   "metadata": {},
   "source": [
    "# Q08"
   ]
  },
  {
   "cell_type": "code",
   "execution_count": 17,
   "metadata": {},
   "outputs": [],
   "source": [
    "def solution(data) :\n",
    "    answer = ''\n",
    "    \n",
    "    char_lst = []\n",
    "    summary = 0\n",
    "    for i in data :\n",
    "        if i.isalpha() :\n",
    "            char_lst.append(i)\n",
    "        else :\n",
    "            summary += int(i)\n",
    "    \n",
    "    answer = answer.join(sorted(char_lst))\n",
    "    \n",
    "    if summary != 0 :\n",
    "        answer += str(summary)\n",
    "    \n",
    "    return answer"
   ]
  },
  {
   "cell_type": "code",
   "execution_count": 18,
   "metadata": {},
   "outputs": [],
   "source": [
    "data = 'K1KA5CB7'"
   ]
  },
  {
   "cell_type": "code",
   "execution_count": 20,
   "metadata": {},
   "outputs": [],
   "source": [
    "data = 'AJKDLSI412K4JSJ9D'"
   ]
  },
  {
   "cell_type": "code",
   "execution_count": 22,
   "metadata": {},
   "outputs": [],
   "source": [
    "data = 'FDSA'"
   ]
  },
  {
   "cell_type": "code",
   "execution_count": 23,
   "metadata": {},
   "outputs": [
    {
     "data": {
      "text/plain": [
       "'ADFS'"
      ]
     },
     "execution_count": 23,
     "metadata": {},
     "output_type": "execute_result"
    }
   ],
   "source": [
    "solution(data)"
   ]
  },
  {
   "cell_type": "code",
   "execution_count": null,
   "metadata": {},
   "outputs": [],
   "source": []
  },
  {
   "cell_type": "markdown",
   "metadata": {},
   "source": [
    "# Q09"
   ]
  },
  {
   "cell_type": "code",
   "execution_count": 27,
   "metadata": {},
   "outputs": [],
   "source": [
    "def solution(data) :\n",
    "    answer = len(data)\n",
    "    \n",
    "    for step in range(1, len(data) // 2 + 1) :\n",
    "        prev = data[:step]\n",
    "        count = 1\n",
    "        compressed = ''\n",
    "        for idx in range(step, len(data), step) :\n",
    "            if prev == data[idx:idx+step] :\n",
    "                count += 1\n",
    "            else :\n",
    "                compressed += str(count) + prev if count >= 2 else prev\n",
    "                count = 1\n",
    "                prev = data[idx:idx+step]\n",
    "        compressed += str(count) + prev if count>= 2 else prev\n",
    "        answer = min(answer, len(compressed))\n",
    "    \n",
    "    return answer"
   ]
  },
  {
   "cell_type": "code",
   "execution_count": 31,
   "metadata": {},
   "outputs": [],
   "source": [
    "data = 'aabbaccc'"
   ]
  },
  {
   "cell_type": "code",
   "execution_count": 33,
   "metadata": {},
   "outputs": [],
   "source": [
    "data = 'ababcdcdababcdcd'"
   ]
  },
  {
   "cell_type": "code",
   "execution_count": 35,
   "metadata": {},
   "outputs": [],
   "source": [
    "data = 'abcabcdede'"
   ]
  },
  {
   "cell_type": "code",
   "execution_count": 37,
   "metadata": {},
   "outputs": [],
   "source": [
    "data = 'abcabcabcabcdededededede'"
   ]
  },
  {
   "cell_type": "code",
   "execution_count": 39,
   "metadata": {},
   "outputs": [],
   "source": [
    "data = 'xababcdcdababcdcd'"
   ]
  },
  {
   "cell_type": "code",
   "execution_count": 40,
   "metadata": {},
   "outputs": [
    {
     "data": {
      "text/plain": [
       "17"
      ]
     },
     "execution_count": 40,
     "metadata": {},
     "output_type": "execute_result"
    }
   ],
   "source": [
    "solution(data)"
   ]
  },
  {
   "cell_type": "code",
   "execution_count": null,
   "metadata": {},
   "outputs": [],
   "source": []
  },
  {
   "cell_type": "markdown",
   "metadata": {},
   "source": [
    "# Q10"
   ]
  },
  {
   "cell_type": "code",
   "execution_count": 41,
   "metadata": {},
   "outputs": [],
   "source": [
    "def rotate_a_matrix_by_90_degree(a) :\n",
    "    r = len(a)\n",
    "    c = len(a[0])\n",
    "    \n",
    "    new_matrix = [[0] * r for _ in range(c)]\n",
    "    \n",
    "    for i in range(r) :\n",
    "        for j in range(c) :\n",
    "            new_matrix[j][r-i-1] = a[i][j]\n",
    "    \n",
    "    return new_matrix"
   ]
  },
  {
   "cell_type": "code",
   "execution_count": 42,
   "metadata": {},
   "outputs": [],
   "source": [
    "def match(data) :\n",
    "    length = len(data) // 3\n",
    "    \n",
    "    for i in range(length, 2*length) :\n",
    "        for j in range(length, 2*length) :\n",
    "            if data[i][j] != 1 :\n",
    "                return False\n",
    "    return True"
   ]
  },
  {
   "cell_type": "code",
   "execution_count": 43,
   "metadata": {},
   "outputs": [],
   "source": [
    "def solution(key, lock) :\n",
    "    key_len = len(key)\n",
    "    lock_len = len(lock)\n",
    "    \n",
    "    data = [[0] * (lock_len * 3) for _ in range(lock_len * 3)]\n",
    "    \n",
    "    for i in range(lock_len) :\n",
    "        for j in range(lock_len) :\n",
    "            data[i+lock_len][j+lock_len] = lock[i][j]\n",
    "    \n",
    "    for rotation in range(4) :\n",
    "        key = rotate_a_matrix_by_90_degree(key)\n",
    "        \n",
    "        for x in range(2*lock_len) :\n",
    "            for y in range(2*lock_len) :\n",
    "                for i in range(key_len) :\n",
    "                    for j in range(key_len) :\n",
    "                        data[x+i][y+j] += key[i][j]\n",
    "                if not match(data) :\n",
    "                    for i in range(key_len) :\n",
    "                        for j in range(key_len) :\n",
    "                            data[x+i][y+j] -= key[i][j]\n",
    "                else :\n",
    "                    return True\n",
    "    return False"
   ]
  },
  {
   "cell_type": "code",
   "execution_count": 44,
   "metadata": {},
   "outputs": [],
   "source": [
    "key = [[0, 0, 0], [1, 0, 0], [0, 1, 1]]\n",
    "lock = [[1, 1, 1], [1, 1, 0], [1, 0, 1]]"
   ]
  },
  {
   "cell_type": "code",
   "execution_count": 45,
   "metadata": {},
   "outputs": [
    {
     "data": {
      "text/plain": [
       "True"
      ]
     },
     "execution_count": 45,
     "metadata": {},
     "output_type": "execute_result"
    }
   ],
   "source": [
    "solution(key, lock)"
   ]
  },
  {
   "cell_type": "code",
   "execution_count": null,
   "metadata": {},
   "outputs": [],
   "source": []
  },
  {
   "cell_type": "markdown",
   "metadata": {},
   "source": [
    "# Q11"
   ]
  },
  {
   "cell_type": "code",
   "execution_count": 46,
   "metadata": {},
   "outputs": [],
   "source": [
    "def turn(direct, c) :\n",
    "    if c == 'L' :\n",
    "        direct = (direct - 1) % 4\n",
    "    else :\n",
    "        direct = (direct + 1) % 4\n",
    "    return direct"
   ]
  },
  {
   "cell_type": "code",
   "execution_count": 53,
   "metadata": {},
   "outputs": [],
   "source": [
    "def solution(n, k, apple, l, direction) :\n",
    "    time = 0\n",
    "    \n",
    "    data = [[0] * (n+1) for _ in range(n+1)]\n",
    "    \n",
    "    for a, b in apple :\n",
    "        data[a][b] = 1\n",
    "    \n",
    "    dx = [0, 1, 0, -1]\n",
    "    dy = [1, 0, -1, 0]\n",
    "    \n",
    "    x, y = 1, 1\n",
    "    data[x][y] = 2\n",
    "    direct = 0\n",
    "    q = [(x, y)]\n",
    "    index = 0\n",
    "    while True :\n",
    "        nx = x + dx[direct]\n",
    "        ny = y + dy[direct]\n",
    "        \n",
    "        if 1<=nx and nx<=n and 1<=ny and ny<=n and data[nx][ny] != 2 :\n",
    "            if data[nx][ny] == 0 :\n",
    "                data[nx][ny] = 2\n",
    "                q.append((nx, ny))\n",
    "                px, py = q.pop(0)\n",
    "                data[px][py] = 0\n",
    "            elif data[nx][ny] == 1 :\n",
    "                data[nx][ny] = 2\n",
    "                q.append((nx, ny))\n",
    "        else :\n",
    "            time += 1\n",
    "            break\n",
    "        \n",
    "        time += 1\n",
    "        x, y = nx, ny\n",
    "        if index > -1 and index < len(direction) and time == direction[index][0] :\n",
    "            direct = turn(direct, direction[index][1])\n",
    "            index += 1\n",
    "    \n",
    "    return time"
   ]
  },
  {
   "cell_type": "code",
   "execution_count": 54,
   "metadata": {},
   "outputs": [],
   "source": [
    "n=6\n",
    "k=3\n",
    "apple=[[3,4], [2,5], [5,3]]\n",
    "l = 3\n",
    "direction = [[3, 'D'], [15, 'L'], [17, 'D']]"
   ]
  },
  {
   "cell_type": "code",
   "execution_count": 56,
   "metadata": {},
   "outputs": [],
   "source": [
    "n=10\n",
    "k=4\n",
    "apple=[[1,2], [1,3], [1,4], [1,5]]\n",
    "l = 4\n",
    "direction = [[8, 'D'], [10, 'D'], [11, 'D'], [13, 'L']]"
   ]
  },
  {
   "cell_type": "code",
   "execution_count": 58,
   "metadata": {},
   "outputs": [],
   "source": [
    "n=10\n",
    "k=5\n",
    "apple=[[1,5], [1,3], [1,2], [1,6], [1,7]]\n",
    "l=4\n",
    "direction = [[8, 'D'], [10, 'D'], [11, 'D'], [13, 'L']]"
   ]
  },
  {
   "cell_type": "code",
   "execution_count": 59,
   "metadata": {},
   "outputs": [
    {
     "data": {
      "text/plain": [
       "13"
      ]
     },
     "execution_count": 59,
     "metadata": {},
     "output_type": "execute_result"
    }
   ],
   "source": [
    "solution(n, k, apple, l, direction)"
   ]
  },
  {
   "cell_type": "code",
   "execution_count": null,
   "metadata": {},
   "outputs": [],
   "source": []
  },
  {
   "cell_type": "markdown",
   "metadata": {},
   "source": [
    "# Q12"
   ]
  },
  {
   "cell_type": "code",
   "execution_count": 82,
   "metadata": {},
   "outputs": [],
   "source": [
    "def possible(answer) :\n",
    "    for x, y, stuff in answer :\n",
    "        if stuff == 0 :\n",
    "            if y == 0 or [x-1, y, 1] in answer or [x, y+1, 1] in answer or [x, y-1, 0] in answer :\n",
    "                continue\n",
    "            return False\n",
    "        elif stuff == 1 :\n",
    "            if [x, y-1, 0] in answer or [x+1, y-1, 0] in answer or ([x-1, y, 1] in answer and [x+1, y, 1] in answer) :\n",
    "                continue\n",
    "            return False\n",
    "    return True"
   ]
  },
  {
   "cell_type": "code",
   "execution_count": 83,
   "metadata": {},
   "outputs": [],
   "source": [
    "def solution(n, build_frame) :\n",
    "    answer = []\n",
    "    \n",
    "    for a, b, stuff, operate in build_frame :\n",
    "        if operate == 0 :\n",
    "            answer.remove([a, b, stuff])\n",
    "            if not possible(answer) :\n",
    "                answer.append([a, b, stuff])\n",
    "        elif operate == 1 :\n",
    "            answer.append([a, b, stuff])\n",
    "            if not possible(answer) :\n",
    "                answer.remove([a, b, stuff])\n",
    "    \n",
    "    return sorted(answer)"
   ]
  },
  {
   "cell_type": "code",
   "execution_count": 84,
   "metadata": {},
   "outputs": [],
   "source": [
    "n = 5\n",
    "build_frame = [[1,0,0,1], [1,1,1,1], [2,1,0,1], [2,2,1,1], [5,0,0,1], [5,1,0,1], [4,2,1,1], [3,2,1,1]]"
   ]
  },
  {
   "cell_type": "code",
   "execution_count": 86,
   "metadata": {},
   "outputs": [],
   "source": [
    "n = 5\n",
    "build_frame = [[0,0,0,1], [2,0,0,1], [4,0,0,1], [0,1,1,1], [1,1,1,1], [2,1,1,1], [3,1,1,1], [2,0,0,0], [1,1,1,0], [2,2,0,1]]"
   ]
  },
  {
   "cell_type": "code",
   "execution_count": 87,
   "metadata": {},
   "outputs": [
    {
     "data": {
      "text/plain": [
       "[[0, 0, 0], [0, 1, 1], [1, 1, 1], [2, 1, 1], [3, 1, 1], [4, 0, 0]]"
      ]
     },
     "execution_count": 87,
     "metadata": {},
     "output_type": "execute_result"
    }
   ],
   "source": [
    "solution(n, build_frame)"
   ]
  },
  {
   "cell_type": "code",
   "execution_count": null,
   "metadata": {},
   "outputs": [],
   "source": []
  },
  {
   "cell_type": "markdown",
   "metadata": {},
   "source": [
    "# Q13"
   ]
  },
  {
   "cell_type": "code",
   "execution_count": 88,
   "metadata": {},
   "outputs": [],
   "source": [
    "from itertools import combinations"
   ]
  },
  {
   "cell_type": "code",
   "execution_count": 93,
   "metadata": {},
   "outputs": [],
   "source": [
    "def get_city_dist(candidate, house) :\n",
    "    city_dist = 0\n",
    "    for hx, hy in house :\n",
    "        chicken_dist = 1e9\n",
    "        for cx, cy in candidate :\n",
    "            chicken_dist = min(chicken_dist, abs(hx-cx) + abs(hy-cy))\n",
    "        city_dist += chicken_dist\n",
    "    return city_dist        "
   ]
  },
  {
   "cell_type": "code",
   "execution_count": 94,
   "metadata": {},
   "outputs": [],
   "source": [
    "def solution(n, m, data) :\n",
    "    result = 1e9\n",
    "    \n",
    "    house, chicken = [], []\n",
    "    \n",
    "    for i in range(n) :\n",
    "        for j in range(n) :\n",
    "            if data[i][j] == 1 :\n",
    "                house.append((i, j))\n",
    "            elif data[i][j] == 2 :\n",
    "                chicken.append((i, j))\n",
    "    \n",
    "    candidates = combinations(chicken, m)\n",
    "    \n",
    "    for candidate in candidates :\n",
    "        result = min(result, get_city_dist(candidate, house))\n",
    "    return result"
   ]
  },
  {
   "cell_type": "code",
   "execution_count": 95,
   "metadata": {},
   "outputs": [],
   "source": [
    "n = 5\n",
    "m = 3\n",
    "data = [[0,0,1,0,0], [0,0,2,0,1], [0,1,2,0,0], [0,0,1,0,0], [0,0,0,0,2]]"
   ]
  },
  {
   "cell_type": "code",
   "execution_count": 99,
   "metadata": {},
   "outputs": [],
   "source": [
    "n = 5\n",
    "m = 2\n",
    "data = [[0,2,0,1,0], [1,0,1,0,0], [0,0,0,0,0], [2,0,0,1,1], [2,2,0,1,2]]"
   ]
  },
  {
   "cell_type": "code",
   "execution_count": 101,
   "metadata": {},
   "outputs": [],
   "source": [
    "n = 5\n",
    "m = 1\n",
    "data = [[1,2,0,0,0], [1,2,0,0,0], [1,2,0,0,0], [1,2,0,0,0], [1,2,0,0,0]]"
   ]
  },
  {
   "cell_type": "code",
   "execution_count": 103,
   "metadata": {},
   "outputs": [],
   "source": [
    "n = 5\n",
    "m = 1\n",
    "data = [[1,2,0,2,1], [1,2,0,2,1], [1,2,0,2,1], [1,2,0,2,1], [1,2,0,2,1]]"
   ]
  },
  {
   "cell_type": "code",
   "execution_count": 104,
   "metadata": {},
   "outputs": [
    {
     "data": {
      "text/plain": [
       "32"
      ]
     },
     "execution_count": 104,
     "metadata": {},
     "output_type": "execute_result"
    }
   ],
   "source": [
    "solution(n, m, data)"
   ]
  },
  {
   "cell_type": "code",
   "execution_count": null,
   "metadata": {},
   "outputs": [],
   "source": []
  },
  {
   "cell_type": "markdown",
   "metadata": {},
   "source": [
    "# Q14"
   ]
  },
  {
   "cell_type": "code",
   "execution_count": 105,
   "metadata": {},
   "outputs": [],
   "source": [
    "from itertools import permutations"
   ]
  },
  {
   "cell_type": "code",
   "execution_count": 106,
   "metadata": {},
   "outputs": [],
   "source": [
    "def solution(n, weak, dist) :\n",
    "    answer = len(dist) + 1\n",
    "    length = len(weak)\n",
    "    \n",
    "    for i in range(length) :\n",
    "        weak.append(weak[i] + n)\n",
    "    \n",
    "    for start in range(length) :\n",
    "        for friends in list(permutations(dist, len(dist))) :\n",
    "            count = 1\n",
    "            position = weak[start] + friends[count-1]\n",
    "            for idx in range(start, start + length) :\n",
    "                if position < weak[idx] :\n",
    "                    count += 1\n",
    "                    if count > len(dist) :\n",
    "                        break\n",
    "                    position = weak[idx] + friends[count-1]\n",
    "            answer = min(answer, count)\n",
    "    \n",
    "    if answer > len(dist) :\n",
    "        return -1\n",
    "    \n",
    "    return answer"
   ]
  },
  {
   "cell_type": "code",
   "execution_count": 108,
   "metadata": {},
   "outputs": [],
   "source": [
    "n = 12\n",
    "weak = [1,5,6,10]\n",
    "dist = [1,2,3,4]"
   ]
  },
  {
   "cell_type": "code",
   "execution_count": 89,
   "metadata": {},
   "outputs": [],
   "source": [
    "n = 12\n",
    "weak = [1,3,4,9,10]\n",
    "dist = [3,5,7]"
   ]
  },
  {
   "cell_type": "code",
   "execution_count": 109,
   "metadata": {},
   "outputs": [
    {
     "name": "stdout",
     "output_type": "stream",
     "text": [
      "[1, 5, 6, 10, 13, 17, 18, 22]\n"
     ]
    },
    {
     "data": {
      "text/plain": [
       "5"
      ]
     },
     "execution_count": 109,
     "metadata": {},
     "output_type": "execute_result"
    }
   ],
   "source": [
    "solution(n,weak, dist)"
   ]
  },
  {
   "cell_type": "code",
   "execution_count": null,
   "metadata": {},
   "outputs": [],
   "source": []
  }
 ],
 "metadata": {
  "kernelspec": {
   "display_name": "Python 3",
   "language": "python",
   "name": "python3"
  },
  "language_info": {
   "codemirror_mode": {
    "name": "ipython",
    "version": 3
   },
   "file_extension": ".py",
   "mimetype": "text/x-python",
   "name": "python",
   "nbconvert_exporter": "python",
   "pygments_lexer": "ipython3",
   "version": "3.7.9"
  }
 },
 "nbformat": 4,
 "nbformat_minor": 4
}
