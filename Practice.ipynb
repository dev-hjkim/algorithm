{
 "cells": [
  {
   "cell_type": "code",
   "execution_count": 1,
   "metadata": {},
   "outputs": [],
   "source": [
    "participant = [\"leo\", \"kiki\", \"eden\"]\n",
    "completion = [\"eden\", \"kiki\"]"
   ]
  },
  {
   "cell_type": "code",
   "execution_count": 12,
   "metadata": {},
   "outputs": [],
   "source": [
    "def solution(participant, completion) :\n",
    "    answer = \"\"\n",
    "    part_dict = {}\n",
    "    \n",
    "    for p in participant :\n",
    "        part_dict[p] = part_dict.get(p,0) + 1\n",
    "        \n",
    "    for c in completion :\n",
    "        part_dict[c] -= 1\n",
    "        \n",
    "        if part_dict[c] == 0 :\n",
    "            del part_dict[c]\n",
    "\n",
    "    return list(part_dict)[0]"
   ]
  },
  {
   "cell_type": "code",
   "execution_count": 13,
   "metadata": {},
   "outputs": [
    {
     "data": {
      "text/plain": [
       "'leo'"
      ]
     },
     "execution_count": 13,
     "metadata": {},
     "output_type": "execute_result"
    }
   ],
   "source": [
    "solution(participant, completion)"
   ]
  },
  {
   "cell_type": "code",
   "execution_count": null,
   "metadata": {},
   "outputs": [],
   "source": []
  },
  {
   "cell_type": "code",
   "execution_count": 178,
   "metadata": {},
   "outputs": [],
   "source": [
    "phone_book = [\"119\", \"97674223\", \"976742233\"]"
   ]
  },
  {
   "cell_type": "code",
   "execution_count": 173,
   "metadata": {},
   "outputs": [],
   "source": [
    "phone_book = [\"123\",\"456\",\"789\"]"
   ]
  },
  {
   "cell_type": "code",
   "execution_count": 142,
   "metadata": {},
   "outputs": [],
   "source": [
    "phone_book = [\"12\",\"123\",\"1235\",\"567\",\"88\"]"
   ]
  },
  {
   "cell_type": "code",
   "execution_count": 179,
   "metadata": {},
   "outputs": [],
   "source": [
    "def solution(phone_book) :\n",
    "    answer = False\n",
    "    \n",
    "    phone_book = sorted(phone_book)\n",
    "    \n",
    "    max_length = len(phone_book[-1])+1\n",
    "    i = len(phone_book[0])\n",
    "    \n",
    "    while(i < max_length) :\n",
    "        num_dict = {}\n",
    "        for num in phone_book :\n",
    "            num_dict[num[:i]] = num_dict.get(num[:i], 0) + 1\n",
    "        \n",
    "        print(num_dict)\n",
    "            \n",
    "        if len(num_dict) != len(phone_book) :\n",
    "            return False\n",
    "        else :\n",
    "            i += 1\n",
    "    \n",
    "    \n",
    "    return answer"
   ]
  },
  {
   "cell_type": "code",
   "execution_count": 180,
   "metadata": {},
   "outputs": [],
   "source": [
    "def solution(phone_book):\n",
    "    phone_book.sort(key=str.lower,reverse=True)\n",
    "    for i in range(len(phone_book)-1):\n",
    "        k = phone_book[i]\n",
    "        print(k)\n",
    "        if k.startswith(phone_book[i+1]): \n",
    "            return False\n",
    "    return True"
   ]
  },
  {
   "cell_type": "code",
   "execution_count": 181,
   "metadata": {},
   "outputs": [
    {
     "name": "stdout",
     "output_type": "stream",
     "text": [
      "976742233\n"
     ]
    },
    {
     "data": {
      "text/plain": [
       "False"
      ]
     },
     "execution_count": 181,
     "metadata": {},
     "output_type": "execute_result"
    }
   ],
   "source": [
    "solution(phone_book)"
   ]
  },
  {
   "cell_type": "code",
   "execution_count": null,
   "metadata": {},
   "outputs": [],
   "source": []
  }
 ],
 "metadata": {
  "kernelspec": {
   "display_name": "Python 3",
   "language": "python",
   "name": "python3"
  },
  "language_info": {
   "codemirror_mode": {
    "name": "ipython",
    "version": 3
   },
   "file_extension": ".py",
   "mimetype": "text/x-python",
   "name": "python",
   "nbconvert_exporter": "python",
   "pygments_lexer": "ipython3",
   "version": "3.7.9"
  }
 },
 "nbformat": 4,
 "nbformat_minor": 4
}
