{
 "cells": [
  {
   "cell_type": "code",
   "execution_count": 1,
   "metadata": {},
   "outputs": [],
   "source": [
    "participant = [\"leo\", \"kiki\", \"eden\"]\n",
    "completion = [\"eden\", \"kiki\"]"
   ]
  },
  {
   "cell_type": "code",
   "execution_count": 12,
   "metadata": {},
   "outputs": [],
   "source": [
    "def solution(participant, completion) :\n",
    "    answer = \"\"\n",
    "    part_dict = {}\n",
    "    \n",
    "    for p in participant :\n",
    "        part_dict[p] = part_dict.get(p,0) + 1\n",
    "        \n",
    "    for c in completion :\n",
    "        part_dict[c] -= 1\n",
    "        \n",
    "        if part_dict[c] == 0 :\n",
    "            del part_dict[c]\n",
    "\n",
    "    return list(part_dict)[0]"
   ]
  },
  {
   "cell_type": "code",
   "execution_count": 13,
   "metadata": {},
   "outputs": [
    {
     "data": {
      "text/plain": [
       "'leo'"
      ]
     },
     "execution_count": 13,
     "metadata": {},
     "output_type": "execute_result"
    }
   ],
   "source": [
    "solution(participant, completion)"
   ]
  },
  {
   "cell_type": "code",
   "execution_count": null,
   "metadata": {},
   "outputs": [],
   "source": []
  },
  {
   "cell_type": "code",
   "execution_count": 178,
   "metadata": {},
   "outputs": [],
   "source": [
    "phone_book = [\"119\", \"97674223\", \"976742233\"]"
   ]
  },
  {
   "cell_type": "code",
   "execution_count": 173,
   "metadata": {},
   "outputs": [],
   "source": [
    "phone_book = [\"123\",\"456\",\"789\"]"
   ]
  },
  {
   "cell_type": "code",
   "execution_count": 142,
   "metadata": {},
   "outputs": [],
   "source": [
    "phone_book = [\"12\",\"123\",\"1235\",\"567\",\"88\"]"
   ]
  },
  {
   "cell_type": "code",
   "execution_count": 179,
   "metadata": {},
   "outputs": [],
   "source": [
    "def solution(phone_book) :\n",
    "    answer = False\n",
    "    \n",
    "    phone_book = sorted(phone_book)\n",
    "    \n",
    "    max_length = len(phone_book[-1])+1\n",
    "    i = len(phone_book[0])\n",
    "    \n",
    "    while(i < max_length) :\n",
    "        num_dict = {}\n",
    "        for num in phone_book :\n",
    "            num_dict[num[:i]] = num_dict.get(num[:i], 0) + 1\n",
    "        \n",
    "        print(num_dict)\n",
    "            \n",
    "        if len(num_dict) != len(phone_book) :\n",
    "            return False\n",
    "        else :\n",
    "            i += 1\n",
    "    \n",
    "    \n",
    "    return answer"
   ]
  },
  {
   "cell_type": "code",
   "execution_count": 180,
   "metadata": {},
   "outputs": [],
   "source": [
    "def solution(phone_book):\n",
    "    phone_book.sort(key=str.lower,reverse=True)\n",
    "    for i in range(len(phone_book)-1):\n",
    "        k = phone_book[i]\n",
    "        print(k)\n",
    "        if k.startswith(phone_book[i+1]): \n",
    "            return False\n",
    "    return True"
   ]
  },
  {
   "cell_type": "code",
   "execution_count": 181,
   "metadata": {},
   "outputs": [
    {
     "name": "stdout",
     "output_type": "stream",
     "text": [
      "976742233\n"
     ]
    },
    {
     "data": {
      "text/plain": [
       "False"
      ]
     },
     "execution_count": 181,
     "metadata": {},
     "output_type": "execute_result"
    }
   ],
   "source": [
    "solution(phone_book)"
   ]
  },
  {
   "cell_type": "code",
   "execution_count": 1,
   "metadata": {},
   "outputs": [],
   "source": [
    "def dfs(numbers, i, n, target) :\n",
    "    ret = 0\n",
    "    \n",
    "    if (i == len(numbers)) :\n",
    "        if (n == target) : return 1\n",
    "        else : return 0\n",
    "    \n",
    "    ret += dfs(numbers, i+1, n+numbers[i], target)\n",
    "    ret += dfs(numbers, i+1, n-numbers[i], target)\n",
    "    return ret\n",
    "\n",
    "def solution(numbers, target):\n",
    "    answer = 0\n",
    "    \n",
    "    answer += dfs(numbers, 0, 0, target)\n",
    "    return answer"
   ]
  },
  {
   "cell_type": "code",
   "execution_count": 2,
   "metadata": {},
   "outputs": [],
   "source": [
    "numbers = [1, 1, 1, 1, 1]\n",
    "target= 3"
   ]
  },
  {
   "cell_type": "code",
   "execution_count": 3,
   "metadata": {},
   "outputs": [
    {
     "data": {
      "text/plain": [
       "5"
      ]
     },
     "execution_count": 3,
     "metadata": {},
     "output_type": "execute_result"
    }
   ],
   "source": [
    "solution(numbers, target)"
   ]
  },
  {
   "cell_type": "markdown",
   "metadata": {},
   "source": [
    "# Greedy"
   ]
  },
  {
   "cell_type": "code",
   "execution_count": 1,
   "metadata": {},
   "outputs": [],
   "source": [
    "first_row = '5 8 3'\n",
    "second_row = '2 4 5 4 6'"
   ]
  },
  {
   "cell_type": "code",
   "execution_count": 12,
   "metadata": {},
   "outputs": [],
   "source": [
    "def solution(first_row, second_row) :\n",
    "    answer = 0\n",
    "    \n",
    "    n, m, k = map(int, first_row.split())\n",
    "    data = list(map(int, second_row.split()))\n",
    "    \n",
    "    data.sort()\n",
    "    max_val = data[n-1]\n",
    "    second_val = data[n-2]\n",
    "    \n",
    "    while True:\n",
    "        for i in range(k) :\n",
    "            if m == 0:\n",
    "                break\n",
    "            answer += max_val\n",
    "            m -= 1\n",
    "        if m == 0:\n",
    "            break\n",
    "        answer += second_val\n",
    "        m -= 1\n",
    "    \n",
    "    return answer"
   ]
  },
  {
   "cell_type": "code",
   "execution_count": 25,
   "metadata": {},
   "outputs": [],
   "source": [
    "def solution2(first_row, second_row):\n",
    "    answer = 0\n",
    "    n, m, k = map(int, first_row.split())\n",
    "    data = list(map(int, second_row.split()))\n",
    "    \n",
    "    data.sort()\n",
    "    first_val = data[n-1]\n",
    "    second_val = data[n-2]\n",
    "    \n",
    "    count = int(m/(k+1)) * k\n",
    "    count += m % (k+1)\n",
    "    \n",
    "    answer += count * first_val\n",
    "    answer += (m-count) * second_val\n",
    "\n",
    "    return answer"
   ]
  },
  {
   "cell_type": "code",
   "execution_count": 15,
   "metadata": {},
   "outputs": [
    {
     "data": {
      "text/plain": [
       "46"
      ]
     },
     "execution_count": 15,
     "metadata": {},
     "output_type": "execute_result"
    }
   ],
   "source": [
    "solution(first_row, second_row)"
   ]
  },
  {
   "cell_type": "code",
   "execution_count": 26,
   "metadata": {},
   "outputs": [
    {
     "data": {
      "text/plain": [
       "46"
      ]
     },
     "execution_count": 26,
     "metadata": {},
     "output_type": "execute_result"
    }
   ],
   "source": [
    "solution2(first_row, second_row)"
   ]
  },
  {
   "cell_type": "code",
   "execution_count": null,
   "metadata": {},
   "outputs": [],
   "source": []
  },
  {
   "cell_type": "code",
   "execution_count": 27,
   "metadata": {},
   "outputs": [],
   "source": [
    "data1 = '3 3'\n",
    "data2 = '3 1 2'\n",
    "data3 = '4 1 4'\n",
    "data4 = '2 2 2'"
   ]
  },
  {
   "cell_type": "code",
   "execution_count": 32,
   "metadata": {},
   "outputs": [],
   "source": [
    "def solution(data1, data2, data3, data4):\n",
    "    answer = 0\n",
    "    n, m = map(int, data1.split())\n",
    "    \n",
    "    row1 = list(map(int, data2.split()))\n",
    "    row2 = list(map(int, data3.split()))\n",
    "    row3 = list(map(int, data4.split()))\n",
    "    answer = max(min(row1), min(row2), min(row3))\n",
    "    return answer"
   ]
  },
  {
   "cell_type": "code",
   "execution_count": 35,
   "metadata": {},
   "outputs": [],
   "source": [
    "def solution2(data1, data2, data3, data4) :\n",
    "    answer = 0\n",
    "    n, m = map(int, data1.split())\n",
    "    \n",
    "    rows = []\n",
    "    row1 = list(map(int, data2.split()))\n",
    "    row2 = list(map(int, data3.split()))\n",
    "    row3 = list(map(int, data4.split()))\n",
    "    rows.append(row1)\n",
    "    rows.append(row2)\n",
    "    rows.append(row3)\n",
    "    \n",
    "    for row in rows:\n",
    "        min_val = 10001\n",
    "        for elem in row:\n",
    "            min_val = min(elem, min_val)\n",
    "        answer = max(min_val, answer)\n",
    "            \n",
    "    return answer\n",
    "    "
   ]
  },
  {
   "cell_type": "code",
   "execution_count": 36,
   "metadata": {},
   "outputs": [
    {
     "data": {
      "text/plain": [
       "2"
      ]
     },
     "execution_count": 36,
     "metadata": {},
     "output_type": "execute_result"
    }
   ],
   "source": [
    "solution(data1, data2, data3, data4)"
   ]
  },
  {
   "cell_type": "code",
   "execution_count": 37,
   "metadata": {},
   "outputs": [
    {
     "data": {
      "text/plain": [
       "2"
      ]
     },
     "execution_count": 37,
     "metadata": {},
     "output_type": "execute_result"
    }
   ],
   "source": [
    "solution2(data1, data2, data3, data4)"
   ]
  },
  {
   "cell_type": "code",
   "execution_count": null,
   "metadata": {},
   "outputs": [],
   "source": []
  },
  {
   "cell_type": "code",
   "execution_count": 38,
   "metadata": {},
   "outputs": [],
   "source": [
    "data = '25 5'"
   ]
  },
  {
   "cell_type": "code",
   "execution_count": 52,
   "metadata": {},
   "outputs": [],
   "source": [
    "def solution(data):\n",
    "    answer = 0\n",
    "    n, k = map(int, data.split())\n",
    "    \n",
    "    answer += n%k\n",
    "    \n",
    "    while n%k == 0 and n//k > 0: # 혹은 n>=k\n",
    "        n = n//k\n",
    "        answer += 1\n",
    "    \n",
    "    return answer"
   ]
  },
  {
   "cell_type": "code",
   "execution_count": 53,
   "metadata": {},
   "outputs": [
    {
     "data": {
      "text/plain": [
       "2"
      ]
     },
     "execution_count": 53,
     "metadata": {},
     "output_type": "execute_result"
    }
   ],
   "source": [
    "solution(data)"
   ]
  },
  {
   "cell_type": "code",
   "execution_count": null,
   "metadata": {},
   "outputs": [],
   "source": []
  },
  {
   "cell_type": "code",
   "execution_count": 1,
   "metadata": {},
   "outputs": [],
   "source": [
    "from collections import defaultdict\n",
    "import math"
   ]
  },
  {
   "cell_type": "code",
   "execution_count": 2,
   "metadata": {},
   "outputs": [],
   "source": [
    "def solution(fees, records):\n",
    "    answer = []\n",
    "    \n",
    "    car_in_dict = defaultdict(lambda:'')\n",
    "    total_time = defaultdict(int)\n",
    "    \n",
    "    for record in records :\n",
    "        time, num, act = record.split()\n",
    "        \n",
    "        if act == 'IN' :\n",
    "            car_in_dict[num] = time\n",
    "        else :\n",
    "            total_time[num] += hour_to_minute(time) - hour_to_minute(car_in_dict[num])\n",
    "            car_in_dict[num] = ''\n",
    "    \n",
    "    for num in car_in_dict :\n",
    "        if car_in_dict[num] != '' :\n",
    "            total_time[num] += hour_to_minute('23:59') - hour_to_minute(car_in_dict[num])\n",
    "    \n",
    "    total_time = sorted(total_time.items())\n",
    "    \n",
    "    for num, time in total_time :\n",
    "        answer.append(calculate_fee(time, fees))\n",
    "        \n",
    "    return answer"
   ]
  },
  {
   "cell_type": "code",
   "execution_count": 3,
   "metadata": {},
   "outputs": [],
   "source": [
    "def hour_to_minute(time) :\n",
    "    hour, minute = time.split(':')\n",
    "    minute = int(hour) * 60 + int(minute)\n",
    "    return minute"
   ]
  },
  {
   "cell_type": "code",
   "execution_count": 4,
   "metadata": {},
   "outputs": [],
   "source": [
    "def calculate_fee(time, fees) :\n",
    "    fee = 0\n",
    "    time = int(time)\n",
    "    if time > fees[0] :\n",
    "        fee += fees[1] + math.ceil((time-fees[0])/fees[2]) * fees[3]\n",
    "    else :\n",
    "        fee += fees[1]\n",
    "    return fee"
   ]
  },
  {
   "cell_type": "code",
   "execution_count": 5,
   "metadata": {},
   "outputs": [],
   "source": [
    "fees = [180, 5000, 10, 600]\n",
    "records = [\"05:34 5961 IN\", \"06:00 0000 IN\", \"06:34 0000 OUT\", \"07:59 5961 OUT\", \"07:59 0148 IN\", \"18:59 0000 IN\", \"19:09 0148 OUT\", \"22:59 5961 IN\", \"23:00 5961 OUT\"]"
   ]
  },
  {
   "cell_type": "code",
   "execution_count": 6,
   "metadata": {},
   "outputs": [],
   "source": [
    "fees = [120, 0, 60, 591]\n",
    "records = [\"16:00 3961 IN\",\"16:00 0202 IN\",\"18:00 3961 OUT\",\"18:00 0202 OUT\",\"23:58 3961 IN\"]"
   ]
  },
  {
   "cell_type": "code",
   "execution_count": 7,
   "metadata": {},
   "outputs": [],
   "source": [
    "fees = [1, 461, 1, 10]\n",
    "records = [\"00:00 1234 IN\"]"
   ]
  },
  {
   "cell_type": "code",
   "execution_count": 8,
   "metadata": {},
   "outputs": [
    {
     "data": {
      "text/plain": [
       "[14841]"
      ]
     },
     "execution_count": 8,
     "metadata": {},
     "output_type": "execute_result"
    }
   ],
   "source": [
    "solution(fees, records)"
   ]
  },
  {
   "cell_type": "code",
   "execution_count": null,
   "metadata": {},
   "outputs": [],
   "source": []
  },
  {
   "cell_type": "code",
   "execution_count": 62,
   "metadata": {},
   "outputs": [],
   "source": [
    "def get_score(ryan, info) :\n",
    "    score = 0\n",
    "    for i in range(11) :\n",
    "        if ryan[i] == info[i] == 0 :\n",
    "            continue\n",
    "        if ryan[i] > info[i] :\n",
    "            score += 10-i\n",
    "        else :\n",
    "            score -= 10-i\n",
    "    return score"
   ]
  },
  {
   "cell_type": "code",
   "execution_count": 63,
   "metadata": {},
   "outputs": [],
   "source": [
    "def dfs(point, left, info, temp, answer, result) :\n",
    "    if point == -1 and left :\n",
    "        return answer, result\n",
    "    if left == 0 :\n",
    "        score = get_score(temp, info)\n",
    "        if result < score :\n",
    "            answer = temp[:]\n",
    "            result = score\n",
    "        return answer, result\n",
    "    for i in range(left, -1, -1) :\n",
    "        temp[point] = i\n",
    "        answer, result = dfs(point-1, left-i, info, temp, answer, result)\n",
    "        temp[point] = 0\n",
    "    return answer, result"
   ]
  },
  {
   "cell_type": "code",
   "execution_count": 64,
   "metadata": {},
   "outputs": [],
   "source": [
    "def solution(n, info) :\n",
    "    answer = []\n",
    "    answer = [0 for _ in range(11)]\n",
    "    temp = [0 for _ in range(11)]\n",
    "    \n",
    "    answer, result = dfs(10, n, info, temp, answer, 0)\n",
    "    return answer if result != 0 else [-1]"
   ]
  },
  {
   "cell_type": "code",
   "execution_count": 65,
   "metadata": {},
   "outputs": [],
   "source": [
    "n = 5\n",
    "info = [2,1,1,1,0,0,0,0,0,0,0]\n",
    "#[0,2,2,0,1,0,0,0,0,0,0]"
   ]
  },
  {
   "cell_type": "code",
   "execution_count": 67,
   "metadata": {},
   "outputs": [],
   "source": [
    "n = 1\n",
    "info = [1,0,0,0,0,0,0,0,0,0,0]\n",
    "#[-1]"
   ]
  },
  {
   "cell_type": "code",
   "execution_count": 69,
   "metadata": {},
   "outputs": [],
   "source": [
    "n = 9\n",
    "info = [0,0,1,2,0,1,1,1,1,1,1]\n",
    "#[1,1,2,0,1,2,2,0,0,0,0]"
   ]
  },
  {
   "cell_type": "code",
   "execution_count": 71,
   "metadata": {},
   "outputs": [],
   "source": [
    "n = 10\n",
    "info = [0,0,0,0,0,0,0,0,3,4,3]\n",
    "#[1,1,1,1,1,1,1,1,0,0,2]"
   ]
  },
  {
   "cell_type": "code",
   "execution_count": 72,
   "metadata": {},
   "outputs": [
    {
     "data": {
      "text/plain": [
       "[1, 1, 1, 1, 1, 1, 1, 1, 0, 0, 2]"
      ]
     },
     "execution_count": 72,
     "metadata": {},
     "output_type": "execute_result"
    }
   ],
   "source": [
    "solution(n, info)"
   ]
  },
  {
   "cell_type": "code",
   "execution_count": null,
   "metadata": {},
   "outputs": [],
   "source": []
  },
  {
   "cell_type": "code",
   "execution_count": 17,
   "metadata": {},
   "outputs": [],
   "source": [
    "def solution(s):\n",
    "    answer = 0\n",
    "    dict = {'zero': 0, 'one': 1, 'two': 2, 'three':3, 'four':4, 'five':5, 'six':6, 'seven':7, 'eight':8, 'nine':9}\n",
    "    \n",
    "    character = ''\n",
    "    temp = ''\n",
    "    for i in s:\n",
    "        if i.isalpha() :\n",
    "            character += i\n",
    "            if character in dict.keys() :\n",
    "                temp += str(dict[character])\n",
    "                character = ''\n",
    "        else :\n",
    "            temp += str(i)\n",
    "            \n",
    "    answer = int(temp)\n",
    "    return answer"
   ]
  },
  {
   "cell_type": "code",
   "execution_count": 18,
   "metadata": {},
   "outputs": [],
   "source": [
    "s = \"one4seveneight\"\n",
    "#1478"
   ]
  },
  {
   "cell_type": "code",
   "execution_count": 20,
   "metadata": {},
   "outputs": [],
   "source": [
    "s = \"23four5six7\"\n",
    "# 234567"
   ]
  },
  {
   "cell_type": "code",
   "execution_count": 22,
   "metadata": {},
   "outputs": [],
   "source": [
    "s = \"2three45sixseven\"\n",
    "# 234567"
   ]
  },
  {
   "cell_type": "code",
   "execution_count": 24,
   "metadata": {},
   "outputs": [],
   "source": [
    "s = \"123\"\n",
    "# 123"
   ]
  },
  {
   "cell_type": "code",
   "execution_count": 25,
   "metadata": {},
   "outputs": [
    {
     "data": {
      "text/plain": [
       "123"
      ]
     },
     "execution_count": 25,
     "metadata": {},
     "output_type": "execute_result"
    }
   ],
   "source": [
    "solution(s)"
   ]
  },
  {
   "cell_type": "code",
   "execution_count": null,
   "metadata": {},
   "outputs": [],
   "source": []
  },
  {
   "cell_type": "code",
   "execution_count": 416,
   "metadata": {},
   "outputs": [],
   "source": [
    "from itertools import combinations"
   ]
  },
  {
   "cell_type": "code",
   "execution_count": 417,
   "metadata": {},
   "outputs": [],
   "source": [
    "def check_wall(case, x1, y1, x2, y2) :\n",
    "    min_x = min(x1, x2)\n",
    "    max_x = max(x1, x2)\n",
    "    min_y = min(y1, y2)\n",
    "    max_y = max(y1, y2)\n",
    "    \n",
    "    for i in range(min_x, max_x+1) :\n",
    "        for j in range(min_y, max_y+1) :\n",
    "            if (i,j) != (x1, y1) and (i,j) != (x2, y2) and case[i][j] != 'X' :\n",
    "                return False\n",
    "    return True"
   ]
  },
  {
   "cell_type": "code",
   "execution_count": 418,
   "metadata": {},
   "outputs": [],
   "source": [
    "def check_proper(case, per_loc) :\n",
    "    candidates = combinations(per_loc, 2)\n",
    "    candidates = sorted(candidates)\n",
    "    \n",
    "    for candidate in candidates :\n",
    "        person1 = candidate[0]\n",
    "        person2 = candidate[1]\n",
    "        if (abs(person1[0]-person2[0]) + abs(person1[1]-person2[1])) == 1 :\n",
    "            return False\n",
    "        elif (abs(person1[0]-person2[0]) + abs(person1[1]-person2[1])) == 2 :\n",
    "            if not check_wall(case, person1[0], person1[1], person2[0], person2[1]) :\n",
    "                return False\n",
    "    return True"
   ]
  },
  {
   "cell_type": "code",
   "execution_count": 419,
   "metadata": {},
   "outputs": [],
   "source": [
    "def solution(places):\n",
    "    answer = [0] * 5\n",
    "    \n",
    "    for case in range(len(places)) :\n",
    "        per_loc = []\n",
    "        for i in range(5) :\n",
    "            for j in range(5) :\n",
    "                if places[case][i][j] == 'P' :\n",
    "                    per_loc.append((i,j))\n",
    "        \n",
    "        if check_proper(places[case], per_loc) :\n",
    "            answer[case] += 1\n",
    "    return answer"
   ]
  },
  {
   "cell_type": "code",
   "execution_count": 420,
   "metadata": {},
   "outputs": [
    {
     "data": {
      "text/plain": [
       "[['OOPOO', 'OPOOO', 'OOOOO', 'OOOOO', 'OOOOO'],\n",
       " ['POOPX', 'OXPXP', 'PXXXO', 'OXXXO', 'OOOPP'],\n",
       " ['PXOPX', 'OXOXP', 'OXPOX', 'OXXOP', 'PXPOX'],\n",
       " ['OOOXX', 'XOOOX', 'OOOXX', 'OXOOX', 'OOOOO'],\n",
       " ['PXPXP', 'XPXPX', 'PXPXP', 'XPXPX', 'PXPXP']]"
      ]
     },
     "execution_count": 420,
     "metadata": {},
     "output_type": "execute_result"
    }
   ],
   "source": [
    "places = [[\"OOPOO\", \"OPOOO\", \"OOOOO\", \"OOOOO\", \"OOOOO\"], [\"POOPX\", \"OXPXP\", \"PXXXO\", \"OXXXO\", \"OOOPP\"], [\"PXOPX\", \"OXOXP\", \"OXPOX\", \"OXXOP\", \"PXPOX\"], [\"OOOXX\", \"XOOOX\", \"OOOXX\", \"OXOOX\", \"OOOOO\"], [\"PXPXP\", \"XPXPX\", \"PXPXP\", \"XPXPX\", \"PXPXP\"]]\n",
    "# [1, 0, 1, 1, 1]\n",
    "places"
   ]
  },
  {
   "cell_type": "code",
   "execution_count": 421,
   "metadata": {},
   "outputs": [
    {
     "data": {
      "text/plain": [
       "[0, 0, 1, 1, 1]"
      ]
     },
     "execution_count": 421,
     "metadata": {},
     "output_type": "execute_result"
    }
   ],
   "source": [
    "solution(places)"
   ]
  },
  {
   "cell_type": "code",
   "execution_count": null,
   "metadata": {},
   "outputs": [],
   "source": []
  },
  {
   "cell_type": "code",
   "execution_count": 504,
   "metadata": {},
   "outputs": [],
   "source": [
    "def solution(n, k, cmd):\n",
    "    answer = ['O'] * n\n",
    "    \n",
    "    selected = k\n",
    "    deleted = []\n",
    "    last_idx = n-1\n",
    "    for info in cmd :\n",
    "        if info.startswith('U') :\n",
    "            act, cnt = info.split(' ')\n",
    "            cnt = int(cnt)\n",
    "            while cnt > 0 :\n",
    "                selected -= 1\n",
    "                if answer[selected] == 'O' :\n",
    "                    cnt -= 1\n",
    "        elif info.startswith('D') :\n",
    "            act, cnt = info.split(' ')\n",
    "            cnt = int(cnt)\n",
    "            while cnt > 0 :\n",
    "                selected += 1\n",
    "                if answer[selected] == 'O' :\n",
    "                    cnt -= 1\n",
    "        elif info.startswith('C') :\n",
    "            answer[selected] = 'X'\n",
    "            deleted.append(selected)\n",
    "            if last_idx == selected :\n",
    "                last_idx -= 1\n",
    "                selected -= 1\n",
    "            else :\n",
    "                selected += 1\n",
    "        else :\n",
    "            idx = deleted.pop()\n",
    "            if last_idx < idx :\n",
    "                last_idx = idx\n",
    "            answer[idx] = 'O'\n",
    "        print(info, '\\t', answer, '\\t', selected, '\\t', last_idx)\n",
    "        \n",
    "    return ''.join(answer)"
   ]
  },
  {
   "cell_type": "code",
   "execution_count": 505,
   "metadata": {},
   "outputs": [],
   "source": [
    "n = 8\n",
    "k = 2\n",
    "cmd = [\"D 2\",\"C\",\"U 3\",\"C\",\"D 4\",\"C\",\"U 2\",\"Z\",\"Z\"]\n",
    "# \"OOOOXOOO\""
   ]
  },
  {
   "cell_type": "code",
   "execution_count": 507,
   "metadata": {},
   "outputs": [],
   "source": [
    "n = 8\n",
    "k = 2\n",
    "cmd = [\"D 2\",\"C\",\"U 3\",\"C\",\"D 4\",\"C\",\"U 2\",\"Z\",\"Z\",\"U 1\",\"C\"]\n",
    "# \"OOXOXOOO\""
   ]
  },
  {
   "cell_type": "code",
   "execution_count": 508,
   "metadata": {},
   "outputs": [
    {
     "name": "stdout",
     "output_type": "stream",
     "text": [
      "D 2 \t ['O', 'O', 'O', 'O', 'O', 'O', 'O', 'O'] \t 4 \t 7\n",
      "C \t ['O', 'O', 'O', 'O', 'X', 'O', 'O', 'O'] \t 5 \t 7\n",
      "U 3 \t ['O', 'O', 'O', 'O', 'X', 'O', 'O', 'O'] \t 1 \t 7\n",
      "C \t ['O', 'X', 'O', 'O', 'X', 'O', 'O', 'O'] \t 2 \t 7\n",
      "D 4 \t ['O', 'X', 'O', 'O', 'X', 'O', 'O', 'O'] \t 7 \t 7\n",
      "C \t ['O', 'X', 'O', 'O', 'X', 'O', 'O', 'X'] \t 6 \t 6\n",
      "U 2 \t ['O', 'X', 'O', 'O', 'X', 'O', 'O', 'X'] \t 3 \t 6\n",
      "Z \t ['O', 'X', 'O', 'O', 'X', 'O', 'O', 'O'] \t 3 \t 7\n",
      "Z \t ['O', 'O', 'O', 'O', 'X', 'O', 'O', 'O'] \t 3 \t 7\n",
      "U 1 \t ['O', 'O', 'O', 'O', 'X', 'O', 'O', 'O'] \t 2 \t 7\n",
      "C \t ['O', 'O', 'X', 'O', 'X', 'O', 'O', 'O'] \t 3 \t 7\n"
     ]
    },
    {
     "data": {
      "text/plain": [
       "'OOXOXOOO'"
      ]
     },
     "execution_count": 508,
     "metadata": {},
     "output_type": "execute_result"
    }
   ],
   "source": [
    "solution(n, k, cmd)"
   ]
  },
  {
   "cell_type": "code",
   "execution_count": null,
   "metadata": {},
   "outputs": [],
   "source": []
  },
  {
   "cell_type": "code",
   "execution_count": 9,
   "metadata": {},
   "outputs": [],
   "source": [
    "def get_distance(point, target) :\n",
    "    return abs(target[0]-point[0]) + abs(target[1]-point[1])"
   ]
  },
  {
   "cell_type": "code",
   "execution_count": 25,
   "metadata": {},
   "outputs": [],
   "source": [
    "def solution(numbers, hand):\n",
    "    answer = ''\n",
    "    hand_dict = {1:'L', 4:'L', 7:'L', 3:'R', 6:'R', 9:'R'}\n",
    "    num_dict = {1:(0,0), 2:(0,1), 3:(0,2), 4:(1,0), 5:(1,1), 6:(1,2), 7:(2,0), 8:(2,1), 9:(2,2), 0:(3,1)}\n",
    "    \n",
    "    left = (3,0)\n",
    "    right = (3,2)\n",
    "    \n",
    "    for num in numbers :\n",
    "        if num in hand_dict.keys() :\n",
    "            answer += hand_dict[num]\n",
    "            \n",
    "            if hand_dict[num] == 'L' :\n",
    "                left = num_dict[num]\n",
    "            else :\n",
    "                right = num_dict[num]\n",
    "        else :\n",
    "            if get_distance(left, num_dict[num]) < get_distance(right, num_dict[num]) :\n",
    "                answer += 'L'\n",
    "                left = num_dict[num]\n",
    "            elif get_distance(left, num_dict[num]) > get_distance(right, num_dict[num]) :\n",
    "                answer += 'R'\n",
    "                right = num_dict[num]\n",
    "            else :\n",
    "                if hand == \"left\" :\n",
    "                    answer += 'L'\n",
    "                    left = num_dict[num]\n",
    "                else :\n",
    "                    answer += 'R'\n",
    "                    right = num_dict[num]\n",
    "            \n",
    "    return answer"
   ]
  },
  {
   "cell_type": "code",
   "execution_count": 26,
   "metadata": {},
   "outputs": [],
   "source": [
    "numbers = [1, 3, 4, 5, 8, 2, 1, 4, 5, 9, 5]\n",
    "hand = \"right\"\n",
    "# LRLLLRLLRRL"
   ]
  },
  {
   "cell_type": "code",
   "execution_count": 28,
   "metadata": {},
   "outputs": [],
   "source": [
    "numbers = [7, 0, 8, 2, 8, 3, 1, 5, 7, 6, 2]\n",
    "hand = \"left\"\n",
    "# LRLLRRLLLRR"
   ]
  },
  {
   "cell_type": "code",
   "execution_count": 30,
   "metadata": {},
   "outputs": [],
   "source": [
    "numbers = [1, 2, 3, 4, 5, 6, 7, 8, 9, 0]\n",
    "hand = \"right\"\n",
    "# LLRLLRLLRL"
   ]
  },
  {
   "cell_type": "code",
   "execution_count": 31,
   "metadata": {},
   "outputs": [
    {
     "data": {
      "text/plain": [
       "'LLRLLRLLRL'"
      ]
     },
     "execution_count": 31,
     "metadata": {},
     "output_type": "execute_result"
    }
   ],
   "source": [
    "solution(numbers, hand)"
   ]
  },
  {
   "cell_type": "code",
   "execution_count": null,
   "metadata": {},
   "outputs": [],
   "source": []
  },
  {
   "cell_type": "code",
   "execution_count": 37,
   "metadata": {},
   "outputs": [],
   "source": [
    "def solution(numbers):\n",
    "    answer = 0\n",
    "    whole = set([1,2,3,4,5,6,7,8,9,0])\n",
    "    numbers = set(numbers)\n",
    "    \n",
    "    sub = whole-numbers\n",
    "    \n",
    "    for i in list(sub) :\n",
    "        answer += i\n",
    "    return answer"
   ]
  },
  {
   "cell_type": "code",
   "execution_count": 38,
   "metadata": {},
   "outputs": [],
   "source": [
    "numbers = [1,2,3,4,6,7,8,0]\n",
    "# 14"
   ]
  },
  {
   "cell_type": "code",
   "execution_count": 40,
   "metadata": {},
   "outputs": [],
   "source": [
    "numbers = [5,8,4,0,6,7,9]\n",
    "# 6"
   ]
  },
  {
   "cell_type": "code",
   "execution_count": 41,
   "metadata": {},
   "outputs": [
    {
     "data": {
      "text/plain": [
       "6"
      ]
     },
     "execution_count": 41,
     "metadata": {},
     "output_type": "execute_result"
    }
   ],
   "source": [
    "solution(numbers)"
   ]
  },
  {
   "cell_type": "code",
   "execution_count": null,
   "metadata": {},
   "outputs": [],
   "source": []
  },
  {
   "cell_type": "markdown",
   "metadata": {},
   "source": [
    "## 1"
   ]
  },
  {
   "cell_type": "code",
   "execution_count": 4,
   "metadata": {},
   "outputs": [],
   "source": [
    "def solution(n, k) :\n",
    "    answer = 0\n",
    "    \n",
    "    cnt = 0\n",
    "    for i in range(1, n+1) :\n",
    "        if n%i == 0 :\n",
    "            cnt += 1\n",
    "        if cnt == k :\n",
    "            answer = i\n",
    "            break\n",
    "        \n",
    "    else :\n",
    "        answer = -1\n",
    "    return answer"
   ]
  },
  {
   "cell_type": "code",
   "execution_count": 5,
   "metadata": {},
   "outputs": [],
   "source": [
    "n = 6\n",
    "k = 3\n",
    "# 3"
   ]
  },
  {
   "cell_type": "code",
   "execution_count": 7,
   "metadata": {},
   "outputs": [],
   "source": [
    "n = 6\n",
    "k = 5\n",
    "# -1"
   ]
  },
  {
   "cell_type": "code",
   "execution_count": 8,
   "metadata": {},
   "outputs": [
    {
     "data": {
      "text/plain": [
       "-1"
      ]
     },
     "execution_count": 8,
     "metadata": {},
     "output_type": "execute_result"
    }
   ],
   "source": [
    "solution(n,k)"
   ]
  },
  {
   "cell_type": "code",
   "execution_count": null,
   "metadata": {},
   "outputs": [],
   "source": []
  },
  {
   "cell_type": "markdown",
   "metadata": {},
   "source": [
    "## 2"
   ]
  },
  {
   "cell_type": "code",
   "execution_count": 42,
   "metadata": {},
   "outputs": [],
   "source": [
    "def solution(T, cases, data) :\n",
    "    answer = []\n",
    "    for i in range(T) :\n",
    "        temp = data\n",
    "        tot, start, end, target = cases[i]\n",
    "        temp = sorted(temp[i][start-1:end])\n",
    "        answer.append(temp[target-1])\n",
    "    return answer"
   ]
  },
  {
   "cell_type": "code",
   "execution_count": 43,
   "metadata": {},
   "outputs": [],
   "source": [
    "T = 2\n",
    "cases = [[6,2,5,3], [15,3,10,3]]\n",
    "data = [[5,2,7,3,8,9], [4,15,8,16,6,6,17,3,10,11,18,7,14,7,15]]\n",
    "# [7,6]"
   ]
  },
  {
   "cell_type": "code",
   "execution_count": 44,
   "metadata": {},
   "outputs": [
    {
     "data": {
      "text/plain": [
       "[7, 6]"
      ]
     },
     "execution_count": 44,
     "metadata": {},
     "output_type": "execute_result"
    }
   ],
   "source": [
    "solution(T, cases, data)"
   ]
  },
  {
   "cell_type": "code",
   "execution_count": null,
   "metadata": {},
   "outputs": [],
   "source": []
  },
  {
   "cell_type": "markdown",
   "metadata": {},
   "source": [
    "## 3"
   ]
  },
  {
   "cell_type": "code",
   "execution_count": 55,
   "metadata": {},
   "outputs": [],
   "source": [
    "from itertools import combinations"
   ]
  },
  {
   "cell_type": "code",
   "execution_count": 70,
   "metadata": {},
   "outputs": [],
   "source": [
    "def solution(N,K,card) :\n",
    "    answer = 1e9\n",
    "    card = sorted(card, reverse=True)\n",
    "    candidates = sorted(list(combinations(card, 3)), reverse=True)\n",
    "    idx = 0\n",
    "    while K > 0 :\n",
    "        total = sum(candidates[idx])\n",
    "        if total < answer :\n",
    "            answer = total\n",
    "            K-=1\n",
    "        idx += 1\n",
    "    return answer"
   ]
  },
  {
   "cell_type": "code",
   "execution_count": 71,
   "metadata": {},
   "outputs": [],
   "source": [
    "N = 10\n",
    "K = 3\n",
    "card = [13,15,34,23,45,65,33,11,26,42]\n",
    "#143"
   ]
  },
  {
   "cell_type": "code",
   "execution_count": 72,
   "metadata": {},
   "outputs": [
    {
     "data": {
      "text/plain": [
       "143"
      ]
     },
     "execution_count": 72,
     "metadata": {},
     "output_type": "execute_result"
    }
   ],
   "source": [
    "solution(N,K,card)"
   ]
  },
  {
   "cell_type": "code",
   "execution_count": null,
   "metadata": {},
   "outputs": [],
   "source": []
  },
  {
   "cell_type": "markdown",
   "metadata": {},
   "source": [
    "## 4"
   ]
  },
  {
   "cell_type": "code",
   "execution_count": 37,
   "metadata": {},
   "outputs": [],
   "source": [
    "def solution(N, scores) :\n",
    "    answer = []\n",
    "    avg = round(sum(scores) / N)\n",
    "    answer.append(avg)\n",
    "    \n",
    "    found = False\n",
    "    target = 0\n",
    "    candidates = []\n",
    "    while (not found) :\n",
    "        for i in range(N) :\n",
    "            if target == abs(scores[i]-avg) :\n",
    "                candidates.append([scores[i], i+1])\n",
    "        if len(candidates) > 0 :\n",
    "            break\n",
    "        else :\n",
    "            target += 1\n",
    "    \n",
    "    candidates = sorted(candidates, reverse = True)\n",
    "    candidates = list(filter(lambda x:x[0] == avg+target, candidates))\n",
    "    answer.append(candidates[-1][-1])\n",
    "    return answer"
   ]
  },
  {
   "cell_type": "code",
   "execution_count": 38,
   "metadata": {},
   "outputs": [],
   "source": [
    "N = 10\n",
    "scores = [45, 73, 66, 87, 92, 67, 75, 79, 75, 80]\n",
    "# [74, 7]"
   ]
  },
  {
   "cell_type": "code",
   "execution_count": 39,
   "metadata": {},
   "outputs": [
    {
     "data": {
      "text/plain": [
       "[74, 7]"
      ]
     },
     "execution_count": 39,
     "metadata": {},
     "output_type": "execute_result"
    }
   ],
   "source": [
    "solution(N, scores)"
   ]
  },
  {
   "cell_type": "code",
   "execution_count": null,
   "metadata": {},
   "outputs": [],
   "source": []
  },
  {
   "cell_type": "markdown",
   "metadata": {},
   "source": [
    "## 5"
   ]
  },
  {
   "cell_type": "code",
   "execution_count": 4,
   "metadata": {},
   "outputs": [],
   "source": [
    "from collections import defaultdict"
   ]
  },
  {
   "cell_type": "code",
   "execution_count": 11,
   "metadata": {},
   "outputs": [],
   "source": [
    "def solution(N, M) :\n",
    "    answer = []\n",
    "    sum_dict = defaultdict(int)\n",
    "    \n",
    "    for i in range(N) :\n",
    "        for j in range(M) :\n",
    "            sum_dict[i+j+2] += 1\n",
    "    \n",
    "    max_prob = max(sum_dict.values())\n",
    "    \n",
    "    for elem in sum_dict :\n",
    "        if sum_dict[elem] == max_prob :\n",
    "            answer.append(elem)\n",
    "    return sorted(answer)"
   ]
  },
  {
   "cell_type": "code",
   "execution_count": 12,
   "metadata": {},
   "outputs": [],
   "source": [
    "N = 4\n",
    "M = 6\n",
    "# [5, 6, 7]"
   ]
  },
  {
   "cell_type": "code",
   "execution_count": 13,
   "metadata": {},
   "outputs": [
    {
     "data": {
      "text/plain": [
       "[5, 6, 7]"
      ]
     },
     "execution_count": 13,
     "metadata": {},
     "output_type": "execute_result"
    }
   ],
   "source": [
    "solution(N, M)"
   ]
  },
  {
   "cell_type": "code",
   "execution_count": null,
   "metadata": {},
   "outputs": [],
   "source": []
  },
  {
   "cell_type": "markdown",
   "metadata": {},
   "source": [
    "## 6"
   ]
  },
  {
   "cell_type": "code",
   "execution_count": 35,
   "metadata": {},
   "outputs": [],
   "source": [
    "def digit_sum(x) :\n",
    "    summary = 0\n",
    "    for i in str(x) :\n",
    "        summary += int(i)\n",
    "    return summary"
   ]
  },
  {
   "cell_type": "code",
   "execution_count": 36,
   "metadata": {},
   "outputs": [],
   "source": [
    "def solution(nums) :\n",
    "    answer = 0\n",
    "    summary_lst = []\n",
    "    for num in nums :\n",
    "        summary_lst.append(digit_sum(num))\n",
    "    max_idx = summary_lst.index(max(summary_lst))\n",
    "    answer = nums[max_idx]\n",
    "    return answer"
   ]
  },
  {
   "cell_type": "code",
   "execution_count": 37,
   "metadata": {},
   "outputs": [],
   "source": [
    "nums = [125, 15232, 97]\n",
    "# 97"
   ]
  },
  {
   "cell_type": "code",
   "execution_count": 38,
   "metadata": {},
   "outputs": [
    {
     "data": {
      "text/plain": [
       "97"
      ]
     },
     "execution_count": 38,
     "metadata": {},
     "output_type": "execute_result"
    }
   ],
   "source": [
    "solution(nums)"
   ]
  },
  {
   "cell_type": "code",
   "execution_count": null,
   "metadata": {},
   "outputs": [],
   "source": []
  },
  {
   "cell_type": "markdown",
   "metadata": {},
   "source": [
    "## 7"
   ]
  },
  {
   "cell_type": "code",
   "execution_count": 39,
   "metadata": {},
   "outputs": [],
   "source": [
    "import math"
   ]
  },
  {
   "cell_type": "code",
   "execution_count": 41,
   "metadata": {},
   "outputs": [],
   "source": [
    "def solution(n) :\n",
    "    answer = 0\n",
    "    prime_lst = []\n",
    "    array = [True for i in range(n+1)]\n",
    "    \n",
    "    for i in range(2, int(math.sqrt(n)) + 1) :\n",
    "        if array[i] == True :\n",
    "            j = 2\n",
    "            while i * j <= n :\n",
    "                array[i*j] = False\n",
    "                j += 1\n",
    "    \n",
    "    for i in range(2, n+1) :\n",
    "        if array[i] :\n",
    "            prime_lst.append(i)\n",
    "    answer = len(prime_lst)\n",
    "    return answer"
   ]
  },
  {
   "cell_type": "code",
   "execution_count": 42,
   "metadata": {},
   "outputs": [],
   "source": [
    "n = 20\n",
    "# 8"
   ]
  },
  {
   "cell_type": "code",
   "execution_count": 43,
   "metadata": {},
   "outputs": [
    {
     "data": {
      "text/plain": [
       "8"
      ]
     },
     "execution_count": 43,
     "metadata": {},
     "output_type": "execute_result"
    }
   ],
   "source": [
    "solution(n)"
   ]
  },
  {
   "cell_type": "code",
   "execution_count": null,
   "metadata": {},
   "outputs": [],
   "source": []
  },
  {
   "cell_type": "markdown",
   "metadata": {},
   "source": [
    "## 8"
   ]
  },
  {
   "cell_type": "code",
   "execution_count": 56,
   "metadata": {},
   "outputs": [],
   "source": [
    "def reverse(num) :\n",
    "    num = str(num)\n",
    "    reversed_num = ''\n",
    "    for i in range(len(num)-1, -1, -1):\n",
    "        reversed_num += num[i]\n",
    "    return int(reversed_num)        "
   ]
  },
  {
   "cell_type": "code",
   "execution_count": 57,
   "metadata": {},
   "outputs": [],
   "source": [
    "def isPrime(k) :\n",
    "    if k == 2 or k == 3: return True\n",
    "    if k % 2 == 0 or k < 2: return False\n",
    "    for i in range(3, int(k ** 0.5) + 1, 2):\n",
    "        if k % i == 0:\n",
    "            return False\n",
    "    return True"
   ]
  },
  {
   "cell_type": "code",
   "execution_count": 58,
   "metadata": {},
   "outputs": [],
   "source": [
    "def solution(nums) :\n",
    "    answer = []\n",
    "    for num in nums :\n",
    "        num = reverse(num)\n",
    "        if isPrime(num) :\n",
    "            answer.append(num)\n",
    "    return answer"
   ]
  },
  {
   "cell_type": "code",
   "execution_count": 59,
   "metadata": {},
   "outputs": [],
   "source": [
    "nums = [32, 55, 62, 3700, 250]\n",
    "# [23, 73]"
   ]
  },
  {
   "cell_type": "code",
   "execution_count": 60,
   "metadata": {},
   "outputs": [
    {
     "data": {
      "text/plain": [
       "[23, 73]"
      ]
     },
     "execution_count": 60,
     "metadata": {},
     "output_type": "execute_result"
    }
   ],
   "source": [
    "solution(nums)"
   ]
  },
  {
   "cell_type": "code",
   "execution_count": null,
   "metadata": {},
   "outputs": [],
   "source": []
  },
  {
   "cell_type": "markdown",
   "metadata": {},
   "source": [
    "## 9"
   ]
  },
  {
   "cell_type": "code",
   "execution_count": 64,
   "metadata": {},
   "outputs": [],
   "source": [
    "from collections import defaultdict"
   ]
  },
  {
   "cell_type": "code",
   "execution_count": 108,
   "metadata": {},
   "outputs": [],
   "source": [
    "def solution(dices) :\n",
    "    answer = 0\n",
    "    score_lst = []\n",
    "    \n",
    "    for dice in dices :\n",
    "        num_dict = defaultdict(int)\n",
    "        for result in dice :\n",
    "            num_dict[result] += 1\n",
    "        \n",
    "        num_dict = sorted(num_dict.items(),key=lambda x: x[1],reverse=True)\n",
    "        \n",
    "        score = 0\n",
    "        if len(num_dict) == 3 :\n",
    "            score = max(dice) * 100\n",
    "        elif len(num_dict) == 2 :\n",
    "            score = 1000 + num_dict[0][0] * 100\n",
    "        else :\n",
    "            score = 10000 + dice[0] * 1000\n",
    "        score_lst.append(score)\n",
    "    \n",
    "    answer = max(score_lst)\n",
    "    return answer"
   ]
  },
  {
   "cell_type": "code",
   "execution_count": 109,
   "metadata": {},
   "outputs": [],
   "source": [
    "dices = [[3,3,6], [2,2,2], [6,2,5]]\n",
    "# 12000"
   ]
  },
  {
   "cell_type": "code",
   "execution_count": 110,
   "metadata": {},
   "outputs": [
    {
     "data": {
      "text/plain": [
       "12000"
      ]
     },
     "execution_count": 110,
     "metadata": {},
     "output_type": "execute_result"
    }
   ],
   "source": [
    "solution(dices)"
   ]
  },
  {
   "cell_type": "code",
   "execution_count": null,
   "metadata": {},
   "outputs": [],
   "source": []
  },
  {
   "cell_type": "markdown",
   "metadata": {},
   "source": [
    "## 10"
   ]
  },
  {
   "cell_type": "code",
   "execution_count": 117,
   "metadata": {},
   "outputs": [],
   "source": [
    "def solution(scores) :\n",
    "    answer = 0\n",
    "    \n",
    "    prev = 0\n",
    "    prev_score = 0\n",
    "    for score in scores :\n",
    "        if score == 1 :\n",
    "            prev += 1\n",
    "            prev_score += prev\n",
    "        else :\n",
    "            answer += prev_score\n",
    "            prev = 0\n",
    "            prev_score = 0\n",
    "    return answer"
   ]
  },
  {
   "cell_type": "code",
   "execution_count": 118,
   "metadata": {},
   "outputs": [],
   "source": [
    "scores = [1,0,1,1,1,0,0,1,1,0]\n",
    "# 10"
   ]
  },
  {
   "cell_type": "code",
   "execution_count": 119,
   "metadata": {},
   "outputs": [
    {
     "data": {
      "text/plain": [
       "10"
      ]
     },
     "execution_count": 119,
     "metadata": {},
     "output_type": "execute_result"
    }
   ],
   "source": [
    "solution(scores)"
   ]
  }
 ],
 "metadata": {
  "kernelspec": {
   "display_name": "Python 3",
   "language": "python",
   "name": "python3"
  },
  "language_info": {
   "codemirror_mode": {
    "name": "ipython",
    "version": 3
   },
   "file_extension": ".py",
   "mimetype": "text/x-python",
   "name": "python",
   "nbconvert_exporter": "python",
   "pygments_lexer": "ipython3",
   "version": "3.7.9"
  }
 },
 "nbformat": 4,
 "nbformat_minor": 4
}
