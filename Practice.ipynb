{
 "cells": [
  {
   "cell_type": "code",
   "execution_count": 1,
   "metadata": {},
   "outputs": [],
   "source": [
    "participant = [\"leo\", \"kiki\", \"eden\"]\n",
    "completion = [\"eden\", \"kiki\"]"
   ]
  },
  {
   "cell_type": "code",
   "execution_count": 12,
   "metadata": {},
   "outputs": [],
   "source": [
    "def solution(participant, completion) :\n",
    "    answer = \"\"\n",
    "    part_dict = {}\n",
    "    \n",
    "    for p in participant :\n",
    "        part_dict[p] = part_dict.get(p,0) + 1\n",
    "        \n",
    "    for c in completion :\n",
    "        part_dict[c] -= 1\n",
    "        \n",
    "        if part_dict[c] == 0 :\n",
    "            del part_dict[c]\n",
    "\n",
    "    return list(part_dict)[0]"
   ]
  },
  {
   "cell_type": "code",
   "execution_count": 13,
   "metadata": {},
   "outputs": [
    {
     "data": {
      "text/plain": [
       "'leo'"
      ]
     },
     "execution_count": 13,
     "metadata": {},
     "output_type": "execute_result"
    }
   ],
   "source": [
    "solution(participant, completion)"
   ]
  },
  {
   "cell_type": "code",
   "execution_count": null,
   "metadata": {},
   "outputs": [],
   "source": []
  },
  {
   "cell_type": "code",
   "execution_count": 178,
   "metadata": {},
   "outputs": [],
   "source": [
    "phone_book = [\"119\", \"97674223\", \"976742233\"]"
   ]
  },
  {
   "cell_type": "code",
   "execution_count": 173,
   "metadata": {},
   "outputs": [],
   "source": [
    "phone_book = [\"123\",\"456\",\"789\"]"
   ]
  },
  {
   "cell_type": "code",
   "execution_count": 142,
   "metadata": {},
   "outputs": [],
   "source": [
    "phone_book = [\"12\",\"123\",\"1235\",\"567\",\"88\"]"
   ]
  },
  {
   "cell_type": "code",
   "execution_count": 179,
   "metadata": {},
   "outputs": [],
   "source": [
    "def solution(phone_book) :\n",
    "    answer = False\n",
    "    \n",
    "    phone_book = sorted(phone_book)\n",
    "    \n",
    "    max_length = len(phone_book[-1])+1\n",
    "    i = len(phone_book[0])\n",
    "    \n",
    "    while(i < max_length) :\n",
    "        num_dict = {}\n",
    "        for num in phone_book :\n",
    "            num_dict[num[:i]] = num_dict.get(num[:i], 0) + 1\n",
    "        \n",
    "        print(num_dict)\n",
    "            \n",
    "        if len(num_dict) != len(phone_book) :\n",
    "            return False\n",
    "        else :\n",
    "            i += 1\n",
    "    \n",
    "    \n",
    "    return answer"
   ]
  },
  {
   "cell_type": "code",
   "execution_count": 180,
   "metadata": {},
   "outputs": [],
   "source": [
    "def solution(phone_book):\n",
    "    phone_book.sort(key=str.lower,reverse=True)\n",
    "    for i in range(len(phone_book)-1):\n",
    "        k = phone_book[i]\n",
    "        print(k)\n",
    "        if k.startswith(phone_book[i+1]): \n",
    "            return False\n",
    "    return True"
   ]
  },
  {
   "cell_type": "code",
   "execution_count": 181,
   "metadata": {},
   "outputs": [
    {
     "name": "stdout",
     "output_type": "stream",
     "text": [
      "976742233\n"
     ]
    },
    {
     "data": {
      "text/plain": [
       "False"
      ]
     },
     "execution_count": 181,
     "metadata": {},
     "output_type": "execute_result"
    }
   ],
   "source": [
    "solution(phone_book)"
   ]
  },
  {
   "cell_type": "code",
   "execution_count": 1,
   "metadata": {},
   "outputs": [],
   "source": [
    "def dfs(numbers, i, n, target) :\n",
    "    ret = 0\n",
    "    \n",
    "    if (i == len(numbers)) :\n",
    "        if (n == target) : return 1\n",
    "        else : return 0\n",
    "    \n",
    "    ret += dfs(numbers, i+1, n+numbers[i], target)\n",
    "    ret += dfs(numbers, i+1, n-numbers[i], target)\n",
    "    return ret\n",
    "\n",
    "def solution(numbers, target):\n",
    "    answer = 0\n",
    "    \n",
    "    answer += dfs(numbers, 0, 0, target)\n",
    "    return answer"
   ]
  },
  {
   "cell_type": "code",
   "execution_count": 2,
   "metadata": {},
   "outputs": [],
   "source": [
    "numbers = [1, 1, 1, 1, 1]\n",
    "target= 3"
   ]
  },
  {
   "cell_type": "code",
   "execution_count": 3,
   "metadata": {},
   "outputs": [
    {
     "data": {
      "text/plain": [
       "5"
      ]
     },
     "execution_count": 3,
     "metadata": {},
     "output_type": "execute_result"
    }
   ],
   "source": [
    "solution(numbers, target)"
   ]
  },
  {
   "cell_type": "markdown",
   "metadata": {},
   "source": [
    "# Greedy"
   ]
  },
  {
   "cell_type": "code",
   "execution_count": 1,
   "metadata": {},
   "outputs": [],
   "source": [
    "first_row = '5 8 3'\n",
    "second_row = '2 4 5 4 6'"
   ]
  },
  {
   "cell_type": "code",
   "execution_count": 12,
   "metadata": {},
   "outputs": [],
   "source": [
    "def solution(first_row, second_row) :\n",
    "    answer = 0\n",
    "    \n",
    "    n, m, k = map(int, first_row.split())\n",
    "    data = list(map(int, second_row.split()))\n",
    "    \n",
    "    data.sort()\n",
    "    max_val = data[n-1]\n",
    "    second_val = data[n-2]\n",
    "    \n",
    "    while True:\n",
    "        for i in range(k) :\n",
    "            if m == 0:\n",
    "                break\n",
    "            answer += max_val\n",
    "            m -= 1\n",
    "        if m == 0:\n",
    "            break\n",
    "        answer += second_val\n",
    "        m -= 1\n",
    "    \n",
    "    return answer"
   ]
  },
  {
   "cell_type": "code",
   "execution_count": 25,
   "metadata": {},
   "outputs": [],
   "source": [
    "def solution2(first_row, second_row):\n",
    "    answer = 0\n",
    "    n, m, k = map(int, first_row.split())\n",
    "    data = list(map(int, second_row.split()))\n",
    "    \n",
    "    data.sort()\n",
    "    first_val = data[n-1]\n",
    "    second_val = data[n-2]\n",
    "    \n",
    "    count = int(m/(k+1)) * k\n",
    "    count += m % (k+1)\n",
    "    \n",
    "    answer += count * first_val\n",
    "    answer += (m-count) * second_val\n",
    "\n",
    "    return answer"
   ]
  },
  {
   "cell_type": "code",
   "execution_count": 15,
   "metadata": {},
   "outputs": [
    {
     "data": {
      "text/plain": [
       "46"
      ]
     },
     "execution_count": 15,
     "metadata": {},
     "output_type": "execute_result"
    }
   ],
   "source": [
    "solution(first_row, second_row)"
   ]
  },
  {
   "cell_type": "code",
   "execution_count": 26,
   "metadata": {},
   "outputs": [
    {
     "data": {
      "text/plain": [
       "46"
      ]
     },
     "execution_count": 26,
     "metadata": {},
     "output_type": "execute_result"
    }
   ],
   "source": [
    "solution2(first_row, second_row)"
   ]
  },
  {
   "cell_type": "code",
   "execution_count": null,
   "metadata": {},
   "outputs": [],
   "source": []
  },
  {
   "cell_type": "code",
   "execution_count": 27,
   "metadata": {},
   "outputs": [],
   "source": [
    "data1 = '3 3'\n",
    "data2 = '3 1 2'\n",
    "data3 = '4 1 4'\n",
    "data4 = '2 2 2'"
   ]
  },
  {
   "cell_type": "code",
   "execution_count": 32,
   "metadata": {},
   "outputs": [],
   "source": [
    "def solution(data1, data2, data3, data4):\n",
    "    answer = 0\n",
    "    n, m = map(int, data1.split())\n",
    "    \n",
    "    row1 = list(map(int, data2.split()))\n",
    "    row2 = list(map(int, data3.split()))\n",
    "    row3 = list(map(int, data4.split()))\n",
    "    answer = max(min(row1), min(row2), min(row3))\n",
    "    return answer"
   ]
  },
  {
   "cell_type": "code",
   "execution_count": 35,
   "metadata": {},
   "outputs": [],
   "source": [
    "def solution2(data1, data2, data3, data4) :\n",
    "    answer = 0\n",
    "    n, m = map(int, data1.split())\n",
    "    \n",
    "    rows = []\n",
    "    row1 = list(map(int, data2.split()))\n",
    "    row2 = list(map(int, data3.split()))\n",
    "    row3 = list(map(int, data4.split()))\n",
    "    rows.append(row1)\n",
    "    rows.append(row2)\n",
    "    rows.append(row3)\n",
    "    \n",
    "    for row in rows:\n",
    "        min_val = 10001\n",
    "        for elem in row:\n",
    "            min_val = min(elem, min_val)\n",
    "        answer = max(min_val, answer)\n",
    "            \n",
    "    return answer\n",
    "    "
   ]
  },
  {
   "cell_type": "code",
   "execution_count": 36,
   "metadata": {},
   "outputs": [
    {
     "data": {
      "text/plain": [
       "2"
      ]
     },
     "execution_count": 36,
     "metadata": {},
     "output_type": "execute_result"
    }
   ],
   "source": [
    "solution(data1, data2, data3, data4)"
   ]
  },
  {
   "cell_type": "code",
   "execution_count": 37,
   "metadata": {},
   "outputs": [
    {
     "data": {
      "text/plain": [
       "2"
      ]
     },
     "execution_count": 37,
     "metadata": {},
     "output_type": "execute_result"
    }
   ],
   "source": [
    "solution2(data1, data2, data3, data4)"
   ]
  },
  {
   "cell_type": "code",
   "execution_count": null,
   "metadata": {},
   "outputs": [],
   "source": []
  },
  {
   "cell_type": "code",
   "execution_count": 38,
   "metadata": {},
   "outputs": [],
   "source": [
    "data = '25 5'"
   ]
  },
  {
   "cell_type": "code",
   "execution_count": 52,
   "metadata": {},
   "outputs": [],
   "source": [
    "def solution(data):\n",
    "    answer = 0\n",
    "    n, k = map(int, data.split())\n",
    "    \n",
    "    answer += n%k\n",
    "    \n",
    "    while n%k == 0 and n//k > 0: # 혹은 n>=k\n",
    "        n = n//k\n",
    "        answer += 1\n",
    "    \n",
    "    return answer"
   ]
  },
  {
   "cell_type": "code",
   "execution_count": 53,
   "metadata": {},
   "outputs": [
    {
     "data": {
      "text/plain": [
       "2"
      ]
     },
     "execution_count": 53,
     "metadata": {},
     "output_type": "execute_result"
    }
   ],
   "source": [
    "solution(data)"
   ]
  },
  {
   "cell_type": "code",
   "execution_count": null,
   "metadata": {},
   "outputs": [],
   "source": []
  },
  {
   "cell_type": "code",
   "execution_count": 1,
   "metadata": {},
   "outputs": [],
   "source": [
    "from collections import defaultdict\n",
    "import math"
   ]
  },
  {
   "cell_type": "code",
   "execution_count": 2,
   "metadata": {},
   "outputs": [],
   "source": [
    "def solution(fees, records):\n",
    "    answer = []\n",
    "    \n",
    "    car_in_dict = defaultdict(lambda:'')\n",
    "    total_time = defaultdict(int)\n",
    "    \n",
    "    for record in records :\n",
    "        time, num, act = record.split()\n",
    "        \n",
    "        if act == 'IN' :\n",
    "            car_in_dict[num] = time\n",
    "        else :\n",
    "            total_time[num] += hour_to_minute(time) - hour_to_minute(car_in_dict[num])\n",
    "            car_in_dict[num] = ''\n",
    "    \n",
    "    for num in car_in_dict :\n",
    "        if car_in_dict[num] != '' :\n",
    "            total_time[num] += hour_to_minute('23:59') - hour_to_minute(car_in_dict[num])\n",
    "    \n",
    "    total_time = sorted(total_time.items())\n",
    "    \n",
    "    for num, time in total_time :\n",
    "        answer.append(calculate_fee(time, fees))\n",
    "        \n",
    "    return answer"
   ]
  },
  {
   "cell_type": "code",
   "execution_count": 3,
   "metadata": {},
   "outputs": [],
   "source": [
    "def hour_to_minute(time) :\n",
    "    hour, minute = time.split(':')\n",
    "    minute = int(hour) * 60 + int(minute)\n",
    "    return minute"
   ]
  },
  {
   "cell_type": "code",
   "execution_count": 4,
   "metadata": {},
   "outputs": [],
   "source": [
    "def calculate_fee(time, fees) :\n",
    "    fee = 0\n",
    "    time = int(time)\n",
    "    if time > fees[0] :\n",
    "        fee += fees[1] + math.ceil((time-fees[0])/fees[2]) * fees[3]\n",
    "    else :\n",
    "        fee += fees[1]\n",
    "    return fee"
   ]
  },
  {
   "cell_type": "code",
   "execution_count": 5,
   "metadata": {},
   "outputs": [],
   "source": [
    "fees = [180, 5000, 10, 600]\n",
    "records = [\"05:34 5961 IN\", \"06:00 0000 IN\", \"06:34 0000 OUT\", \"07:59 5961 OUT\", \"07:59 0148 IN\", \"18:59 0000 IN\", \"19:09 0148 OUT\", \"22:59 5961 IN\", \"23:00 5961 OUT\"]"
   ]
  },
  {
   "cell_type": "code",
   "execution_count": 6,
   "metadata": {},
   "outputs": [],
   "source": [
    "fees = [120, 0, 60, 591]\n",
    "records = [\"16:00 3961 IN\",\"16:00 0202 IN\",\"18:00 3961 OUT\",\"18:00 0202 OUT\",\"23:58 3961 IN\"]"
   ]
  },
  {
   "cell_type": "code",
   "execution_count": 7,
   "metadata": {},
   "outputs": [],
   "source": [
    "fees = [1, 461, 1, 10]\n",
    "records = [\"00:00 1234 IN\"]"
   ]
  },
  {
   "cell_type": "code",
   "execution_count": 8,
   "metadata": {},
   "outputs": [
    {
     "data": {
      "text/plain": [
       "[14841]"
      ]
     },
     "execution_count": 8,
     "metadata": {},
     "output_type": "execute_result"
    }
   ],
   "source": [
    "solution(fees, records)"
   ]
  },
  {
   "cell_type": "code",
   "execution_count": null,
   "metadata": {},
   "outputs": [],
   "source": []
  },
  {
   "cell_type": "code",
   "execution_count": 62,
   "metadata": {},
   "outputs": [],
   "source": [
    "def get_score(ryan, info) :\n",
    "    score = 0\n",
    "    for i in range(11) :\n",
    "        if ryan[i] == info[i] == 0 :\n",
    "            continue\n",
    "        if ryan[i] > info[i] :\n",
    "            score += 10-i\n",
    "        else :\n",
    "            score -= 10-i\n",
    "    return score"
   ]
  },
  {
   "cell_type": "code",
   "execution_count": 63,
   "metadata": {},
   "outputs": [],
   "source": [
    "def dfs(point, left, info, temp, answer, result) :\n",
    "    if point == -1 and left :\n",
    "        return answer, result\n",
    "    if left == 0 :\n",
    "        score = get_score(temp, info)\n",
    "        if result < score :\n",
    "            answer = temp[:]\n",
    "            result = score\n",
    "        return answer, result\n",
    "    for i in range(left, -1, -1) :\n",
    "        temp[point] = i\n",
    "        answer, result = dfs(point-1, left-i, info, temp, answer, result)\n",
    "        temp[point] = 0\n",
    "    return answer, result"
   ]
  },
  {
   "cell_type": "code",
   "execution_count": 64,
   "metadata": {},
   "outputs": [],
   "source": [
    "def solution(n, info) :\n",
    "    answer = []\n",
    "    answer = [0 for _ in range(11)]\n",
    "    temp = [0 for _ in range(11)]\n",
    "    \n",
    "    answer, result = dfs(10, n, info, temp, answer, 0)\n",
    "    return answer if result != 0 else [-1]"
   ]
  },
  {
   "cell_type": "code",
   "execution_count": 65,
   "metadata": {},
   "outputs": [],
   "source": [
    "n = 5\n",
    "info = [2,1,1,1,0,0,0,0,0,0,0]\n",
    "#[0,2,2,0,1,0,0,0,0,0,0]"
   ]
  },
  {
   "cell_type": "code",
   "execution_count": 67,
   "metadata": {},
   "outputs": [],
   "source": [
    "n = 1\n",
    "info = [1,0,0,0,0,0,0,0,0,0,0]\n",
    "#[-1]"
   ]
  },
  {
   "cell_type": "code",
   "execution_count": 69,
   "metadata": {},
   "outputs": [],
   "source": [
    "n = 9\n",
    "info = [0,0,1,2,0,1,1,1,1,1,1]\n",
    "#[1,1,2,0,1,2,2,0,0,0,0]"
   ]
  },
  {
   "cell_type": "code",
   "execution_count": 71,
   "metadata": {},
   "outputs": [],
   "source": [
    "n = 10\n",
    "info = [0,0,0,0,0,0,0,0,3,4,3]\n",
    "#[1,1,1,1,1,1,1,1,0,0,2]"
   ]
  },
  {
   "cell_type": "code",
   "execution_count": 72,
   "metadata": {},
   "outputs": [
    {
     "data": {
      "text/plain": [
       "[1, 1, 1, 1, 1, 1, 1, 1, 0, 0, 2]"
      ]
     },
     "execution_count": 72,
     "metadata": {},
     "output_type": "execute_result"
    }
   ],
   "source": [
    "solution(n, info)"
   ]
  }
 ],
 "metadata": {
  "kernelspec": {
   "display_name": "Python 3",
   "language": "python",
   "name": "python3"
  },
  "language_info": {
   "codemirror_mode": {
    "name": "ipython",
    "version": 3
   },
   "file_extension": ".py",
   "mimetype": "text/x-python",
   "name": "python",
   "nbconvert_exporter": "python",
   "pygments_lexer": "ipython3",
   "version": "3.7.9"
  }
 },
 "nbformat": 4,
 "nbformat_minor": 4
}
