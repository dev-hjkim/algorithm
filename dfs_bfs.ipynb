{
 "cells": [
  {
   "cell_type": "code",
   "execution_count": 1,
   "metadata": {},
   "outputs": [],
   "source": [
    "from collections import deque"
   ]
  },
  {
   "cell_type": "code",
   "execution_count": 19,
   "metadata": {},
   "outputs": [],
   "source": [
    "def solution(n, m, k, x, dist) :\n",
    "    answer = []\n",
    "    graph = [[] for _ in range(n+1)]\n",
    "    \n",
    "    for a, b in dist :\n",
    "        graph[a].append(b)\n",
    "        \n",
    "    distance = [-1] * (n+1)\n",
    "    distance[x] = 0\n",
    "    \n",
    "    q = deque([x])\n",
    "    while q:\n",
    "        now = q.popleft()\n",
    "        for next_node in graph[now]:\n",
    "            if distance[next_node] == -1 :\n",
    "                distance[next_node] = distance[now]+1\n",
    "                q.append(next_node)\n",
    "    \n",
    "    check = False\n",
    "    for i in range(1, n+1) :\n",
    "        if distance[i] == k :\n",
    "            answer.append(i)\n",
    "    \n",
    "    if len(answer) == 0 :\n",
    "        return [-1]\n",
    "    \n",
    "    return answer"
   ]
  },
  {
   "cell_type": "code",
   "execution_count": 20,
   "metadata": {},
   "outputs": [],
   "source": [
    "n = 4\n",
    "m = 4\n",
    "k = 2\n",
    "x = 1\n",
    "dist = [[1,2], [1,3], [2,3], [2,4]]"
   ]
  },
  {
   "cell_type": "code",
   "execution_count": 22,
   "metadata": {},
   "outputs": [],
   "source": [
    "n = 4\n",
    "m = 3\n",
    "k = 2\n",
    "x = 1\n",
    "dist = [[1,2], [1,3], [1,4]]"
   ]
  },
  {
   "cell_type": "code",
   "execution_count": 24,
   "metadata": {},
   "outputs": [],
   "source": [
    "n = 4\n",
    "m = 4\n",
    "k = 1\n",
    "x = 1\n",
    "dist = [[1,2], [1,3], [2,3], [2,4]]"
   ]
  },
  {
   "cell_type": "code",
   "execution_count": 25,
   "metadata": {},
   "outputs": [
    {
     "data": {
      "text/plain": [
       "[2, 3]"
      ]
     },
     "execution_count": 25,
     "metadata": {},
     "output_type": "execute_result"
    }
   ],
   "source": [
    "solution(n, m, k, x, dist)"
   ]
  },
  {
   "cell_type": "code",
   "execution_count": null,
   "metadata": {},
   "outputs": [],
   "source": []
  },
  {
   "cell_type": "code",
   "execution_count": 312,
   "metadata": {},
   "outputs": [],
   "source": [
    "def virus(x, y, temp) :\n",
    "    dx = [-1, 0, 1, 0]\n",
    "    dy = [0, 1, 0, -1]\n",
    "        \n",
    "    for i in range(4) :\n",
    "        nx = x + dx[i]\n",
    "        ny = y + dy[i]\n",
    "            \n",
    "        if nx >= 0 and nx < n and ny >= 0 and ny < m :\n",
    "            if temp[nx][ny] == 0 :\n",
    "                temp[nx][ny] = 2\n",
    "                temp = virus(nx, ny, temp)\n",
    "    return temp"
   ]
  },
  {
   "cell_type": "code",
   "execution_count": 313,
   "metadata": {},
   "outputs": [],
   "source": [
    "def get_score(temp) :\n",
    "    score = 0\n",
    "    for i in range(len(temp)) :\n",
    "        for j in range(len(temp[0])) :\n",
    "            if temp[i][j] == 0 :\n",
    "                score += 1\n",
    "    return score"
   ]
  },
  {
   "cell_type": "code",
   "execution_count": 314,
   "metadata": {},
   "outputs": [],
   "source": [
    "def dfs(count, answer, data, temp) :\n",
    "    n = len(data)\n",
    "    m = len(data[0])\n",
    "    if count == 3 :\n",
    "        for i in range(n) :\n",
    "            for j in range(m) :\n",
    "                temp[i][j] = data[i][j]\n",
    "        for i in range(n) :\n",
    "            for j in range(m) :\n",
    "                if temp[i][j] == 2 :\n",
    "                    temp = virus(i, j, temp)\n",
    "        answer = max(answer, get_score(temp))\n",
    "        return answer\n",
    "    for i in range(n) :\n",
    "        for j in range(m) :\n",
    "            if data[i][j] == 0 :\n",
    "                data[i][j] = 1\n",
    "                count += 1\n",
    "                answer = dfs(count, answer, data, temp)\n",
    "                data[i][j] = 0\n",
    "                count -= 1\n",
    "    return answer"
   ]
  },
  {
   "cell_type": "code",
   "execution_count": 315,
   "metadata": {},
   "outputs": [],
   "source": [
    "def solution(n, m, data) :\n",
    "    answer = 0\n",
    "    temp = [[0] * m for _ in range(n)]\n",
    "    \n",
    "    answer = dfs(0, answer, data, temp)\n",
    "    return answer"
   ]
  },
  {
   "cell_type": "code",
   "execution_count": 316,
   "metadata": {},
   "outputs": [],
   "source": [
    "n = 7\n",
    "m = 7\n",
    "data = [[2,0,0,0,1,1,0], [0,0,1,0,1,2,0], [0,1,1,0,1,0,0], [0,1,0,0,0,0,0], [0,0,0,0,0,1,1], [0,1,0,0,0,0,0], [0,1,0,0,0,0,0]]\n",
    "#27"
   ]
  },
  {
   "cell_type": "code",
   "execution_count": 318,
   "metadata": {},
   "outputs": [],
   "source": [
    "n = 4\n",
    "m = 6\n",
    "data = [[0,0,0,0,0,0], [1,0,0,0,0,2], [1,1,1,0,0,2], [0,0,0,0,0,2]]\n",
    "#9"
   ]
  },
  {
   "cell_type": "code",
   "execution_count": 320,
   "metadata": {},
   "outputs": [],
   "source": [
    "n = 8\n",
    "m = 8\n",
    "data = [[2,0,0,0,0,0,0,2], [2,0,0,0,0,0,0,2], [2,0,0,0,0,0,0,2], [2,0,0,0,0,0,0,2], [2,0,0,0,0,0,0,2], [0,0,0,0,0,0,0,0], [0,0,0,0,0,0,0,0], [0,0,0,0,0,0,0,0]]\n",
    "#3"
   ]
  },
  {
   "cell_type": "code",
   "execution_count": 321,
   "metadata": {},
   "outputs": [
    {
     "data": {
      "text/plain": [
       "3"
      ]
     },
     "execution_count": 321,
     "metadata": {},
     "output_type": "execute_result"
    }
   ],
   "source": [
    "solution(n, m, data)"
   ]
  },
  {
   "cell_type": "code",
   "execution_count": null,
   "metadata": {},
   "outputs": [],
   "source": []
  },
  {
   "cell_type": "code",
   "execution_count": 227,
   "metadata": {},
   "outputs": [],
   "source": [
    "from collections import deque"
   ]
  },
  {
   "cell_type": "code",
   "execution_count": 229,
   "metadata": {},
   "outputs": [],
   "source": [
    "def solution(n, k, graph, S, X, Y) :\n",
    "    data = []\n",
    "    \n",
    "    for i in range(n) :\n",
    "        for j in range(n) :\n",
    "            if graph[i][j] != 0 :\n",
    "                data.append((graph[i][j], 0, i, j))\n",
    "                \n",
    "    data.sort()\n",
    "    q = deque(data)\n",
    "    \n",
    "    target_s, target_x, target_y = S, X, Y\n",
    "    \n",
    "    dx = [-1, 0, 1, 0]\n",
    "    dy = [0, 1, 0, -1]\n",
    "    \n",
    "    while q :\n",
    "        virus, s, x, y = q.popleft()\n",
    "        \n",
    "        if s == target_s :\n",
    "            break\n",
    "        \n",
    "        for i in range(4) :\n",
    "            nx = x + dx[i]\n",
    "            ny = y + dy[i]\n",
    "            \n",
    "            if 0<=nx and nx<n and 0<=ny and ny<n :\n",
    "                if graph[nx][ny] == 0 :\n",
    "                    graph[nx][ny] = virus\n",
    "                    q.append((virus, s+1, nx, ny))\n",
    "    \n",
    "    return graph[target_x-1][target_y-1]"
   ]
  },
  {
   "cell_type": "code",
   "execution_count": 230,
   "metadata": {},
   "outputs": [],
   "source": [
    "n = 3\n",
    "k = 3\n",
    "graph = [[1,0,2], [0,0,0], [3,0,0]]\n",
    "S = 2\n",
    "X = 3\n",
    "Y = 2\n",
    "# 3"
   ]
  },
  {
   "cell_type": "code",
   "execution_count": 232,
   "metadata": {},
   "outputs": [],
   "source": [
    "n = 3\n",
    "k = 3\n",
    "graph = [[1,0,2], [0,0,0], [3,0,0]]\n",
    "S = 1\n",
    "X= 2\n",
    "Y = 2\n",
    "# 0"
   ]
  },
  {
   "cell_type": "code",
   "execution_count": 233,
   "metadata": {},
   "outputs": [
    {
     "data": {
      "text/plain": [
       "0"
      ]
     },
     "execution_count": 233,
     "metadata": {},
     "output_type": "execute_result"
    }
   ],
   "source": [
    "solution(n, k, graph, S, X, Y)"
   ]
  },
  {
   "cell_type": "code",
   "execution_count": null,
   "metadata": {},
   "outputs": [],
   "source": []
  },
  {
   "cell_type": "code",
   "execution_count": 234,
   "metadata": {},
   "outputs": [],
   "source": [
    "def balanced_index(p) :\n",
    "    count = 0\n",
    "    for i in range(len(p)) :\n",
    "        if p[i] == '(' :\n",
    "            count += 1\n",
    "        else :\n",
    "            count -= 1\n",
    "        if count == 0:\n",
    "            return i"
   ]
  },
  {
   "cell_type": "code",
   "execution_count": 235,
   "metadata": {},
   "outputs": [],
   "source": [
    "def check_proper(p) :\n",
    "    count = 0\n",
    "    for i in p :\n",
    "        if i == '(':\n",
    "            count += 1\n",
    "        else :\n",
    "            if count == 0 :\n",
    "                return False\n",
    "            count -= 1\n",
    "    return True"
   ]
  },
  {
   "cell_type": "code",
   "execution_count": 236,
   "metadata": {},
   "outputs": [],
   "source": [
    "def solution(p) :\n",
    "    answer = ''\n",
    "    if p == '' :\n",
    "        return answer\n",
    "    index = balanced_index(p)\n",
    "    u = p[:index+1]\n",
    "    v = p[index+1:]\n",
    "    \n",
    "    if check_proper(u) :\n",
    "        answer = u + solution(v)\n",
    "    else :\n",
    "        answer = '('\n",
    "        answer += solution(v)\n",
    "        answer += ')'\n",
    "        u = list(u[1:-1])\n",
    "        for i in range(len(u)) :\n",
    "            if u[i] == '(' :\n",
    "                u[i] = ')'\n",
    "            else :\n",
    "                u[i] = '('\n",
    "        answer += ''.join(u)\n",
    "    return answer"
   ]
  },
  {
   "cell_type": "code",
   "execution_count": 241,
   "metadata": {},
   "outputs": [],
   "source": [
    "p = '(()())()'\n",
    "# (()())()"
   ]
  },
  {
   "cell_type": "code",
   "execution_count": 243,
   "metadata": {},
   "outputs": [],
   "source": [
    "p = ')('\n",
    "# ()"
   ]
  },
  {
   "cell_type": "code",
   "execution_count": 245,
   "metadata": {},
   "outputs": [],
   "source": [
    "p = '()))((()'\n",
    "#()(())()"
   ]
  },
  {
   "cell_type": "code",
   "execution_count": 246,
   "metadata": {},
   "outputs": [
    {
     "data": {
      "text/plain": [
       "'()(())()'"
      ]
     },
     "execution_count": 246,
     "metadata": {},
     "output_type": "execute_result"
    }
   ],
   "source": [
    "solution(p)"
   ]
  },
  {
   "cell_type": "code",
   "execution_count": null,
   "metadata": {},
   "outputs": [],
   "source": []
  },
  {
   "cell_type": "code",
   "execution_count": 292,
   "metadata": {},
   "outputs": [],
   "source": [
    "def dfs(i, now, answer, operation, n) :\n",
    "    max_val, min_val = answer\n",
    "    add, sub, mul, div = operation\n",
    "    \n",
    "    if i == n :\n",
    "        max_val = max(max_val, now)\n",
    "        min_val = min(min_val, now)\n",
    "        answer = [max_val, min_val]\n",
    "        return answer\n",
    "    else :\n",
    "        if add > 0 :\n",
    "            add -= 1\n",
    "            operation = [add, sub, mul, div]\n",
    "            answer = dfs(i+1, now + data[i], answer, operation, n)\n",
    "            add += 1\n",
    "        if sub > 0 :\n",
    "            sub -= 1\n",
    "            operation = [add, sub, mul, div]\n",
    "            answer = dfs(i+1, now - data[i], answer, operation, n)\n",
    "            sub += 1\n",
    "        if mul > 0 :\n",
    "            mul -= 1\n",
    "            operation = [add, sub, mul, div]\n",
    "            answer = dfs(i+1, now * data[i], answer, operation, n)\n",
    "            mul += 1\n",
    "        if div > 0 :\n",
    "            div -= 1\n",
    "            operation = [add, sub, mul, div]\n",
    "            answer = dfs(i+1, int(now/data[i]), answer, operation, n)\n",
    "            div += 1\n",
    "        return answer"
   ]
  },
  {
   "cell_type": "code",
   "execution_count": 293,
   "metadata": {},
   "outputs": [],
   "source": [
    "def solution(n, data, operation) :\n",
    "    answer = [-1e9, 1e9]\n",
    "    return dfs(1, data[0], answer, operation, n)"
   ]
  },
  {
   "cell_type": "code",
   "execution_count": 294,
   "metadata": {},
   "outputs": [],
   "source": [
    "n = 2\n",
    "data = [5, 6]\n",
    "operation = [0,0,1,0]\n",
    "#30, 30"
   ]
  },
  {
   "cell_type": "code",
   "execution_count": 296,
   "metadata": {},
   "outputs": [],
   "source": [
    "n = 3\n",
    "data = [3,4,5]\n",
    "operation = [1,0,1,0]\n",
    "#35, 17"
   ]
  },
  {
   "cell_type": "code",
   "execution_count": 298,
   "metadata": {},
   "outputs": [],
   "source": [
    "n = 6\n",
    "data = [1,2,3,4,5,6]\n",
    "operation = [2,1,1,1]\n",
    "#54, -24"
   ]
  },
  {
   "cell_type": "code",
   "execution_count": 299,
   "metadata": {},
   "outputs": [
    {
     "data": {
      "text/plain": [
       "[-24, 54]"
      ]
     },
     "execution_count": 299,
     "metadata": {},
     "output_type": "execute_result"
    }
   ],
   "source": [
    "solution(n, data, operation)"
   ]
  },
  {
   "cell_type": "code",
   "execution_count": null,
   "metadata": {},
   "outputs": [],
   "source": []
  },
  {
   "cell_type": "code",
   "execution_count": 324,
   "metadata": {},
   "outputs": [],
   "source": [
    "from itertools import combinations"
   ]
  },
  {
   "cell_type": "code",
   "execution_count": 332,
   "metadata": {},
   "outputs": [],
   "source": [
    "def watch(x, y, i, board) :\n",
    "    if i == 0 :\n",
    "        while y >= 0 :\n",
    "            if board[x][y] == 'S' :\n",
    "                return True\n",
    "            elif board[x][y] == 'O' :\n",
    "                return False\n",
    "            y -= 1\n",
    "    if i == 1 :\n",
    "        while y < len(board) :\n",
    "            if board[x][y] == 'S' :\n",
    "                return True\n",
    "            elif board[x][y] == 'O' :\n",
    "                return False\n",
    "            y += 1\n",
    "    if i == 2 :\n",
    "        while x >= 0 :\n",
    "            if board[x][y] == 'S' :\n",
    "                return True\n",
    "            elif board[x][y] == 'O' :\n",
    "                return False\n",
    "            x -= 1\n",
    "    if i == 3 :\n",
    "        while x < len(board) :\n",
    "            if board[x][y] == 'S' :\n",
    "                return True\n",
    "            elif board[x][y] == 'O' :\n",
    "                return False\n",
    "            x += 1\n",
    "    return False"
   ]
  },
  {
   "cell_type": "code",
   "execution_count": null,
   "metadata": {},
   "outputs": [],
   "source": [
    "def process(teachers, board) :\n",
    "    for x, y in teachers :\n",
    "        for i in range(4) :\n",
    "            if watch(x, y, i, board) :\n",
    "                return True\n",
    "    return False"
   ]
  },
  {
   "cell_type": "code",
   "execution_count": null,
   "metadata": {},
   "outputs": [],
   "source": [
    "def solution(n, board) :\n",
    "    answer = ''\n",
    "    teachers, spaces = [], []\n",
    "    \n",
    "    for i in range(n) :\n",
    "        for j in range(n) :\n",
    "            if board[i][j] == 'T' :\n",
    "                teachers.append((i, j))\n",
    "            elif board[i][j] == 'X' :\n",
    "                spaces.append((i,j))\n",
    "                \n",
    "    find = False\n",
    "    for obstacle in combinations(spaces, 3) :\n",
    "        for x, y in obstacle :\n",
    "            board[x][y] = 'O'\n",
    "        if not process(teachers, board) :\n",
    "            find = True\n",
    "            break\n",
    "        for x, y in obstacle :\n",
    "            board[x][y] = 'X'\n",
    "            \n",
    "    if find :\n",
    "        answer = 'YES'\n",
    "    else :\n",
    "        answer = 'NO'\n",
    "    return answer"
   ]
  },
  {
   "cell_type": "code",
   "execution_count": 335,
   "metadata": {},
   "outputs": [],
   "source": [
    "n = 5\n",
    "board = [['X','S','X','X','T'], ['T','X','S','X','X'], ['X','X','X','X','X'], ['X','T','X','X','X'], ['X','X','T','X','X']]\n",
    "# YES"
   ]
  },
  {
   "cell_type": "code",
   "execution_count": 337,
   "metadata": {},
   "outputs": [],
   "source": [
    "n = 4\n",
    "board = [['S','S','S','T'], ['X','X','X','X'], ['X','X','X','X'], ['T','T','T','X']]\n",
    "# NO"
   ]
  },
  {
   "cell_type": "code",
   "execution_count": 338,
   "metadata": {},
   "outputs": [
    {
     "data": {
      "text/plain": [
       "'NO'"
      ]
     },
     "execution_count": 338,
     "metadata": {},
     "output_type": "execute_result"
    }
   ],
   "source": [
    "solution(n, board)"
   ]
  },
  {
   "cell_type": "code",
   "execution_count": null,
   "metadata": {},
   "outputs": [],
   "source": []
  },
  {
   "cell_type": "code",
   "execution_count": 344,
   "metadata": {},
   "outputs": [],
   "source": [
    "from collections import deque"
   ]
  },
  {
   "cell_type": "code",
   "execution_count": 348,
   "metadata": {},
   "outputs": [],
   "source": [
    "def process(x, y, l, r, graph, union, index) :\n",
    "    dx = [-1, 1, 0, 0]\n",
    "    dy = [0, 0 , -1, 1]\n",
    "    \n",
    "    united = []\n",
    "    united.append((x, y))\n",
    "    q = deque(united)\n",
    "    union[x][y] = index\n",
    "    summary = graph[x][y]\n",
    "    count = 1\n",
    "    \n",
    "    while q :\n",
    "        x, y = q.popleft()\n",
    "        for i in range(4) :\n",
    "            nx = x + dx[i]\n",
    "            ny = y + dy[i]\n",
    "            if nx>=0 and nx<n and ny>=0 and ny<n and union[nx][ny] == -1 :\n",
    "                if l <= abs(graph[nx][ny]-graph[x][y]) and abs(graph[nx][ny]-graph[x][y]) <= r :\n",
    "                    q.append((nx, ny))\n",
    "                    union[nx][ny] = index\n",
    "                    summary += graph[nx][ny]\n",
    "                    count += 1\n",
    "                    united.append((nx, ny))\n",
    "    for i, j in united:\n",
    "        graph[i][j] = summary // count\n",
    "    return graph, union"
   ]
  },
  {
   "cell_type": "code",
   "execution_count": null,
   "metadata": {},
   "outputs": [],
   "source": [
    "def solution(n, l, r, graph) :\n",
    "    answer = 0\n",
    "       \n",
    "    while True :\n",
    "        union = [[-1] * n for _ in range(n)]\n",
    "        index = 0\n",
    "        for i in range(n) :\n",
    "            for j in range(n) :\n",
    "                if union[i][j] == -1 :\n",
    "                    graph, union = process(i, j, l, r, graph, union, index)\n",
    "                    index += 1\n",
    "        if index == n * n :\n",
    "            break\n",
    "        answer += 1\n",
    "    return answer"
   ]
  },
  {
   "cell_type": "code",
   "execution_count": 346,
   "metadata": {},
   "outputs": [],
   "source": [
    "n = 2\n",
    "l = 20\n",
    "r = 50\n",
    "graph = [[50, 30], [20, 40]]\n",
    "#1"
   ]
  },
  {
   "cell_type": "code",
   "execution_count": 349,
   "metadata": {},
   "outputs": [],
   "source": [
    "n = 2\n",
    "l = 40\n",
    "r = 50\n",
    "graph = [[50, 30], [20, 40]]\n",
    "#0"
   ]
  },
  {
   "cell_type": "code",
   "execution_count": 351,
   "metadata": {},
   "outputs": [],
   "source": [
    "n = 2\n",
    "l = 20\n",
    "r = 50\n",
    "graph = [[50, 30], [30, 40]]\n",
    "#1"
   ]
  },
  {
   "cell_type": "code",
   "execution_count": 353,
   "metadata": {},
   "outputs": [],
   "source": [
    "n = 3\n",
    "l = 5\n",
    "r = 10\n",
    "graph = [[10, 15, 20], [20,30,25], [40,22,10]]\n",
    "#2"
   ]
  },
  {
   "cell_type": "code",
   "execution_count": 1,
   "metadata": {},
   "outputs": [],
   "source": [
    "n = 4\n",
    "l = 10\n",
    "r = 50\n",
    "graph = [[10, 100, 20, 90], [80, 100, 60, 70], [70, 20, 30, 40], [50, 20, 100, 10]]\n",
    "# 3"
   ]
  },
  {
   "cell_type": "code",
   "execution_count": 356,
   "metadata": {},
   "outputs": [
    {
     "data": {
      "text/plain": [
       "3"
      ]
     },
     "execution_count": 356,
     "metadata": {},
     "output_type": "execute_result"
    }
   ],
   "source": [
    "solution(n, l, r, graph)"
   ]
  },
  {
   "cell_type": "code",
   "execution_count": null,
   "metadata": {},
   "outputs": [],
   "source": []
  },
  {
   "cell_type": "code",
   "execution_count": 361,
   "metadata": {},
   "outputs": [],
   "source": [
    "from collections import deque"
   ]
  },
  {
   "cell_type": "code",
   "execution_count": 362,
   "metadata": {},
   "outputs": [],
   "source": [
    "def get_next_pos(pos, board) :\n",
    "    next_pos = []\n",
    "    pos = list(pos)\n",
    "    pos1_x, pos1_y, pos2_x, pos2_y = pos[0][0], pos[0][1], pos[1][0], pos[1][1]\n",
    "    \n",
    "    dx = [-1, 1, 0, 0]\n",
    "    dy = [0, 0, -1, 1]\n",
    "    \n",
    "    for i in range(4) :\n",
    "        pos1_next_x, pos1_next_y, pos2_next_x, pos2_next_y = pos1_x+dx[i], pos1_y+dy[i], pos2_x+dx[i], pos2_y+dy[i]\n",
    "        if board[pos1_next_x][pos1_next_y] == 0 and board[pos2_next_x][pos2_next_y] == 0 :\n",
    "            next_pos.append({(pos1_next_x, pos1_next_y), (pos2_next_x, pos2_next_y)})\n",
    "    \n",
    "    if pos1_x == pos2_x :\n",
    "        for i in [-1, 1] :\n",
    "            if board[pos1_x+i][pos1_y] == 0 and board[pos2_x+i][pos2_y] == 0 :\n",
    "                next_pos.append({(pos1_x, pos1_y), (pos1_x+i, pos1_y)})\n",
    "                next_pos.append({(pos2_x, pos2_y), (pos2_x+i, pos2_y)})\n",
    "    elif pos1_y == pos2_y :\n",
    "        for i in [-1, 1] :\n",
    "            if board[pos1_x][pos1_y+i] == 0 and board[pos2_x][pos2_y+i] == 0 :\n",
    "                next_pos.append({(pos1_x, pos1_y), (pos1_x, pos1_y+i)})\n",
    "                next_pos.append({(pos2_x, pos2_y), (pos2_x, pos2_y+i)})\n",
    "    return next_pos"
   ]
  },
  {
   "cell_type": "code",
   "execution_count": 363,
   "metadata": {},
   "outputs": [],
   "source": [
    "def solution(board) :\n",
    "    answer = 0\n",
    "    n = len(board)\n",
    "    new_board = [[1]*(n+2) for _ in range(n+2)]\n",
    "    for i in range(n) :\n",
    "        for j in range(n) :\n",
    "            new_board[i+1][j+1] = board[i][j]\n",
    "            \n",
    "    pos = {(1,1), (1,2)}\n",
    "    visited = [pos]\n",
    "    q = deque([(pos, 0)])\n",
    "    \n",
    "    while q :\n",
    "        pos, cost = q.popleft()\n",
    "        \n",
    "        if (n,n) in pos :\n",
    "            return cost\n",
    "        for next_pos in get_next_pos(pos, new_board) :\n",
    "            if next_pos not in visited :\n",
    "                visited.append(next_pos)\n",
    "                q.append((next_pos, cost+1))\n",
    "    \n",
    "    return answer"
   ]
  },
  {
   "cell_type": "code",
   "execution_count": 364,
   "metadata": {},
   "outputs": [],
   "source": [
    "board = [[0,0,0,1,1], [0,0,0,1,0], [0,1,0,1,1], [1,1,0,0,1], [0,0,0,0,0]]\n",
    "# 7"
   ]
  },
  {
   "cell_type": "code",
   "execution_count": 365,
   "metadata": {},
   "outputs": [
    {
     "data": {
      "text/plain": [
       "7"
      ]
     },
     "execution_count": 365,
     "metadata": {},
     "output_type": "execute_result"
    }
   ],
   "source": [
    "solution(board)"
   ]
  }
 ],
 "metadata": {
  "kernelspec": {
   "display_name": "Python 3",
   "language": "python",
   "name": "python3"
  },
  "language_info": {
   "codemirror_mode": {
    "name": "ipython",
    "version": 3
   },
   "file_extension": ".py",
   "mimetype": "text/x-python",
   "name": "python",
   "nbconvert_exporter": "python",
   "pygments_lexer": "ipython3",
   "version": "3.7.9"
  }
 },
 "nbformat": 4,
 "nbformat_minor": 4
}
