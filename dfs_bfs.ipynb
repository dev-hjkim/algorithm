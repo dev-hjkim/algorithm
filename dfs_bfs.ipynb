{
 "cells": [
  {
   "cell_type": "code",
   "execution_count": 1,
   "metadata": {},
   "outputs": [],
   "source": [
    "from collections import deque"
   ]
  },
  {
   "cell_type": "code",
   "execution_count": 19,
   "metadata": {},
   "outputs": [],
   "source": [
    "def solution(n, m, k, x, dist) :\n",
    "    answer = []\n",
    "    graph = [[] for _ in range(n+1)]\n",
    "    \n",
    "    for a, b in dist :\n",
    "        graph[a].append(b)\n",
    "        \n",
    "    distance = [-1] * (n+1)\n",
    "    distance[x] = 0\n",
    "    \n",
    "    q = deque([x])\n",
    "    while q:\n",
    "        now = q.popleft()\n",
    "        for next_node in graph[now]:\n",
    "            if distance[next_node] == -1 :\n",
    "                distance[next_node] = distance[now]+1\n",
    "                q.append(next_node)\n",
    "    \n",
    "    check = False\n",
    "    for i in range(1, n+1) :\n",
    "        if distance[i] == k :\n",
    "            answer.append(i)\n",
    "    \n",
    "    if len(answer) == 0 :\n",
    "        return [-1]\n",
    "    \n",
    "    return answer"
   ]
  },
  {
   "cell_type": "code",
   "execution_count": 20,
   "metadata": {},
   "outputs": [],
   "source": [
    "n = 4\n",
    "m = 4\n",
    "k = 2\n",
    "x = 1\n",
    "dist = [[1,2], [1,3], [2,3], [2,4]]"
   ]
  },
  {
   "cell_type": "code",
   "execution_count": 22,
   "metadata": {},
   "outputs": [],
   "source": [
    "n = 4\n",
    "m = 3\n",
    "k = 2\n",
    "x = 1\n",
    "dist = [[1,2], [1,3], [1,4]]"
   ]
  },
  {
   "cell_type": "code",
   "execution_count": 24,
   "metadata": {},
   "outputs": [],
   "source": [
    "n = 4\n",
    "m = 4\n",
    "k = 1\n",
    "x = 1\n",
    "dist = [[1,2], [1,3], [2,3], [2,4]]"
   ]
  },
  {
   "cell_type": "code",
   "execution_count": 25,
   "metadata": {},
   "outputs": [
    {
     "data": {
      "text/plain": [
       "[2, 3]"
      ]
     },
     "execution_count": 25,
     "metadata": {},
     "output_type": "execute_result"
    }
   ],
   "source": [
    "solution(n, m, k, x, dist)"
   ]
  },
  {
   "cell_type": "code",
   "execution_count": null,
   "metadata": {},
   "outputs": [],
   "source": []
  },
  {
   "cell_type": "code",
   "execution_count": 191,
   "metadata": {},
   "outputs": [],
   "source": [
    "def virus(x, y, temp) :\n",
    "    dx = [-1, 0, 1, 0]\n",
    "    dy = [0, 1, 0, -1]\n",
    "        \n",
    "    for i in range(4) :\n",
    "        nx = x + dx[i]\n",
    "        ny = y + dy[i]\n",
    "            \n",
    "        if nx >= 0 and nx < n and ny >= 0 and ny < m :\n",
    "            if temp[nx][ny] == 0 :\n",
    "                temp[nx][ny] = 2\n",
    "                temp = virus(nx, ny, temp)\n",
    "    return temp"
   ]
  },
  {
   "cell_type": "code",
   "execution_count": 192,
   "metadata": {},
   "outputs": [],
   "source": [
    "def get_score(temp) :\n",
    "    score = 0\n",
    "    for i in range(n) :\n",
    "        for j in range(m) :\n",
    "            if temp[i][j] == 0 :\n",
    "                score += 1\n",
    "    return score"
   ]
  },
  {
   "cell_type": "code",
   "execution_count": 193,
   "metadata": {},
   "outputs": [],
   "source": [
    "def dfs(count, answer, data, temp) :\n",
    "    if count == 3 :\n",
    "        for i in range(n) :\n",
    "            for j in range(m) :\n",
    "                temp[i][j] = data[i][j]\n",
    "        for i in range(n) :\n",
    "            for j in range(m) :\n",
    "                if temp[i][j] == 2 :\n",
    "                    temp = virus(i, j, temp)\n",
    "        print('count:', count)\n",
    "        print('answer:', answer)\n",
    "        print('score:', get_score(temp))\n",
    "        answer = max(answer, get_score(temp))\n",
    "        return answer\n",
    "    for i in range(n) :\n",
    "        for j in range(m) :\n",
    "            if data[i][j] == 0 :\n",
    "                data[i][j] = 1\n",
    "                count += 1\n",
    "                answer = dfs(count, answer, data, temp)\n",
    "                print('return answer:', answer)\n",
    "                data[i][j] = 0\n",
    "                count -= 1"
   ]
  },
  {
   "cell_type": "code",
   "execution_count": 197,
   "metadata": {},
   "outputs": [],
   "source": [
    "def solution(n, m, data) :\n",
    "    answer = 0\n",
    "    temp = [[0] * m for _ in range(n)]\n",
    "                    \n",
    "#     answer = dfs(0, answer, data, temp)\n",
    "    return answer"
   ]
  },
  {
   "cell_type": "code",
   "execution_count": 198,
   "metadata": {},
   "outputs": [],
   "source": [
    "n = 7\n",
    "m = 7\n",
    "data = [[2,0,0,0,1,1,0], [0,0,1,0,1,2,0], [0,1,1,0,1,0,0], [0,1,0,0,0,0,0], [0,0,0,0,0,1,1], [0,1,0,0,0,0,0], [0,1,0,0,0,0,0]]\n",
    "#27"
   ]
  },
  {
   "cell_type": "code",
   "execution_count": 88,
   "metadata": {},
   "outputs": [],
   "source": [
    "n = 4\n",
    "m = 6\n",
    "data = [[0,0,0,0,0,0], [1,0,0,0,0,2], [1,1,1,0,0,2], [0,0,0,0,0,2]]\n",
    "#9"
   ]
  },
  {
   "cell_type": "code",
   "execution_count": 4,
   "metadata": {},
   "outputs": [],
   "source": [
    "n = 8\n",
    "m = 8\n",
    "data = [[2,0,0,0,0,0,0,2], [2,0,0,0,0,0,0,2], [2,0,0,0,0,0,0,2], [2,0,0,0,0,0,0,2], [2,0,0,0,0,0,0,2], [0,0,0,0,0,0,0,0], [0,0,0,0,0,0,0,0], [0,0,0,0,0,0,0,0]]\n",
    "#3"
   ]
  },
  {
   "cell_type": "code",
   "execution_count": 199,
   "metadata": {},
   "outputs": [
    {
     "data": {
      "text/plain": [
       "0"
      ]
     },
     "execution_count": 199,
     "metadata": {},
     "output_type": "execute_result"
    }
   ],
   "source": [
    "solution(n, m, data)"
   ]
  }
 ],
 "metadata": {
  "kernelspec": {
   "display_name": "Python 3",
   "language": "python",
   "name": "python3"
  },
  "language_info": {
   "codemirror_mode": {
    "name": "ipython",
    "version": 3
   },
   "file_extension": ".py",
   "mimetype": "text/x-python",
   "name": "python",
   "nbconvert_exporter": "python",
   "pygments_lexer": "ipython3",
   "version": "3.7.9"
  }
 },
 "nbformat": 4,
 "nbformat_minor": 4
}
