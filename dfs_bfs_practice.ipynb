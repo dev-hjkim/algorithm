{
 "cells": [
  {
   "cell_type": "markdown",
   "metadata": {},
   "source": [
    "# Q15"
   ]
  },
  {
   "cell_type": "code",
   "execution_count": 1,
   "metadata": {},
   "outputs": [],
   "source": [
    "from collections import deque"
   ]
  },
  {
   "cell_type": "code",
   "execution_count": 5,
   "metadata": {},
   "outputs": [],
   "source": [
    "def solution(n, m, k, x, dist) :\n",
    "    answer = []\n",
    "    graph = [[] for _ in range(n+1)]\n",
    "    \n",
    "    distance = [-1] * (n+1)\n",
    "    distance[x] = 0\n",
    "    \n",
    "    for a, b in dist :\n",
    "        graph[a].append(b)\n",
    "    \n",
    "    q = deque([x])\n",
    "    while q :\n",
    "        now = q.popleft()\n",
    "        for next_node in graph[now] :\n",
    "            if distance[next_node] == -1 :\n",
    "                distance[next_node] = distance[now] + 1\n",
    "                q.append(next_node)\n",
    "    \n",
    "    for i in range(1, n+1) :\n",
    "        if distance[i] == k :\n",
    "            answer.append(i)\n",
    "    \n",
    "    if len(answer) == 0 :\n",
    "        return [-1]\n",
    "                \n",
    "    return answer    "
   ]
  },
  {
   "cell_type": "code",
   "execution_count": 6,
   "metadata": {},
   "outputs": [],
   "source": [
    "n = 4\n",
    "m = 4\n",
    "k = 2\n",
    "x = 1\n",
    "dist = [[1,2], [1,3], [2,3], [2,4]]\n",
    "#[4]"
   ]
  },
  {
   "cell_type": "code",
   "execution_count": 8,
   "metadata": {},
   "outputs": [],
   "source": [
    "n = 4\n",
    "m = 3\n",
    "k = 2\n",
    "x = 1\n",
    "dist = [[1,2], [1,3], [1,4]]\n",
    "#[-1]"
   ]
  },
  {
   "cell_type": "code",
   "execution_count": 10,
   "metadata": {},
   "outputs": [],
   "source": [
    "n = 4\n",
    "m = 4\n",
    "k = 1\n",
    "x = 1\n",
    "dist = [[1,2], [1,3], [2,3], [2,4]]\n",
    "#[2,3]"
   ]
  },
  {
   "cell_type": "code",
   "execution_count": 11,
   "metadata": {},
   "outputs": [
    {
     "data": {
      "text/plain": [
       "[2, 3]"
      ]
     },
     "execution_count": 11,
     "metadata": {},
     "output_type": "execute_result"
    }
   ],
   "source": [
    "solution(n, m, k, x, dist)"
   ]
  },
  {
   "cell_type": "code",
   "execution_count": null,
   "metadata": {},
   "outputs": [],
   "source": []
  },
  {
   "cell_type": "markdown",
   "metadata": {},
   "source": [
    "# Q16"
   ]
  },
  {
   "cell_type": "code",
   "execution_count": 35,
   "metadata": {},
   "outputs": [],
   "source": [
    "def virus(x, y, temp) :\n",
    "    n = len(temp)\n",
    "    m = len(temp[0])\n",
    "    \n",
    "    dx = [-1, 1, 0, 0]\n",
    "    dy = [0, 0, -1, 1]\n",
    "    \n",
    "    for i in range(4) :\n",
    "        nx = x + dx[i]\n",
    "        ny = y + dy[i]\n",
    "        \n",
    "        if nx>=0 and nx<n and ny>=0 and ny<m :\n",
    "            if temp[nx][ny] == 0 :\n",
    "                temp[nx][ny] = 2\n",
    "                temp = virus(nx, ny, temp)\n",
    "    return temp"
   ]
  },
  {
   "cell_type": "code",
   "execution_count": 36,
   "metadata": {},
   "outputs": [],
   "source": [
    "def get_score(temp) :\n",
    "    score = 0\n",
    "    for i in range(len(temp)) :\n",
    "        for j in range(len(temp[0])) :\n",
    "            if temp[i][j] == 0 :\n",
    "                score += 1\n",
    "    return score"
   ]
  },
  {
   "cell_type": "code",
   "execution_count": 37,
   "metadata": {},
   "outputs": [],
   "source": [
    "def dfs(count, answer, temp, data) :\n",
    "    n = len(data)\n",
    "    m = len(data[0])\n",
    "    \n",
    "    if count == 3 :\n",
    "        for i in range(n) :\n",
    "            for j in range(m) :\n",
    "                temp[i][j] = data[i][j]\n",
    "        for i in range(n) :\n",
    "            for j in range(m) :\n",
    "                if temp[i][j] == 2 :\n",
    "                    temp = virus(i, j, temp)\n",
    "        answer = max(answer, get_score(temp))\n",
    "        return answer\n",
    "    for i in range(n) :\n",
    "        for j in range(m) :\n",
    "            if data[i][j] == 0 :\n",
    "                data[i][j] = 1\n",
    "                count += 1\n",
    "                answer = dfs(count, answer, temp, data)\n",
    "                data[i][j] = 0\n",
    "                count -= 1\n",
    "    return answer"
   ]
  },
  {
   "cell_type": "code",
   "execution_count": 38,
   "metadata": {},
   "outputs": [],
   "source": [
    "def solution(n, m, data) :\n",
    "    answer = 0\n",
    "    temp = [[0] * m for _ in range(n)]\n",
    "    \n",
    "    answer = dfs(0, answer, temp, data)\n",
    "    return answer"
   ]
  },
  {
   "cell_type": "code",
   "execution_count": 39,
   "metadata": {},
   "outputs": [],
   "source": [
    "n = 7\n",
    "m = 7\n",
    "data = [[2,0,0,0,1,1,0], [0,0,1,0,1,2,0], [0,1,1,0,1,0,0], [0,1,0,0,0,0,0], [0,0,0,0,0,1,1], [0,1,0,0,0,0,0], [0,1,0,0,0,0,0]]\n",
    "#27"
   ]
  },
  {
   "cell_type": "code",
   "execution_count": 41,
   "metadata": {},
   "outputs": [],
   "source": [
    "n = 4\n",
    "m = 6\n",
    "data = [[0,0,0,0,0,0], [1,0,0,0,0,2], [1,1,1,0,0,2], [0,0,0,0,0,2]]\n",
    "#9"
   ]
  },
  {
   "cell_type": "code",
   "execution_count": 43,
   "metadata": {},
   "outputs": [],
   "source": [
    "n = 8\n",
    "m = 8\n",
    "data = [[2,0,0,0,0,0,0,2], [2,0,0,0,0,0,0,2], [2,0,0,0,0,0,0,2], [2,0,0,0,0,0,0,2], [2,0,0,0,0,0,0,2], [0,0,0,0,0,0,0,0], [0,0,0,0,0,0,0,0], [0,0,0,0,0,0,0,0]]\n",
    "#3"
   ]
  },
  {
   "cell_type": "code",
   "execution_count": 44,
   "metadata": {},
   "outputs": [
    {
     "data": {
      "text/plain": [
       "3"
      ]
     },
     "execution_count": 44,
     "metadata": {},
     "output_type": "execute_result"
    }
   ],
   "source": [
    "solution(n, m, data)"
   ]
  },
  {
   "cell_type": "code",
   "execution_count": null,
   "metadata": {},
   "outputs": [],
   "source": []
  },
  {
   "cell_type": "markdown",
   "metadata": {},
   "source": [
    "# Q17"
   ]
  },
  {
   "cell_type": "code",
   "execution_count": 1,
   "metadata": {},
   "outputs": [],
   "source": [
    "from collections import deque"
   ]
  },
  {
   "cell_type": "code",
   "execution_count": 45,
   "metadata": {},
   "outputs": [],
   "source": [
    "def solution(n, k, graph, S, X, Y) :\n",
    "    answer = 0\n",
    "    \n",
    "    data = []\n",
    "    for i in range(n) :\n",
    "        for j in range(n) :\n",
    "            if graph[i][j] != 0 :\n",
    "                data.append((graph[i][j], 0, i, j))\n",
    "    \n",
    "    data = sorted(data)\n",
    "    q = deque(data)\n",
    "    \n",
    "    dx = [0, 0, -1, 1]\n",
    "    dy = [-1, 1, 0, 0]\n",
    "    \n",
    "    \n",
    "    while q :\n",
    "        virus, sec, x, y = q.popleft()\n",
    "        \n",
    "        if sec == S :\n",
    "            break\n",
    "            \n",
    "        for i in range(4) :\n",
    "            nx = x + dx[i]\n",
    "            ny = y + dy[i]\n",
    "            \n",
    "            if 0<=nx and nx<n and 0<=ny and ny<n:\n",
    "                if graph[nx][ny] == 0 :\n",
    "                    graph[nx][ny] = virus\n",
    "                    q.append((virus, s+1, nx, ny))\n",
    "    \n",
    "    answer = graph[X-1][Y-1]\n",
    "    return answer"
   ]
  },
  {
   "cell_type": "code",
   "execution_count": 46,
   "metadata": {},
   "outputs": [],
   "source": [
    "n = 3\n",
    "k = 3\n",
    "graph = [[1,0,2], [0,0,0], [3,0,0]]\n",
    "S = 2\n",
    "X = 3\n",
    "Y = 2\n",
    "# 3"
   ]
  },
  {
   "cell_type": "code",
   "execution_count": 4,
   "metadata": {},
   "outputs": [],
   "source": [
    "n = 3\n",
    "k = 3\n",
    "graph = [[1,0,2], [0,0,0], [3,0,0]]\n",
    "S = 1\n",
    "X= 2\n",
    "Y = 2\n",
    "# 0"
   ]
  },
  {
   "cell_type": "code",
   "execution_count": 47,
   "metadata": {},
   "outputs": [
    {
     "ename": "TypeError",
     "evalue": "append() takes exactly one argument (4 given)",
     "output_type": "error",
     "traceback": [
      "\u001b[1;31m---------------------------------------------------------------------------\u001b[0m",
      "\u001b[1;31mTypeError\u001b[0m                                 Traceback (most recent call last)",
      "\u001b[1;32m<ipython-input-47-ad272787795a>\u001b[0m in \u001b[0;36m<module>\u001b[1;34m\u001b[0m\n\u001b[1;32m----> 1\u001b[1;33m \u001b[0msolution\u001b[0m\u001b[1;33m(\u001b[0m\u001b[0mn\u001b[0m\u001b[1;33m,\u001b[0m \u001b[0mk\u001b[0m\u001b[1;33m,\u001b[0m \u001b[0mgraph\u001b[0m\u001b[1;33m,\u001b[0m \u001b[0mS\u001b[0m\u001b[1;33m,\u001b[0m \u001b[0mX\u001b[0m\u001b[1;33m,\u001b[0m \u001b[0mY\u001b[0m\u001b[1;33m)\u001b[0m\u001b[1;33m\u001b[0m\u001b[1;33m\u001b[0m\u001b[0m\n\u001b[0m",
      "\u001b[1;32m<ipython-input-45-8a9d78fb1784>\u001b[0m in \u001b[0;36msolution\u001b[1;34m(n, k, graph, S, X, Y)\u001b[0m\n\u001b[0;32m      6\u001b[0m         \u001b[1;32mfor\u001b[0m \u001b[0mj\u001b[0m \u001b[1;32min\u001b[0m \u001b[0mrange\u001b[0m\u001b[1;33m(\u001b[0m\u001b[0mn\u001b[0m\u001b[1;33m)\u001b[0m \u001b[1;33m:\u001b[0m\u001b[1;33m\u001b[0m\u001b[1;33m\u001b[0m\u001b[0m\n\u001b[0;32m      7\u001b[0m             \u001b[1;32mif\u001b[0m \u001b[0mgraph\u001b[0m\u001b[1;33m[\u001b[0m\u001b[0mi\u001b[0m\u001b[1;33m]\u001b[0m\u001b[1;33m[\u001b[0m\u001b[0mj\u001b[0m\u001b[1;33m]\u001b[0m \u001b[1;33m!=\u001b[0m \u001b[1;36m0\u001b[0m \u001b[1;33m:\u001b[0m\u001b[1;33m\u001b[0m\u001b[1;33m\u001b[0m\u001b[0m\n\u001b[1;32m----> 8\u001b[1;33m                 \u001b[0mdata\u001b[0m\u001b[1;33m.\u001b[0m\u001b[0mappend\u001b[0m\u001b[1;33m(\u001b[0m\u001b[0mgraph\u001b[0m\u001b[1;33m[\u001b[0m\u001b[0mi\u001b[0m\u001b[1;33m]\u001b[0m\u001b[1;33m[\u001b[0m\u001b[0mj\u001b[0m\u001b[1;33m]\u001b[0m\u001b[1;33m,\u001b[0m \u001b[1;36m0\u001b[0m\u001b[1;33m,\u001b[0m \u001b[0mi\u001b[0m\u001b[1;33m,\u001b[0m \u001b[0mj\u001b[0m\u001b[1;33m)\u001b[0m\u001b[1;33m\u001b[0m\u001b[1;33m\u001b[0m\u001b[0m\n\u001b[0m\u001b[0;32m      9\u001b[0m \u001b[1;33m\u001b[0m\u001b[0m\n\u001b[0;32m     10\u001b[0m     \u001b[0mdata\u001b[0m \u001b[1;33m=\u001b[0m \u001b[0msorted\u001b[0m\u001b[1;33m(\u001b[0m\u001b[0mdata\u001b[0m\u001b[1;33m)\u001b[0m\u001b[1;33m\u001b[0m\u001b[1;33m\u001b[0m\u001b[0m\n",
      "\u001b[1;31mTypeError\u001b[0m: append() takes exactly one argument (4 given)"
     ]
    }
   ],
   "source": [
    "solution(n, k, graph, S, X, Y)"
   ]
  }
 ],
 "metadata": {
  "kernelspec": {
   "display_name": "Python 3",
   "language": "python",
   "name": "python3"
  },
  "language_info": {
   "codemirror_mode": {
    "name": "ipython",
    "version": 3
   },
   "file_extension": ".py",
   "mimetype": "text/x-python",
   "name": "python",
   "nbconvert_exporter": "python",
   "pygments_lexer": "ipython3",
   "version": "3.7.9"
  }
 },
 "nbformat": 4,
 "nbformat_minor": 4
}
