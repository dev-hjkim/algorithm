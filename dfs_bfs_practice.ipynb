{
 "cells": [
  {
   "cell_type": "markdown",
   "metadata": {},
   "source": [
    "# Q15"
   ]
  },
  {
   "cell_type": "code",
   "execution_count": 1,
   "metadata": {},
   "outputs": [],
   "source": [
    "from collections import deque"
   ]
  },
  {
   "cell_type": "code",
   "execution_count": 2,
   "metadata": {},
   "outputs": [],
   "source": [
    "def solution(n, m, k, x, dist) :\n",
    "    answer = []\n",
    "    graph = [[] for _ in range(n+1)]\n",
    "    distance = [-1] * (n+1)\n",
    "    distance[x] = 0\n",
    "    \n",
    "    for a,b in dist :\n",
    "        graph[a].append(b)\n",
    "    \n",
    "    q = deque([x])\n",
    "    while q:\n",
    "        now = q.popleft()\n",
    "        for next_node in graph[now] :\n",
    "            if distance[next_node] == -1 :\n",
    "                distance[next_node] = distance[now] + 1\n",
    "                q.append(next_node)\n",
    "    \n",
    "    for i in range(1, n+1) :\n",
    "        if distance[i] == k :\n",
    "            answer.append(i)\n",
    "    \n",
    "    if len(answer) == 0 :\n",
    "        return [-1]\n",
    "    \n",
    "    return answer    "
   ]
  },
  {
   "cell_type": "code",
   "execution_count": 3,
   "metadata": {},
   "outputs": [],
   "source": [
    "n = 4\n",
    "m = 4\n",
    "k = 2\n",
    "x = 1\n",
    "dist = [[1,2], [1,3], [2,3], [2,4]]\n",
    "#[4]"
   ]
  },
  {
   "cell_type": "code",
   "execution_count": 5,
   "metadata": {},
   "outputs": [],
   "source": [
    "n = 4\n",
    "m = 3\n",
    "k = 2\n",
    "x = 1\n",
    "dist = [[1,2], [1,3], [1,4]]\n",
    "#[-1]"
   ]
  },
  {
   "cell_type": "code",
   "execution_count": 7,
   "metadata": {},
   "outputs": [],
   "source": [
    "n = 4\n",
    "m = 4\n",
    "k = 1\n",
    "x = 1\n",
    "dist = [[1,2], [1,3], [2,3], [2,4]]\n",
    "#[2,3]"
   ]
  },
  {
   "cell_type": "code",
   "execution_count": 8,
   "metadata": {},
   "outputs": [
    {
     "data": {
      "text/plain": [
       "[2, 3]"
      ]
     },
     "execution_count": 8,
     "metadata": {},
     "output_type": "execute_result"
    }
   ],
   "source": [
    "solution(n, m, k, x, dist)"
   ]
  },
  {
   "cell_type": "code",
   "execution_count": null,
   "metadata": {},
   "outputs": [],
   "source": []
  },
  {
   "cell_type": "markdown",
   "metadata": {},
   "source": [
    "# Q16"
   ]
  },
  {
   "cell_type": "code",
   "execution_count": 20,
   "metadata": {},
   "outputs": [],
   "source": [
    "def virus(x, y, temp) :\n",
    "    n = len(temp)\n",
    "    m = len(temp[0])\n",
    "    \n",
    "    dx = [-1, 1, 0, 0]\n",
    "    dy = [0, 0, -1, 1]\n",
    "    \n",
    "    for i in range(4) :\n",
    "        nx = x + dx[i]\n",
    "        ny = y + dy[i]\n",
    "        if nx>=0 and nx<n and ny>=0 and ny<m :\n",
    "            if temp[nx][ny] == 0 :\n",
    "                temp[nx][ny] = 2\n",
    "                temp = virus(nx, ny, temp)\n",
    "    return temp"
   ]
  },
  {
   "cell_type": "code",
   "execution_count": 21,
   "metadata": {},
   "outputs": [],
   "source": [
    "def score(temp) :\n",
    "    n = len(temp)\n",
    "    m = len(temp[0])\n",
    "    \n",
    "    score = 0\n",
    "    for i in range(n) :\n",
    "        for j in range(m) :\n",
    "            if temp[i][j] == 0 :\n",
    "                score += 1\n",
    "    return score"
   ]
  },
  {
   "cell_type": "code",
   "execution_count": 22,
   "metadata": {},
   "outputs": [],
   "source": [
    "def dfs(count, answer, data, temp) :\n",
    "    n = len(data)\n",
    "    m = len(data[0])\n",
    "    \n",
    "    if count == 3 :\n",
    "        for i in range(n) :\n",
    "            for j in range(m) :\n",
    "                temp[i][j] = data[i][j]\n",
    "        \n",
    "        for i in range(n) :\n",
    "            for j in range(m) :\n",
    "                if temp[i][j] == 2 :\n",
    "                    temp = virus(i, j, temp)\n",
    "        answer = max(answer, score(temp))\n",
    "        return answer\n",
    "    \n",
    "    for i in range(n) :\n",
    "        for j in range(m) :\n",
    "            if data[i][j] == 0 :\n",
    "                data[i][j] = 1\n",
    "                count += 1\n",
    "                answer = dfs(count, answer, data, temp)\n",
    "                data[i][j] = 0\n",
    "                count -= 1\n",
    "    return answer"
   ]
  },
  {
   "cell_type": "code",
   "execution_count": 23,
   "metadata": {},
   "outputs": [],
   "source": [
    "def solution(n, m, data) :\n",
    "    answer = 0\n",
    "    temp = [[0] * m for _ in range(n)]\n",
    "    \n",
    "    answer = dfs(0, answer, data, temp)\n",
    "    return answer"
   ]
  },
  {
   "cell_type": "code",
   "execution_count": 24,
   "metadata": {},
   "outputs": [],
   "source": [
    "n = 7\n",
    "m = 7\n",
    "data = [[2,0,0,0,1,1,0], [0,0,1,0,1,2,0], [0,1,1,0,1,0,0], [0,1,0,0,0,0,0], [0,0,0,0,0,1,1], [0,1,0,0,0,0,0], [0,1,0,0,0,0,0]]\n",
    "#27"
   ]
  },
  {
   "cell_type": "code",
   "execution_count": 26,
   "metadata": {},
   "outputs": [],
   "source": [
    "n = 4\n",
    "m = 6\n",
    "data = [[0,0,0,0,0,0], [1,0,0,0,0,2], [1,1,1,0,0,2], [0,0,0,0,0,2]]\n",
    "#9"
   ]
  },
  {
   "cell_type": "code",
   "execution_count": 28,
   "metadata": {},
   "outputs": [],
   "source": [
    "n = 8\n",
    "m = 8\n",
    "data = [[2,0,0,0,0,0,0,2], [2,0,0,0,0,0,0,2], [2,0,0,0,0,0,0,2], [2,0,0,0,0,0,0,2], [2,0,0,0,0,0,0,2], [0,0,0,0,0,0,0,0], [0,0,0,0,0,0,0,0], [0,0,0,0,0,0,0,0]]\n",
    "#3"
   ]
  },
  {
   "cell_type": "code",
   "execution_count": 29,
   "metadata": {},
   "outputs": [
    {
     "data": {
      "text/plain": [
       "3"
      ]
     },
     "execution_count": 29,
     "metadata": {},
     "output_type": "execute_result"
    }
   ],
   "source": [
    "solution(n, m, data)"
   ]
  },
  {
   "cell_type": "code",
   "execution_count": null,
   "metadata": {},
   "outputs": [],
   "source": []
  },
  {
   "cell_type": "code",
   "execution_count": null,
   "metadata": {},
   "outputs": [],
   "source": []
  },
  {
   "cell_type": "markdown",
   "metadata": {},
   "source": [
    "# Q17"
   ]
  },
  {
   "cell_type": "code",
   "execution_count": 36,
   "metadata": {},
   "outputs": [],
   "source": [
    "from collections import deque"
   ]
  },
  {
   "cell_type": "code",
   "execution_count": 45,
   "metadata": {},
   "outputs": [],
   "source": [
    "def solution(n, k, graph, S, X, Y) :\n",
    "    answer = 0\n",
    "    data = []\n",
    "    \n",
    "    for i in range(n) :\n",
    "        for j in range(n) :\n",
    "            if graph[i][j] != 0 :\n",
    "                data.append((graph[i][j], 0, i, j))\n",
    "    \n",
    "    data.sort()\n",
    "    q = deque(data)\n",
    "    \n",
    "    dx = [-1, 1, 0, 0]\n",
    "    dy = [0, 0, -1, 1]\n",
    "    \n",
    "    while q :\n",
    "        virus, time, x, y = q.popleft()\n",
    "        \n",
    "        if time == S :\n",
    "            break\n",
    "        \n",
    "        for i in range(4) :\n",
    "            nx = x + dx[i]\n",
    "            ny = y + dy[i]\n",
    "            \n",
    "            if nx>=0 and nx<n and ny>=0 and ny<n :\n",
    "                if graph[nx][ny] == 0 :\n",
    "                    graph[nx][ny] = virus\n",
    "                    q.append((virus, time+1, nx, ny))\n",
    "    \n",
    "    answer = graph[X-1][Y-1]    \n",
    "    return answer"
   ]
  },
  {
   "cell_type": "code",
   "execution_count": 46,
   "metadata": {},
   "outputs": [],
   "source": [
    "n = 3\n",
    "k = 3\n",
    "graph = [[1,0,2], [0,0,0], [3,0,0]]\n",
    "S = 2\n",
    "X = 3\n",
    "Y = 2\n",
    "# 3"
   ]
  },
  {
   "cell_type": "code",
   "execution_count": 48,
   "metadata": {},
   "outputs": [],
   "source": [
    "n = 3\n",
    "k = 3\n",
    "graph = [[1,0,2], [0,0,0], [3,0,0]]\n",
    "S = 1\n",
    "X= 2\n",
    "Y = 2\n",
    "# 0"
   ]
  },
  {
   "cell_type": "code",
   "execution_count": 49,
   "metadata": {},
   "outputs": [
    {
     "data": {
      "text/plain": [
       "0"
      ]
     },
     "execution_count": 49,
     "metadata": {},
     "output_type": "execute_result"
    }
   ],
   "source": [
    "solution(n, k, graph, S, X, Y)"
   ]
  },
  {
   "cell_type": "code",
   "execution_count": null,
   "metadata": {},
   "outputs": [],
   "source": []
  },
  {
   "cell_type": "markdown",
   "metadata": {},
   "source": [
    "# Q18"
   ]
  },
  {
   "cell_type": "code",
   "execution_count": 84,
   "metadata": {},
   "outputs": [],
   "source": [
    "def balanced_char(p) :\n",
    "    count = 0\n",
    "    for i in range(len(p)) :\n",
    "        if p[i] == '(' :\n",
    "            count += 1\n",
    "        else :\n",
    "            count -= 1\n",
    "        if count == 0 :\n",
    "            return i"
   ]
  },
  {
   "cell_type": "code",
   "execution_count": 85,
   "metadata": {},
   "outputs": [],
   "source": [
    "def check_proper(p) :\n",
    "    count = 0\n",
    "    for i in p :\n",
    "        if i == '(' :\n",
    "            count += 1\n",
    "        else :\n",
    "            if count == 0 :\n",
    "                return False\n",
    "            count -= 1\n",
    "    return True"
   ]
  },
  {
   "cell_type": "code",
   "execution_count": 86,
   "metadata": {},
   "outputs": [],
   "source": [
    "def solution(p) :\n",
    "    answer = ''\n",
    "    if p == '' :\n",
    "        return answer\n",
    "    index = balanced_char(p)\n",
    "    u = p[:index+1]\n",
    "    v = p[index+1:]\n",
    "    \n",
    "    if check_proper(u) :\n",
    "        answer = u + solution(v)\n",
    "    else :\n",
    "        answer = '('\n",
    "        answer += solution(v)\n",
    "        answer += ')'\n",
    "        u = list(u[1:-1])\n",
    "        for i in range(len(u)) :\n",
    "            if u[i] == '(' :\n",
    "                u[i] = ')'\n",
    "            else :\n",
    "                u[i] = '('\n",
    "        answer += ''.join(u)\n",
    "        \n",
    "    return answer"
   ]
  },
  {
   "cell_type": "code",
   "execution_count": 87,
   "metadata": {},
   "outputs": [],
   "source": [
    "p = '(()())()'\n",
    "# (()())()"
   ]
  },
  {
   "cell_type": "code",
   "execution_count": 89,
   "metadata": {},
   "outputs": [],
   "source": [
    "p = ')('\n",
    "# ()"
   ]
  },
  {
   "cell_type": "code",
   "execution_count": 90,
   "metadata": {},
   "outputs": [],
   "source": [
    "p = '()))((()'\n",
    "#()(())()"
   ]
  },
  {
   "cell_type": "code",
   "execution_count": 91,
   "metadata": {},
   "outputs": [
    {
     "data": {
      "text/plain": [
       "'()(())()'"
      ]
     },
     "execution_count": 91,
     "metadata": {},
     "output_type": "execute_result"
    }
   ],
   "source": [
    "solution(p)"
   ]
  },
  {
   "cell_type": "code",
   "execution_count": null,
   "metadata": {},
   "outputs": [],
   "source": []
  },
  {
   "cell_type": "markdown",
   "metadata": {},
   "source": [
    "# Q19"
   ]
  },
  {
   "cell_type": "code",
   "execution_count": 104,
   "metadata": {},
   "outputs": [],
   "source": [
    "def dfs(i, now, answer, operation, n) :\n",
    "    max_val, min_val = answer\n",
    "    add, sub, mul, div = operation\n",
    "    \n",
    "    if i == n :\n",
    "        max_val = max(max_val, now)\n",
    "        min_val = min(min_val, now)\n",
    "        answer = [max_val, min_val]\n",
    "        return answer\n",
    "    else :\n",
    "        if add > 0 :\n",
    "            add -= 1\n",
    "            operation = [add, sub, mul, div]\n",
    "            answer = dfs(i+1, now + data[i], answer, operation, n)\n",
    "            add += 1\n",
    "        if sub > 0 :\n",
    "            sub -= 1\n",
    "            operation = [add, sub, mul, div]\n",
    "            answer = dfs(i+1, now - data[i], answer, operation, n)\n",
    "            sub += 1\n",
    "        if mul > 0 :\n",
    "            mul -= 1\n",
    "            operation = [add, sub, mul, div]\n",
    "            answer = dfs(i+1, now * data[i], answer, operation, n)\n",
    "            mul += 1\n",
    "        if div > 0 :\n",
    "            div -= 1\n",
    "            operation = [add, sub, mul, div]\n",
    "            answer = dfs(i+1, int(now/data[i]), answer, operation, n)\n",
    "            div += 1\n",
    "        return answer"
   ]
  },
  {
   "cell_type": "code",
   "execution_count": 105,
   "metadata": {},
   "outputs": [],
   "source": [
    "def solution(n, data, operation) :\n",
    "    answer = [-1e9, 1e9]\n",
    "    return dfs(1, data[0], answer, operation, n)"
   ]
  },
  {
   "cell_type": "code",
   "execution_count": 106,
   "metadata": {},
   "outputs": [],
   "source": [
    "n = 2\n",
    "data = [5, 6]\n",
    "operation = [0,0,1,0]\n",
    "#30, 30"
   ]
  },
  {
   "cell_type": "code",
   "execution_count": 108,
   "metadata": {},
   "outputs": [],
   "source": [
    "n = 3\n",
    "data = [3,4,5]\n",
    "operation = [1,0,1,0]\n",
    "#35, 17"
   ]
  },
  {
   "cell_type": "code",
   "execution_count": 110,
   "metadata": {},
   "outputs": [],
   "source": [
    "n = 6\n",
    "data = [1,2,3,4,5,6]\n",
    "operation = [2,1,1,1]\n",
    "#54, -24"
   ]
  },
  {
   "cell_type": "code",
   "execution_count": 111,
   "metadata": {},
   "outputs": [
    {
     "data": {
      "text/plain": [
       "[54, -24]"
      ]
     },
     "execution_count": 111,
     "metadata": {},
     "output_type": "execute_result"
    }
   ],
   "source": [
    "solution(n, data, operation)"
   ]
  },
  {
   "cell_type": "code",
   "execution_count": null,
   "metadata": {},
   "outputs": [],
   "source": []
  },
  {
   "cell_type": "code",
   "execution_count": null,
   "metadata": {},
   "outputs": [],
   "source": []
  }
 ],
 "metadata": {
  "kernelspec": {
   "display_name": "Python 3",
   "language": "python",
   "name": "python3"
  },
  "language_info": {
   "codemirror_mode": {
    "name": "ipython",
    "version": 3
   },
   "file_extension": ".py",
   "mimetype": "text/x-python",
   "name": "python",
   "nbconvert_exporter": "python",
   "pygments_lexer": "ipython3",
   "version": "3.7.9"
  }
 },
 "nbformat": 4,
 "nbformat_minor": 4
}
