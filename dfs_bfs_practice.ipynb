{
 "cells": [
  {
   "cell_type": "markdown",
   "metadata": {},
   "source": [
    "# Q15"
   ]
  },
  {
   "cell_type": "code",
   "execution_count": 1,
   "metadata": {},
   "outputs": [],
   "source": [
    "from collections import deque"
   ]
  },
  {
   "cell_type": "code",
   "execution_count": 2,
   "metadata": {},
   "outputs": [],
   "source": [
    "def solution(n, m, k, x, dist) :\n",
    "    answer = []\n",
    "    graph = [[] for _ in range(n+1)]\n",
    "    distance = [-1] * (n+1)\n",
    "    distance[x] = 0\n",
    "    \n",
    "    for a,b in dist :\n",
    "        graph[a].append(b)\n",
    "    \n",
    "    q = deque([x])\n",
    "    while q:\n",
    "        now = q.popleft()\n",
    "        for next_node in graph[now] :\n",
    "            if distance[next_node] == -1 :\n",
    "                distance[next_node] = distance[now] + 1\n",
    "                q.append(next_node)\n",
    "    \n",
    "    for i in range(1, n+1) :\n",
    "        if distance[i] == k :\n",
    "            answer.append(i)\n",
    "    \n",
    "    if len(answer) == 0 :\n",
    "        return [-1]\n",
    "    \n",
    "    return answer    "
   ]
  },
  {
   "cell_type": "code",
   "execution_count": 3,
   "metadata": {},
   "outputs": [],
   "source": [
    "n = 4\n",
    "m = 4\n",
    "k = 2\n",
    "x = 1\n",
    "dist = [[1,2], [1,3], [2,3], [2,4]]\n",
    "#[4]"
   ]
  },
  {
   "cell_type": "code",
   "execution_count": 5,
   "metadata": {},
   "outputs": [],
   "source": [
    "n = 4\n",
    "m = 3\n",
    "k = 2\n",
    "x = 1\n",
    "dist = [[1,2], [1,3], [1,4]]\n",
    "#[-1]"
   ]
  },
  {
   "cell_type": "code",
   "execution_count": 7,
   "metadata": {},
   "outputs": [],
   "source": [
    "n = 4\n",
    "m = 4\n",
    "k = 1\n",
    "x = 1\n",
    "dist = [[1,2], [1,3], [2,3], [2,4]]\n",
    "#[2,3]"
   ]
  },
  {
   "cell_type": "code",
   "execution_count": 8,
   "metadata": {},
   "outputs": [
    {
     "data": {
      "text/plain": [
       "[2, 3]"
      ]
     },
     "execution_count": 8,
     "metadata": {},
     "output_type": "execute_result"
    }
   ],
   "source": [
    "solution(n, m, k, x, dist)"
   ]
  },
  {
   "cell_type": "code",
   "execution_count": null,
   "metadata": {},
   "outputs": [],
   "source": []
  },
  {
   "cell_type": "markdown",
   "metadata": {},
   "source": [
    "# Q16"
   ]
  },
  {
   "cell_type": "code",
   "execution_count": 20,
   "metadata": {},
   "outputs": [],
   "source": [
    "def virus(x, y, temp) :\n",
    "    n = len(temp)\n",
    "    m = len(temp[0])\n",
    "    \n",
    "    dx = [-1, 1, 0, 0]\n",
    "    dy = [0, 0, -1, 1]\n",
    "    \n",
    "    for i in range(4) :\n",
    "        nx = x + dx[i]\n",
    "        ny = y + dy[i]\n",
    "        if nx>=0 and nx<n and ny>=0 and ny<m :\n",
    "            if temp[nx][ny] == 0 :\n",
    "                temp[nx][ny] = 2\n",
    "                temp = virus(nx, ny, temp)\n",
    "    return temp"
   ]
  },
  {
   "cell_type": "code",
   "execution_count": 21,
   "metadata": {},
   "outputs": [],
   "source": [
    "def score(temp) :\n",
    "    n = len(temp)\n",
    "    m = len(temp[0])\n",
    "    \n",
    "    score = 0\n",
    "    for i in range(n) :\n",
    "        for j in range(m) :\n",
    "            if temp[i][j] == 0 :\n",
    "                score += 1\n",
    "    return score"
   ]
  },
  {
   "cell_type": "code",
   "execution_count": 22,
   "metadata": {},
   "outputs": [],
   "source": [
    "def dfs(count, answer, data, temp) :\n",
    "    n = len(data)\n",
    "    m = len(data[0])\n",
    "    \n",
    "    if count == 3 :\n",
    "        for i in range(n) :\n",
    "            for j in range(m) :\n",
    "                temp[i][j] = data[i][j]\n",
    "        \n",
    "        for i in range(n) :\n",
    "            for j in range(m) :\n",
    "                if temp[i][j] == 2 :\n",
    "                    temp = virus(i, j, temp)\n",
    "        answer = max(answer, score(temp))\n",
    "        return answer\n",
    "    \n",
    "    for i in range(n) :\n",
    "        for j in range(m) :\n",
    "            if data[i][j] == 0 :\n",
    "                data[i][j] = 1\n",
    "                count += 1\n",
    "                answer = dfs(count, answer, data, temp)\n",
    "                data[i][j] = 0\n",
    "                count -= 1\n",
    "    return answer"
   ]
  },
  {
   "cell_type": "code",
   "execution_count": 23,
   "metadata": {},
   "outputs": [],
   "source": [
    "def solution(n, m, data) :\n",
    "    answer = 0\n",
    "    temp = [[0] * m for _ in range(n)]\n",
    "    \n",
    "    answer = dfs(0, answer, data, temp)\n",
    "    return answer"
   ]
  },
  {
   "cell_type": "code",
   "execution_count": 24,
   "metadata": {},
   "outputs": [],
   "source": [
    "n = 7\n",
    "m = 7\n",
    "data = [[2,0,0,0,1,1,0], [0,0,1,0,1,2,0], [0,1,1,0,1,0,0], [0,1,0,0,0,0,0], [0,0,0,0,0,1,1], [0,1,0,0,0,0,0], [0,1,0,0,0,0,0]]\n",
    "#27"
   ]
  },
  {
   "cell_type": "code",
   "execution_count": 26,
   "metadata": {},
   "outputs": [],
   "source": [
    "n = 4\n",
    "m = 6\n",
    "data = [[0,0,0,0,0,0], [1,0,0,0,0,2], [1,1,1,0,0,2], [0,0,0,0,0,2]]\n",
    "#9"
   ]
  },
  {
   "cell_type": "code",
   "execution_count": 28,
   "metadata": {},
   "outputs": [],
   "source": [
    "n = 8\n",
    "m = 8\n",
    "data = [[2,0,0,0,0,0,0,2], [2,0,0,0,0,0,0,2], [2,0,0,0,0,0,0,2], [2,0,0,0,0,0,0,2], [2,0,0,0,0,0,0,2], [0,0,0,0,0,0,0,0], [0,0,0,0,0,0,0,0], [0,0,0,0,0,0,0,0]]\n",
    "#3"
   ]
  },
  {
   "cell_type": "code",
   "execution_count": 29,
   "metadata": {},
   "outputs": [
    {
     "data": {
      "text/plain": [
       "3"
      ]
     },
     "execution_count": 29,
     "metadata": {},
     "output_type": "execute_result"
    }
   ],
   "source": [
    "solution(n, m, data)"
   ]
  },
  {
   "cell_type": "code",
   "execution_count": null,
   "metadata": {},
   "outputs": [],
   "source": []
  },
  {
   "cell_type": "code",
   "execution_count": null,
   "metadata": {},
   "outputs": [],
   "source": []
  },
  {
   "cell_type": "markdown",
   "metadata": {},
   "source": [
    "# Q17"
   ]
  },
  {
   "cell_type": "code",
   "execution_count": 36,
   "metadata": {},
   "outputs": [],
   "source": [
    "from collections import deque"
   ]
  },
  {
   "cell_type": "code",
   "execution_count": 45,
   "metadata": {},
   "outputs": [],
   "source": [
    "def solution(n, k, graph, S, X, Y) :\n",
    "    answer = 0\n",
    "    data = []\n",
    "    \n",
    "    for i in range(n) :\n",
    "        for j in range(n) :\n",
    "            if graph[i][j] != 0 :\n",
    "                data.append((graph[i][j], 0, i, j))\n",
    "    \n",
    "    data.sort()\n",
    "    q = deque(data)\n",
    "    \n",
    "    dx = [-1, 1, 0, 0]\n",
    "    dy = [0, 0, -1, 1]\n",
    "    \n",
    "    while q :\n",
    "        virus, time, x, y = q.popleft()\n",
    "        \n",
    "        if time == S :\n",
    "            break\n",
    "        \n",
    "        for i in range(4) :\n",
    "            nx = x + dx[i]\n",
    "            ny = y + dy[i]\n",
    "            \n",
    "            if nx>=0 and nx<n and ny>=0 and ny<n :\n",
    "                if graph[nx][ny] == 0 :\n",
    "                    graph[nx][ny] = virus\n",
    "                    q.append((virus, time+1, nx, ny))\n",
    "    \n",
    "    answer = graph[X-1][Y-1]    \n",
    "    return answer"
   ]
  },
  {
   "cell_type": "code",
   "execution_count": 46,
   "metadata": {},
   "outputs": [],
   "source": [
    "n = 3\n",
    "k = 3\n",
    "graph = [[1,0,2], [0,0,0], [3,0,0]]\n",
    "S = 2\n",
    "X = 3\n",
    "Y = 2\n",
    "# 3"
   ]
  },
  {
   "cell_type": "code",
   "execution_count": 48,
   "metadata": {},
   "outputs": [],
   "source": [
    "n = 3\n",
    "k = 3\n",
    "graph = [[1,0,2], [0,0,0], [3,0,0]]\n",
    "S = 1\n",
    "X= 2\n",
    "Y = 2\n",
    "# 0"
   ]
  },
  {
   "cell_type": "code",
   "execution_count": 49,
   "metadata": {},
   "outputs": [
    {
     "data": {
      "text/plain": [
       "0"
      ]
     },
     "execution_count": 49,
     "metadata": {},
     "output_type": "execute_result"
    }
   ],
   "source": [
    "solution(n, k, graph, S, X, Y)"
   ]
  },
  {
   "cell_type": "code",
   "execution_count": null,
   "metadata": {},
   "outputs": [],
   "source": []
  },
  {
   "cell_type": "markdown",
   "metadata": {},
   "source": [
    "# Q18"
   ]
  },
  {
   "cell_type": "code",
   "execution_count": 84,
   "metadata": {},
   "outputs": [],
   "source": [
    "def balanced_char(p) :\n",
    "    count = 0\n",
    "    for i in range(len(p)) :\n",
    "        if p[i] == '(' :\n",
    "            count += 1\n",
    "        else :\n",
    "            count -= 1\n",
    "        if count == 0 :\n",
    "            return i"
   ]
  },
  {
   "cell_type": "code",
   "execution_count": 85,
   "metadata": {},
   "outputs": [],
   "source": [
    "def check_proper(p) :\n",
    "    count = 0\n",
    "    for i in p :\n",
    "        if i == '(' :\n",
    "            count += 1\n",
    "        else :\n",
    "            if count == 0 :\n",
    "                return False\n",
    "            count -= 1\n",
    "    return True"
   ]
  },
  {
   "cell_type": "code",
   "execution_count": 86,
   "metadata": {},
   "outputs": [],
   "source": [
    "def solution(p) :\n",
    "    answer = ''\n",
    "    if p == '' :\n",
    "        return answer\n",
    "    index = balanced_char(p)\n",
    "    u = p[:index+1]\n",
    "    v = p[index+1:]\n",
    "    \n",
    "    if check_proper(u) :\n",
    "        answer = u + solution(v)\n",
    "    else :\n",
    "        answer = '('\n",
    "        answer += solution(v)\n",
    "        answer += ')'\n",
    "        u = list(u[1:-1])\n",
    "        for i in range(len(u)) :\n",
    "            if u[i] == '(' :\n",
    "                u[i] = ')'\n",
    "            else :\n",
    "                u[i] = '('\n",
    "        answer += ''.join(u)\n",
    "        \n",
    "    return answer"
   ]
  },
  {
   "cell_type": "code",
   "execution_count": 87,
   "metadata": {},
   "outputs": [],
   "source": [
    "p = '(()())()'\n",
    "# (()())()"
   ]
  },
  {
   "cell_type": "code",
   "execution_count": 89,
   "metadata": {},
   "outputs": [],
   "source": [
    "p = ')('\n",
    "# ()"
   ]
  },
  {
   "cell_type": "code",
   "execution_count": 90,
   "metadata": {},
   "outputs": [],
   "source": [
    "p = '()))((()'\n",
    "#()(())()"
   ]
  },
  {
   "cell_type": "code",
   "execution_count": 91,
   "metadata": {},
   "outputs": [
    {
     "data": {
      "text/plain": [
       "'()(())()'"
      ]
     },
     "execution_count": 91,
     "metadata": {},
     "output_type": "execute_result"
    }
   ],
   "source": [
    "solution(p)"
   ]
  },
  {
   "cell_type": "code",
   "execution_count": null,
   "metadata": {},
   "outputs": [],
   "source": []
  },
  {
   "cell_type": "markdown",
   "metadata": {},
   "source": [
    "# Q19"
   ]
  },
  {
   "cell_type": "code",
   "execution_count": 112,
   "metadata": {},
   "outputs": [],
   "source": [
    "def dfs(i, now, answer, data, operation) :\n",
    "    max_val, min_val = answer\n",
    "    add, sub, mul, div = operation\n",
    "    \n",
    "    if i == n :\n",
    "        max_val = max(max_val, now)\n",
    "        min_val = min(min_val, now)\n",
    "        return [max_val, min_val]\n",
    "    \n",
    "    if add > 0 :\n",
    "        add -= 1\n",
    "        operation = [add, sub, mul, div]\n",
    "        answer = dfs(i+1, now + data[i], answer, data, operation)\n",
    "        add += 1\n",
    "    if sub > 0 :\n",
    "        sub -= 1\n",
    "        operation = [add, sub, mul, div]\n",
    "        answer = dfs(i+1, now - data[i], answer, data, operation)\n",
    "        sub += 1\n",
    "    if mul > 0 :\n",
    "        mul -= 1\n",
    "        operation = [add, sub, mul, div]\n",
    "        answer = dfs(i+1, now * data[i], answer, data, operation)\n",
    "        mul += 1\n",
    "    if div > 0 :\n",
    "        div -= 1\n",
    "        operation = [add, sub, mul, div]\n",
    "        answer = dfs(i+1, int(now/data[i]), answer, data, operation)\n",
    "        div += 1\n",
    "    \n",
    "    return answer"
   ]
  },
  {
   "cell_type": "code",
   "execution_count": 113,
   "metadata": {},
   "outputs": [],
   "source": [
    "def solution(n, data, operation) :\n",
    "    answer = [-1e9, 1e9]\n",
    "    return dfs(1, data[0], answer, data, operation)"
   ]
  },
  {
   "cell_type": "code",
   "execution_count": 114,
   "metadata": {},
   "outputs": [],
   "source": [
    "n = 2\n",
    "data = [5, 6]\n",
    "operation = [0,0,1,0]\n",
    "#30, 30"
   ]
  },
  {
   "cell_type": "code",
   "execution_count": 116,
   "metadata": {},
   "outputs": [],
   "source": [
    "n = 3\n",
    "data = [3,4,5]\n",
    "operation = [1,0,1,0]\n",
    "#35, 17"
   ]
  },
  {
   "cell_type": "code",
   "execution_count": 118,
   "metadata": {},
   "outputs": [],
   "source": [
    "n = 6\n",
    "data = [1,2,3,4,5,6]\n",
    "operation = [2,1,1,1]\n",
    "#54, -24"
   ]
  },
  {
   "cell_type": "code",
   "execution_count": 119,
   "metadata": {},
   "outputs": [
    {
     "data": {
      "text/plain": [
       "[54, -24]"
      ]
     },
     "execution_count": 119,
     "metadata": {},
     "output_type": "execute_result"
    }
   ],
   "source": [
    "solution(n, data, operation)"
   ]
  },
  {
   "cell_type": "code",
   "execution_count": null,
   "metadata": {},
   "outputs": [],
   "source": []
  },
  {
   "cell_type": "markdown",
   "metadata": {},
   "source": [
    "# Q20"
   ]
  },
  {
   "cell_type": "code",
   "execution_count": 153,
   "metadata": {},
   "outputs": [],
   "source": [
    "from itertools import combinations"
   ]
  },
  {
   "cell_type": "code",
   "execution_count": 154,
   "metadata": {},
   "outputs": [],
   "source": [
    "def watch(x, y, i, board) :\n",
    "    if i == 0 :\n",
    "        while y >= 0 :\n",
    "            if board[x][y] == 'S' :\n",
    "                return True\n",
    "            elif board[x][y] == 'O' :\n",
    "                return False\n",
    "            y -= 1\n",
    "    if i == 1 :\n",
    "        while y < len(board) :\n",
    "            if board[x][y] == 'S' :\n",
    "                return True\n",
    "            elif board[x][y] == 'O' :\n",
    "                return False\n",
    "            y += 1\n",
    "    if i == 2 :\n",
    "        while x >= 0 :\n",
    "            if board[x][y] == 'S' :\n",
    "                return True\n",
    "            elif board[x][y] == 'O' :\n",
    "                return False\n",
    "            x -= 1\n",
    "    if i == 3 :\n",
    "        while x < len(board) :\n",
    "            if board[x][y] == 'S' :\n",
    "                return True\n",
    "            elif board[x][y] == 'O' :\n",
    "                return False\n",
    "            x += 1\n",
    "    return False"
   ]
  },
  {
   "cell_type": "code",
   "execution_count": 155,
   "metadata": {},
   "outputs": [],
   "source": [
    "def process(teachers, board) :\n",
    "    for x, y in teachers :\n",
    "        for i in range(4) :\n",
    "            if watch(x, y, i, board) :\n",
    "                return True\n",
    "    return False"
   ]
  },
  {
   "cell_type": "code",
   "execution_count": 156,
   "metadata": {},
   "outputs": [],
   "source": [
    "def solution(n, board) :\n",
    "    answer = ''\n",
    "    teachers, spaces = [], []\n",
    "    \n",
    "    for i in range(n) :\n",
    "        for j in range(n) :\n",
    "            if board[i][j] == 'T' :\n",
    "                teachers.append((i, j))\n",
    "            elif board[i][j] == 'X' :\n",
    "                spaces.append((i,j))\n",
    "                \n",
    "    find = False\n",
    "    for obstacle in combinations(spaces, 3) :\n",
    "        for x, y in obstacle :\n",
    "            board[x][y] = 'O'\n",
    "        if not process(teachers, board) :\n",
    "            find = True\n",
    "            break\n",
    "        for x, y in obstacle :\n",
    "            board[x][y] = 'X'\n",
    "            \n",
    "    if find :\n",
    "        answer = 'YES'\n",
    "    else :\n",
    "        answer = 'NO'\n",
    "    return answer"
   ]
  },
  {
   "cell_type": "code",
   "execution_count": 157,
   "metadata": {},
   "outputs": [],
   "source": [
    "n = 5\n",
    "board = [['X','S','X','X','T'], ['T','X','S','X','X'], ['X','X','X','X','X'], ['X','T','X','X','X'], ['X','X','T','X','X']]\n",
    "# YES"
   ]
  },
  {
   "cell_type": "code",
   "execution_count": 159,
   "metadata": {},
   "outputs": [],
   "source": [
    "n = 4\n",
    "board = [['S','S','S','T'], ['X','X','X','X'], ['X','X','X','X'], ['T','T','T','X']]\n",
    "# NO"
   ]
  },
  {
   "cell_type": "code",
   "execution_count": 160,
   "metadata": {},
   "outputs": [
    {
     "data": {
      "text/plain": [
       "'NO'"
      ]
     },
     "execution_count": 160,
     "metadata": {},
     "output_type": "execute_result"
    }
   ],
   "source": [
    "solution(n, board)"
   ]
  },
  {
   "cell_type": "code",
   "execution_count": null,
   "metadata": {},
   "outputs": [],
   "source": []
  },
  {
   "cell_type": "markdown",
   "metadata": {},
   "source": [
    "# Q21"
   ]
  },
  {
   "cell_type": "code",
   "execution_count": 220,
   "metadata": {},
   "outputs": [],
   "source": [
    "from collections import deque"
   ]
  },
  {
   "cell_type": "code",
   "execution_count": 233,
   "metadata": {},
   "outputs": [],
   "source": [
    "def process(x, y, l, r, graph, union, index) :\n",
    "    n = len(graph)\n",
    "    \n",
    "    dx = [-1, 1, 0, 0]\n",
    "    dy = [0, 0, -1, 1]\n",
    "    \n",
    "    united = [(x,y)]\n",
    "    q = deque(united)\n",
    "    union[x][y] = index\n",
    "    summary = graph[x][y]\n",
    "    count = 1\n",
    "    \n",
    "    while q :\n",
    "        x, y = q.popleft()\n",
    "        \n",
    "        for i in range(4) :\n",
    "            nx = x + dx[i]\n",
    "            ny = y + dy[i]\n",
    "            \n",
    "            if nx>=0 and nx<n and ny>=0 and ny<n and union[nx][ny] == -1 :\n",
    "                if abs(graph[nx][ny] - graph[x][y]) >= l and abs(graph[nx][ny]-graph[x][y]) <= r :\n",
    "                    united.append((nx, ny))\n",
    "                    q.append((nx, ny))\n",
    "                    count += 1\n",
    "                    summary += graph[nx][ny]\n",
    "                    union[nx][ny] = index\n",
    "    \n",
    "    for i, j in united :\n",
    "        graph[i][j] = int(summary / count)\n",
    "    return graph, union"
   ]
  },
  {
   "cell_type": "code",
   "execution_count": 234,
   "metadata": {},
   "outputs": [],
   "source": [
    "def solution(n, l, r, graph) :\n",
    "    answer = 0\n",
    "    \n",
    "    while True :\n",
    "        union = [[-1]*n for _ in range(n)]\n",
    "        index = 0\n",
    "        for i in range(n) :\n",
    "            for j in range(n) :\n",
    "                if union[i][j] == -1 :\n",
    "                    graph, union = process(i, j, l, r, graph, union, index)\n",
    "                    index += 1\n",
    "        if index == n * n :\n",
    "            break\n",
    "        answer += 1\n",
    "    return answer"
   ]
  },
  {
   "cell_type": "code",
   "execution_count": 235,
   "metadata": {},
   "outputs": [],
   "source": [
    "n = 2\n",
    "l = 20\n",
    "r = 50\n",
    "graph = [[50, 30], [20, 40]]\n",
    "#1"
   ]
  },
  {
   "cell_type": "code",
   "execution_count": 237,
   "metadata": {},
   "outputs": [],
   "source": [
    "n = 2\n",
    "l = 40\n",
    "r = 50\n",
    "graph = [[50, 30], [20, 40]]\n",
    "#0"
   ]
  },
  {
   "cell_type": "code",
   "execution_count": 239,
   "metadata": {},
   "outputs": [],
   "source": [
    "n = 2\n",
    "l = 20\n",
    "r = 50\n",
    "graph = [[50, 30], [30, 40]]\n",
    "#1"
   ]
  },
  {
   "cell_type": "code",
   "execution_count": 241,
   "metadata": {},
   "outputs": [],
   "source": [
    "n = 3\n",
    "l = 5\n",
    "r = 10\n",
    "graph = [[10, 15, 20], [20,30,25], [40,22,10]]\n",
    "#2"
   ]
  },
  {
   "cell_type": "code",
   "execution_count": 243,
   "metadata": {},
   "outputs": [],
   "source": [
    "n = 4\n",
    "l = 10\n",
    "r = 50\n",
    "graph = [[10, 100, 20, 90], [80, 100, 60, 70], [70, 20, 30, 40], [50, 20, 100, 10]]\n",
    "# 3"
   ]
  },
  {
   "cell_type": "code",
   "execution_count": 244,
   "metadata": {},
   "outputs": [
    {
     "data": {
      "text/plain": [
       "3"
      ]
     },
     "execution_count": 244,
     "metadata": {},
     "output_type": "execute_result"
    }
   ],
   "source": [
    "solution(n, l, r, graph)"
   ]
  },
  {
   "cell_type": "code",
   "execution_count": null,
   "metadata": {},
   "outputs": [],
   "source": []
  },
  {
   "cell_type": "markdown",
   "metadata": {},
   "source": [
    "# Q22"
   ]
  },
  {
   "cell_type": "code",
   "execution_count": 255,
   "metadata": {},
   "outputs": [],
   "source": [
    "from collections import deque"
   ]
  },
  {
   "cell_type": "code",
   "execution_count": 264,
   "metadata": {},
   "outputs": [],
   "source": [
    "def get_next_pos(pos, new_board) :\n",
    "    next_pos = []\n",
    "    pos = list(pos)\n",
    "    pos1_x, pos1_y, pos2_x, pos2_y = pos[0][0], pos[0][1], pos[1][0], pos[1][1]\n",
    "    \n",
    "    dx = [-1, 1, 0, 0]\n",
    "    dy = [0, 0, -1, 1]\n",
    "    \n",
    "    for i in range(4) :\n",
    "        pos1_next_x, pos1_next_y, pos2_next_x, pos2_next_y = pos1_x+dx[i], pos1_y+dy[i], pos2_x+dx[i], pos2_y+dy[i]\n",
    "        if new_board[pos1_next_x][pos1_next_y] == 0 and new_board[pos2_next_x][pos2_next_y] == 0 :\n",
    "            next_pos.append({(pos1_next_x, pos1_next_y), (pos2_next_x, pos2_next_y)})\n",
    "        \n",
    "    if pos1_x == pos2_x :\n",
    "        for i in [-1, 1] :\n",
    "            if new_board[pos1_x+i][pos1_y] == 0 and new_board[pos2_x+i][pos2_y] == 0 :\n",
    "                next_pos.append({(pos1_x, pos1_y), (pos1_x+i, pos1_y)})\n",
    "                next_pos.append({(pos2_x, pos2_y), (pos2_x+i, pos2_y)})\n",
    "    elif pos1_y == pos2_y :\n",
    "        for i in [-1, 1] :\n",
    "            if new_board[pos1_x][pos1_y+i] == 0 and new_board[pos2_x][pos2_y+i] == 0 :\n",
    "                next_pos.append({(pos1_x, pos1_y), (pos1_x, pos1_y+i)})\n",
    "                next_pos.append({(pos2_x, pos2_y), (pos2_x, pos2_y+i)})\n",
    "    return next_pos"
   ]
  },
  {
   "cell_type": "code",
   "execution_count": 268,
   "metadata": {},
   "outputs": [],
   "source": [
    "def solution(board) :\n",
    "    answer = 0\n",
    "    n = len(board)\n",
    "    new_board = [[1]*(n+2) for _ in range(n+2)]\n",
    "    for i in range(n) :\n",
    "        for j in range(n) :\n",
    "            new_board[i+1][j+1] = board[i][j]\n",
    "\n",
    "    pos = {(1,1),(1,2)}\n",
    "    q = deque([(pos, 0)])\n",
    "    \n",
    "    visited = []\n",
    "    visited.append(pos)\n",
    "    \n",
    "    while q :\n",
    "        pos, time = q.popleft()\n",
    "        if (n,n) in pos :\n",
    "            return time\n",
    "        for next_pos in get_next_pos(pos, new_board) :\n",
    "            if next_pos not in visited :\n",
    "                visited.append(next_pos)\n",
    "                q.append((next_pos, time+1))\n",
    "    \n",
    "    return answer"
   ]
  },
  {
   "cell_type": "code",
   "execution_count": 269,
   "metadata": {},
   "outputs": [],
   "source": [
    "board = [[0,0,0,1,1], [0,0,0,1,0], [0,1,0,1,1], [1,1,0,0,1], [0,0,0,0,0]]\n",
    "# 7"
   ]
  },
  {
   "cell_type": "code",
   "execution_count": 270,
   "metadata": {},
   "outputs": [
    {
     "data": {
      "text/plain": [
       "7"
      ]
     },
     "execution_count": 270,
     "metadata": {},
     "output_type": "execute_result"
    }
   ],
   "source": [
    "solution(board)"
   ]
  }
 ],
 "metadata": {
  "kernelspec": {
   "display_name": "Python 3",
   "language": "python",
   "name": "python3"
  },
  "language_info": {
   "codemirror_mode": {
    "name": "ipython",
    "version": 3
   },
   "file_extension": ".py",
   "mimetype": "text/x-python",
   "name": "python",
   "nbconvert_exporter": "python",
   "pygments_lexer": "ipython3",
   "version": "3.7.9"
  }
 },
 "nbformat": 4,
 "nbformat_minor": 4
}
