{
 "cells": [
  {
   "cell_type": "markdown",
   "metadata": {},
   "source": [
    "# Q15"
   ]
  },
  {
   "cell_type": "code",
   "execution_count": 1,
   "metadata": {},
   "outputs": [],
   "source": [
    "from collections import deque"
   ]
  },
  {
   "cell_type": "code",
   "execution_count": 2,
   "metadata": {},
   "outputs": [],
   "source": [
    "def solution(n, m, k, x, dist) :\n",
    "    answer = []\n",
    "    graph = [[] for _ in range(n+1)]\n",
    "    distance = [-1] * (n+1)\n",
    "    distance[x] = 0\n",
    "    \n",
    "    for a,b in dist :\n",
    "        graph[a].append(b)\n",
    "    \n",
    "    q = deque([x])\n",
    "    while q :\n",
    "        now = q.popleft()\n",
    "        for next_node in graph[now] :\n",
    "            if distance[next_node] == -1 :\n",
    "                distance[next_node] = distance[now] + 1\n",
    "                q.append(next_node)\n",
    "    \n",
    "    for i in range(1, n+1) :\n",
    "        if distance[i] == k :\n",
    "            answer.append(i)\n",
    "    \n",
    "    if len(answer) == 0 :\n",
    "        return [-1]\n",
    "    \n",
    "    return answer    "
   ]
  },
  {
   "cell_type": "code",
   "execution_count": 3,
   "metadata": {},
   "outputs": [],
   "source": [
    "n = 4\n",
    "m = 4\n",
    "k = 2\n",
    "x = 1\n",
    "dist = [[1,2], [1,3], [2,3], [2,4]]\n",
    "#[4]"
   ]
  },
  {
   "cell_type": "code",
   "execution_count": 5,
   "metadata": {},
   "outputs": [],
   "source": [
    "n = 4\n",
    "m = 3\n",
    "k = 2\n",
    "x = 1\n",
    "dist = [[1,2], [1,3], [1,4]]\n",
    "#[-1]"
   ]
  },
  {
   "cell_type": "code",
   "execution_count": 7,
   "metadata": {},
   "outputs": [],
   "source": [
    "n = 4\n",
    "m = 4\n",
    "k = 1\n",
    "x = 1\n",
    "dist = [[1,2], [1,3], [2,3], [2,4]]\n",
    "#[2,3]"
   ]
  },
  {
   "cell_type": "code",
   "execution_count": 8,
   "metadata": {},
   "outputs": [
    {
     "data": {
      "text/plain": [
       "[2, 3]"
      ]
     },
     "execution_count": 8,
     "metadata": {},
     "output_type": "execute_result"
    }
   ],
   "source": [
    "solution(n, m, k, x, dist)"
   ]
  },
  {
   "cell_type": "code",
   "execution_count": null,
   "metadata": {},
   "outputs": [],
   "source": []
  },
  {
   "cell_type": "markdown",
   "metadata": {},
   "source": [
    "# Q16"
   ]
  },
  {
   "cell_type": "code",
   "execution_count": 10,
   "metadata": {},
   "outputs": [],
   "source": [
    "def virus(x, y, temp) :\n",
    "    n = len(temp)\n",
    "    m = len(temp[0])\n",
    "    \n",
    "    dx = [-1, 1, 0, 0]\n",
    "    dy = [0, 0, -1, 1]\n",
    "    \n",
    "    for i in range(4) :\n",
    "        nx = x + dx[i]\n",
    "        ny = y + dy[i]\n",
    "        \n",
    "        if nx>=0 and nx<n and ny>=0 and ny<m and temp[nx][ny] == 0 :\n",
    "            temp[nx][ny] = 2\n",
    "            temp = virus(nx, ny, temp)\n",
    "    return temp"
   ]
  },
  {
   "cell_type": "code",
   "execution_count": 11,
   "metadata": {},
   "outputs": [],
   "source": [
    "def get_score(temp) :\n",
    "    score = 0\n",
    "    for i in range(len(temp)) :\n",
    "        for j in range(len(temp[0])) :\n",
    "            if temp[i][j] == 0 :\n",
    "                score += 1\n",
    "    return score"
   ]
  },
  {
   "cell_type": "code",
   "execution_count": 12,
   "metadata": {},
   "outputs": [],
   "source": [
    "def dfs(count, answer, temp, data) :\n",
    "    n = len(data)\n",
    "    m = len(data[0])\n",
    "    \n",
    "    if count == 3 :\n",
    "        for i in range(n) :\n",
    "            for j in range(m) :\n",
    "                temp[i][j] = data[i][j]\n",
    "        for i in range(n) :\n",
    "            for j in range(m) :\n",
    "                if temp[i][j] == 2 :\n",
    "                    temp = virus(i, j, temp)\n",
    "        answer = max(answer, get_score(temp))\n",
    "        return answer\n",
    "    \n",
    "    for i in range(n) :\n",
    "        for j in range(m) :\n",
    "            if data[i][j] == 0 :\n",
    "                data[i][j] = 1\n",
    "                count += 1\n",
    "                answer = dfs(count, answer, temp, data)\n",
    "                data[i][j] = 0\n",
    "                count -= 1\n",
    "    return answer"
   ]
  },
  {
   "cell_type": "code",
   "execution_count": 13,
   "metadata": {},
   "outputs": [],
   "source": [
    "def solution(n, m, data) :\n",
    "    answer = 0\n",
    "    temp = [[0] * m for _ in range(n)]\n",
    "    answer = dfs(0, answer, temp, data)\n",
    "    return answer"
   ]
  },
  {
   "cell_type": "code",
   "execution_count": 14,
   "metadata": {},
   "outputs": [],
   "source": [
    "n = 7\n",
    "m = 7\n",
    "data = [[2,0,0,0,1,1,0], [0,0,1,0,1,2,0], [0,1,1,0,1,0,0], [0,1,0,0,0,0,0], [0,0,0,0,0,1,1], [0,1,0,0,0,0,0], [0,1,0,0,0,0,0]]\n",
    "#27"
   ]
  },
  {
   "cell_type": "code",
   "execution_count": 16,
   "metadata": {},
   "outputs": [],
   "source": [
    "n = 4\n",
    "m = 6\n",
    "data = [[0,0,0,0,0,0], [1,0,0,0,0,2], [1,1,1,0,0,2], [0,0,0,0,0,2]]\n",
    "#9"
   ]
  },
  {
   "cell_type": "code",
   "execution_count": 18,
   "metadata": {},
   "outputs": [],
   "source": [
    "n = 8\n",
    "m = 8\n",
    "data = [[2,0,0,0,0,0,0,2], [2,0,0,0,0,0,0,2], [2,0,0,0,0,0,0,2], [2,0,0,0,0,0,0,2], [2,0,0,0,0,0,0,2], [0,0,0,0,0,0,0,0], [0,0,0,0,0,0,0,0], [0,0,0,0,0,0,0,0]]\n",
    "#3"
   ]
  },
  {
   "cell_type": "code",
   "execution_count": 19,
   "metadata": {},
   "outputs": [
    {
     "data": {
      "text/plain": [
       "3"
      ]
     },
     "execution_count": 19,
     "metadata": {},
     "output_type": "execute_result"
    }
   ],
   "source": [
    "solution(n, m, data)"
   ]
  },
  {
   "cell_type": "code",
   "execution_count": null,
   "metadata": {},
   "outputs": [],
   "source": []
  },
  {
   "cell_type": "code",
   "execution_count": null,
   "metadata": {},
   "outputs": [],
   "source": []
  },
  {
   "cell_type": "markdown",
   "metadata": {},
   "source": [
    "# Q17"
   ]
  },
  {
   "cell_type": "code",
   "execution_count": 20,
   "metadata": {},
   "outputs": [],
   "source": [
    "from collections import deque"
   ]
  },
  {
   "cell_type": "code",
   "execution_count": 21,
   "metadata": {},
   "outputs": [],
   "source": [
    "def solution(n, k, graph, S, X, Y) :\n",
    "    answer = 0\n",
    "    \n",
    "    data = []\n",
    "    for i in range(n) :\n",
    "        for j in range(n) :\n",
    "            if graph[i][j] != 0 :\n",
    "                data.append((graph[i][j], 0, i, j))\n",
    "                \n",
    "    data.sort()\n",
    "    q = deque(data)\n",
    "    \n",
    "    dx = [-1, 1, 0, 0]\n",
    "    dy = [0, 0, -1, 1]\n",
    "    \n",
    "    while q :\n",
    "        virus, time, x, y = q.popleft()\n",
    "        \n",
    "        if time == S :\n",
    "            break\n",
    "        \n",
    "        for i in range(4) :\n",
    "            nx = x + dx[i]\n",
    "            ny = y + dy[i]\n",
    "            \n",
    "            if nx>=0 and nx<n and ny>=0 and ny<n and graph[nx][ny] == 0 :\n",
    "                graph[nx][ny] = virus\n",
    "                q.append((virus, time+1, nx, ny))\n",
    "    \n",
    "    answer = graph[X-1][Y-1]\n",
    "    return answer"
   ]
  },
  {
   "cell_type": "code",
   "execution_count": 22,
   "metadata": {},
   "outputs": [],
   "source": [
    "n = 3\n",
    "k = 3\n",
    "graph = [[1,0,2], [0,0,0], [3,0,0]]\n",
    "S = 2\n",
    "X = 3\n",
    "Y = 2\n",
    "# 3"
   ]
  },
  {
   "cell_type": "code",
   "execution_count": 24,
   "metadata": {},
   "outputs": [],
   "source": [
    "n = 3\n",
    "k = 3\n",
    "graph = [[1,0,2], [0,0,0], [3,0,0]]\n",
    "S = 1\n",
    "X= 2\n",
    "Y = 2\n",
    "# 0"
   ]
  },
  {
   "cell_type": "code",
   "execution_count": 25,
   "metadata": {},
   "outputs": [
    {
     "data": {
      "text/plain": [
       "0"
      ]
     },
     "execution_count": 25,
     "metadata": {},
     "output_type": "execute_result"
    }
   ],
   "source": [
    "solution(n, k, graph, S, X, Y)"
   ]
  },
  {
   "cell_type": "code",
   "execution_count": null,
   "metadata": {},
   "outputs": [],
   "source": []
  },
  {
   "cell_type": "markdown",
   "metadata": {},
   "source": [
    "# Q18"
   ]
  },
  {
   "cell_type": "code",
   "execution_count": 26,
   "metadata": {},
   "outputs": [],
   "source": [
    "def balanced_char(p) :\n",
    "    count = 0\n",
    "    for i in range(len(p)) :\n",
    "        if p[i] == '(' :\n",
    "            count += 1\n",
    "        else :\n",
    "            count -= 1\n",
    "        if count == 0 :\n",
    "            return i"
   ]
  },
  {
   "cell_type": "code",
   "execution_count": 27,
   "metadata": {},
   "outputs": [],
   "source": [
    "def check_proper(p) :\n",
    "    count = 0\n",
    "    for i in p :\n",
    "        if i == '(' :\n",
    "            count += 1\n",
    "        else :\n",
    "            if count == 0 :\n",
    "                return False\n",
    "            count -= 1\n",
    "    return True"
   ]
  },
  {
   "cell_type": "code",
   "execution_count": 28,
   "metadata": {},
   "outputs": [],
   "source": [
    "def solution(p) :\n",
    "    answer = ''\n",
    "    if p == '' :\n",
    "        return answer\n",
    "    index = balanced_char(p)\n",
    "    u = p[:index+1]\n",
    "    v = p[index+1:]\n",
    "    if check_proper(u) :\n",
    "        answer = u + solution(v)\n",
    "    else :\n",
    "        answer = '('\n",
    "        answer += solution(v)\n",
    "        answer += ')'\n",
    "        u = list(u[1:-1])\n",
    "        for i in range(len(u)) :\n",
    "            if u[i] == '(' :\n",
    "                u[i] = ')'\n",
    "            else :\n",
    "                u[i] = '('\n",
    "        answer += ''.join(u)\n",
    "    return answer"
   ]
  },
  {
   "cell_type": "code",
   "execution_count": 29,
   "metadata": {},
   "outputs": [],
   "source": [
    "p = '(()())()'\n",
    "# (()())()"
   ]
  },
  {
   "cell_type": "code",
   "execution_count": 31,
   "metadata": {},
   "outputs": [],
   "source": [
    "p = ')('\n",
    "# ()"
   ]
  },
  {
   "cell_type": "code",
   "execution_count": 33,
   "metadata": {},
   "outputs": [],
   "source": [
    "p = '()))((()'\n",
    "#()(())()"
   ]
  },
  {
   "cell_type": "code",
   "execution_count": 34,
   "metadata": {},
   "outputs": [
    {
     "data": {
      "text/plain": [
       "'()(())()'"
      ]
     },
     "execution_count": 34,
     "metadata": {},
     "output_type": "execute_result"
    }
   ],
   "source": [
    "solution(p)"
   ]
  },
  {
   "cell_type": "code",
   "execution_count": null,
   "metadata": {},
   "outputs": [],
   "source": []
  },
  {
   "cell_type": "markdown",
   "metadata": {},
   "source": [
    "# Q19"
   ]
  },
  {
   "cell_type": "code",
   "execution_count": 39,
   "metadata": {},
   "outputs": [],
   "source": [
    "def dfs(i, now, answer, data, operation) :\n",
    "    max_val, min_val = answer\n",
    "    add, sub, mul, div = operation\n",
    "    \n",
    "    if i == len(data) :\n",
    "        max_val = max(max_val, now)\n",
    "        min_val = min(min_val, now)\n",
    "        return [max_val, min_val]\n",
    "    if add > 0 :\n",
    "        add -= 1\n",
    "        operation = [add, sub, mul, div]\n",
    "        answer = dfs(i+1, now + data[i], answer, data, operation)\n",
    "        add += 1\n",
    "    if sub > 0 :\n",
    "        sub -= 1\n",
    "        operation = [add, sub, mul, div]\n",
    "        answer = dfs(i+1, now - data[i], answer, data, operation)\n",
    "        sub += 1\n",
    "    if mul > 0 :\n",
    "        mul -= 1\n",
    "        operation = [add, sub, mul, div]\n",
    "        answer = dfs(i+1, now * data[i], answer, data, operation)\n",
    "        mul += 1\n",
    "    if div > 0 :\n",
    "        div -= 1\n",
    "        operation = [add, sub, mul, div]\n",
    "        answer = dfs(i+1, int(now/data[i]), answer, data, operation)\n",
    "        div += 1\n",
    "    return answer"
   ]
  },
  {
   "cell_type": "code",
   "execution_count": 40,
   "metadata": {},
   "outputs": [],
   "source": [
    "def solution(n, data, operation) :\n",
    "    answer = [-1e9, 1e9]\n",
    "    return dfs(1, data[0], answer, data, operation)"
   ]
  },
  {
   "cell_type": "code",
   "execution_count": 41,
   "metadata": {},
   "outputs": [],
   "source": [
    "n = 2\n",
    "data = [5, 6]\n",
    "operation = [0,0,1,0]\n",
    "#30, 30"
   ]
  },
  {
   "cell_type": "code",
   "execution_count": 43,
   "metadata": {},
   "outputs": [],
   "source": [
    "n = 3\n",
    "data = [3,4,5]\n",
    "operation = [1,0,1,0]\n",
    "#35, 17"
   ]
  },
  {
   "cell_type": "code",
   "execution_count": 45,
   "metadata": {},
   "outputs": [],
   "source": [
    "n = 6\n",
    "data = [1,2,3,4,5,6]\n",
    "operation = [2,1,1,1]\n",
    "#54, -24"
   ]
  },
  {
   "cell_type": "code",
   "execution_count": 46,
   "metadata": {},
   "outputs": [
    {
     "data": {
      "text/plain": [
       "[54, -24]"
      ]
     },
     "execution_count": 46,
     "metadata": {},
     "output_type": "execute_result"
    }
   ],
   "source": [
    "solution(n, data, operation)"
   ]
  },
  {
   "cell_type": "code",
   "execution_count": null,
   "metadata": {},
   "outputs": [],
   "source": []
  },
  {
   "cell_type": "markdown",
   "metadata": {},
   "source": [
    "# Q20"
   ]
  },
  {
   "cell_type": "code",
   "execution_count": 47,
   "metadata": {},
   "outputs": [],
   "source": [
    "from itertools import combinations"
   ]
  },
  {
   "cell_type": "code",
   "execution_count": 48,
   "metadata": {},
   "outputs": [],
   "source": [
    "def watch(x, y, direct, board) :\n",
    "    if direct == 0 :\n",
    "        while y >= 0 :\n",
    "            if board[x][y] == 'S' :\n",
    "                return True\n",
    "            elif board[x][y] == 'O' :\n",
    "                return False\n",
    "            y -= 1\n",
    "    elif direct == 1 :\n",
    "        while y < len(board) :\n",
    "            if board[x][y] == 'S' :\n",
    "                return True\n",
    "            elif board[x][y] == 'O' :\n",
    "                return False\n",
    "            y += 1\n",
    "    elif direct == 2 :\n",
    "        while x >= 0 :\n",
    "            if board[x][y] == 'S' :\n",
    "                return True\n",
    "            elif board[x][y] == 'O' :\n",
    "                return False\n",
    "            x -= 1\n",
    "    elif direct == 3 :\n",
    "        while x < len(board) :\n",
    "            if board[x][y] == 'S' :\n",
    "                return True\n",
    "            elif board[x][y] == 'O' :\n",
    "                return False\n",
    "            x += 1\n",
    "    return False"
   ]
  },
  {
   "cell_type": "code",
   "execution_count": 49,
   "metadata": {},
   "outputs": [],
   "source": [
    "def process(board, teachers) :\n",
    "    for x, y in teachers :\n",
    "        for direct in range(4) :\n",
    "            if watch(x, y, direct, board) :\n",
    "                return True\n",
    "    return False"
   ]
  },
  {
   "cell_type": "code",
   "execution_count": 50,
   "metadata": {},
   "outputs": [],
   "source": [
    "def solution(n, board) :\n",
    "    answer = ''\n",
    "    teachers, spaces = [], []\n",
    "    for i in range(n) :\n",
    "        for j in range(n) :\n",
    "            if board[i][j] == 'T' :\n",
    "                teachers.append((i, j))\n",
    "            elif board[i][j] == 'X' :\n",
    "                spaces.append((i, j))\n",
    "    \n",
    "    find = False\n",
    "    for obstacle in combinations(spaces, 3) :\n",
    "        for a, b in obstacle :\n",
    "            board[a][b] = 'O'\n",
    "        if not process(board, teachers) :\n",
    "            find = True\n",
    "            break\n",
    "        for a, b in obstacle :\n",
    "            board[a][b] = 'X'\n",
    "    \n",
    "    if find :\n",
    "        answer = 'YES'\n",
    "    else :\n",
    "        answer = 'NO'\n",
    "    return answer"
   ]
  },
  {
   "cell_type": "code",
   "execution_count": 51,
   "metadata": {},
   "outputs": [],
   "source": [
    "n = 5\n",
    "board = [['X','S','X','X','T'], ['T','X','S','X','X'], ['X','X','X','X','X'], ['X','T','X','X','X'], ['X','X','T','X','X']]\n",
    "# YES"
   ]
  },
  {
   "cell_type": "code",
   "execution_count": 53,
   "metadata": {},
   "outputs": [],
   "source": [
    "n = 4\n",
    "board = [['S','S','S','T'], ['X','X','X','X'], ['X','X','X','X'], ['T','T','T','X']]\n",
    "# NO"
   ]
  },
  {
   "cell_type": "code",
   "execution_count": 54,
   "metadata": {},
   "outputs": [
    {
     "data": {
      "text/plain": [
       "'NO'"
      ]
     },
     "execution_count": 54,
     "metadata": {},
     "output_type": "execute_result"
    }
   ],
   "source": [
    "solution(n, board)"
   ]
  },
  {
   "cell_type": "code",
   "execution_count": null,
   "metadata": {},
   "outputs": [],
   "source": []
  },
  {
   "cell_type": "markdown",
   "metadata": {},
   "source": [
    "# Q21"
   ]
  },
  {
   "cell_type": "code",
   "execution_count": 56,
   "metadata": {},
   "outputs": [],
   "source": [
    "from collections import deque"
   ]
  },
  {
   "cell_type": "code",
   "execution_count": 61,
   "metadata": {},
   "outputs": [],
   "source": [
    "def process(x, y, l, r, index, graph, union) :\n",
    "    united = [(x,y)]\n",
    "    summary = graph[x][y]\n",
    "    count = 1\n",
    "    q = deque(united)\n",
    "    union[x][y] = index\n",
    "    \n",
    "    dx = [-1, 1, 0, 0]\n",
    "    dy = [0, 0, -1, 1]\n",
    "    \n",
    "    while q :\n",
    "        x, y = q.popleft()\n",
    "        \n",
    "        for i in range(4) :\n",
    "            nx = x + dx[i]\n",
    "            ny = y + dy[i]\n",
    "            \n",
    "            if nx>=0 and nx<len(graph) and ny>=0 and ny<len(graph) and union[nx][ny] == -1 :\n",
    "                if abs(graph[nx][ny]-graph[x][y]) >= l and abs(graph[nx][ny]-graph[x][y]) <= r :\n",
    "                    union[nx][ny] = index\n",
    "                    q.append((nx, ny))\n",
    "                    summary += graph[nx][ny]\n",
    "                    count += 1\n",
    "                    united.append((nx, ny))\n",
    "    \n",
    "    for a,b in united :\n",
    "        graph[a][b] = summary // count\n",
    "    \n",
    "    return graph, union"
   ]
  },
  {
   "cell_type": "code",
   "execution_count": 62,
   "metadata": {},
   "outputs": [],
   "source": [
    "def solution(n, l, r, graph) :\n",
    "    answer = 0\n",
    "    \n",
    "    while True :\n",
    "        index = 0\n",
    "        union = [[-1] * n for _ in range(n)]\n",
    "        for i in range(n) :\n",
    "            for j in range(n) :\n",
    "                if union[i][j] == -1 :\n",
    "                    graph, union = process(i, j, l, r, index, graph, union)\n",
    "                    index += 1\n",
    "        \n",
    "        if index == n * n :\n",
    "            break\n",
    "        \n",
    "        answer += 1\n",
    "        \n",
    "    return answer"
   ]
  },
  {
   "cell_type": "code",
   "execution_count": 63,
   "metadata": {},
   "outputs": [],
   "source": [
    "n = 2\n",
    "l = 20\n",
    "r = 50\n",
    "graph = [[50, 30], [20, 40]]\n",
    "#1"
   ]
  },
  {
   "cell_type": "code",
   "execution_count": 65,
   "metadata": {},
   "outputs": [],
   "source": [
    "n = 2\n",
    "l = 40\n",
    "r = 50\n",
    "graph = [[50, 30], [20, 40]]\n",
    "#0"
   ]
  },
  {
   "cell_type": "code",
   "execution_count": 67,
   "metadata": {},
   "outputs": [],
   "source": [
    "n = 2\n",
    "l = 20\n",
    "r = 50\n",
    "graph = [[50, 30], [30, 40]]\n",
    "#1"
   ]
  },
  {
   "cell_type": "code",
   "execution_count": 69,
   "metadata": {},
   "outputs": [],
   "source": [
    "n = 3\n",
    "l = 5\n",
    "r = 10\n",
    "graph = [[10, 15, 20], [20,30,25], [40,22,10]]\n",
    "#2"
   ]
  },
  {
   "cell_type": "code",
   "execution_count": 71,
   "metadata": {},
   "outputs": [],
   "source": [
    "n = 4\n",
    "l = 10\n",
    "r = 50\n",
    "graph = [[10, 100, 20, 90], [80, 100, 60, 70], [70, 20, 30, 40], [50, 20, 100, 10]]\n",
    "# 3"
   ]
  },
  {
   "cell_type": "code",
   "execution_count": 72,
   "metadata": {},
   "outputs": [
    {
     "data": {
      "text/plain": [
       "3"
      ]
     },
     "execution_count": 72,
     "metadata": {},
     "output_type": "execute_result"
    }
   ],
   "source": [
    "solution(n, l, r, graph)"
   ]
  },
  {
   "cell_type": "code",
   "execution_count": null,
   "metadata": {},
   "outputs": [],
   "source": []
  },
  {
   "cell_type": "markdown",
   "metadata": {},
   "source": [
    "# Q22"
   ]
  },
  {
   "cell_type": "code",
   "execution_count": 73,
   "metadata": {},
   "outputs": [],
   "source": [
    "from collections import deque"
   ]
  },
  {
   "cell_type": "code",
   "execution_count": 74,
   "metadata": {},
   "outputs": [],
   "source": [
    "def get_next_pos(pos, board) :\n",
    "    next_pos = []\n",
    "    pos = list(pos)\n",
    "    pos1_x, pos1_y, pos2_x, pos2_y = pos[0][0], pos[0][1], pos[1][0], pos[1][1]\n",
    "    \n",
    "    dx = [-1, 1, 0, 0]\n",
    "    dy = [0, 0, -1, 1]\n",
    "    \n",
    "    for i in range(4) :\n",
    "        pos1_next_x, pos1_next_y, pos2_next_x, pos2_next_y = pos1_x+dx[i], pos1_y+dy[i], pos2_x+dx[i], pos2_y+dy[i]\n",
    "        if board[pos1_next_x][pos1_next_y] == 0 and board[pos2_next_x][pos2_next_y] == 0 :\n",
    "            next_pos.append({(pos1_next_x, pos1_next_y), (pos2_next_x, pos2_next_y)})\n",
    "    \n",
    "    if pos1_x == pos2_x :\n",
    "        for i in [-1, 1] :\n",
    "            if board[pos1_x+1][pos1_y] == 0 and board[pos2_x+1][pos2_y] == 0 :\n",
    "                next_pos.append({(pos1_x, pos1_y), (pos1_x+i, pos1_y)})\n",
    "                next_pos.append({(pos2_x, pos2_y), (pos2_x+i, pos2_y)})\n",
    "    \n",
    "    if pos1_y == pos2_y :\n",
    "        for i in [-1, 1] :\n",
    "            if board[pos1_x][pos1_y+i] == 0 and board[pos2_x][pos2_y+i] == 0 :\n",
    "                next_pos.append({(pos1_x, pos1_y), (pos1_x, pos1_y+i)})\n",
    "                next_pos.append({(pos2_x, pos2_y), (pos2_x, pos2_y+i)})\n",
    "                \n",
    "    return next_pos               "
   ]
  },
  {
   "cell_type": "code",
   "execution_count": 75,
   "metadata": {},
   "outputs": [],
   "source": [
    "def solution(board) :\n",
    "    answer = 0\n",
    "    n = len(board)\n",
    "    \n",
    "    new_board = [[1] * (n+2) for _ in range(n+2)]\n",
    "    for i in range(n) :\n",
    "        for j in range(n) :\n",
    "            new_board[i+1][j+1] = board[i][j]\n",
    "            \n",
    "    pos = {(1,1), (1,2)}\n",
    "    visited = [pos]\n",
    "    q = deque([(pos, 0)])\n",
    "    \n",
    "    while q :\n",
    "        pos, cost = q.popleft()\n",
    "        \n",
    "        if (n,n) in pos :\n",
    "            return cost\n",
    "        \n",
    "        for next_pos in get_next_pos(pos, new_board) :\n",
    "            if next_pos not in visited :\n",
    "                visited.append(next_pos)\n",
    "                q.append((next_pos, cost+1))\n",
    "        \n",
    "    return answer"
   ]
  },
  {
   "cell_type": "code",
   "execution_count": 76,
   "metadata": {},
   "outputs": [],
   "source": [
    "board = [[0,0,0,1,1], [0,0,0,1,0], [0,1,0,1,1], [1,1,0,0,1], [0,0,0,0,0]]\n",
    "# 7"
   ]
  },
  {
   "cell_type": "code",
   "execution_count": 77,
   "metadata": {},
   "outputs": [
    {
     "data": {
      "text/plain": [
       "7"
      ]
     },
     "execution_count": 77,
     "metadata": {},
     "output_type": "execute_result"
    }
   ],
   "source": [
    "solution(board)"
   ]
  }
 ],
 "metadata": {
  "kernelspec": {
   "display_name": "Python 3",
   "language": "python",
   "name": "python3"
  },
  "language_info": {
   "codemirror_mode": {
    "name": "ipython",
    "version": 3
   },
   "file_extension": ".py",
   "mimetype": "text/x-python",
   "name": "python",
   "nbconvert_exporter": "python",
   "pygments_lexer": "ipython3",
   "version": "3.7.9"
  }
 },
 "nbformat": 4,
 "nbformat_minor": 4
}
