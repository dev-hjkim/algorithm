{
 "cells": [
  {
   "cell_type": "markdown",
   "metadata": {},
   "source": [
    "# Q1"
   ]
  },
  {
   "cell_type": "code",
   "execution_count": 10,
   "metadata": {},
   "outputs": [],
   "source": [
    "def solution(data) :\n",
    "    answer = 0\n",
    "    data.sort()\n",
    "    count = 1\n",
    "    \n",
    "    for i in data :\n",
    "        if i <= count :\n",
    "            answer += 1\n",
    "            count = 1\n",
    "        else :\n",
    "            count += 1\n",
    "    return answer"
   ]
  },
  {
   "cell_type": "code",
   "execution_count": 11,
   "metadata": {},
   "outputs": [],
   "source": [
    "data = [2,3,1,2,2]\n",
    "# 2"
   ]
  },
  {
   "cell_type": "code",
   "execution_count": 12,
   "metadata": {},
   "outputs": [
    {
     "data": {
      "text/plain": [
       "2"
      ]
     },
     "execution_count": 12,
     "metadata": {},
     "output_type": "execute_result"
    }
   ],
   "source": [
    "solution(data)"
   ]
  },
  {
   "cell_type": "code",
   "execution_count": null,
   "metadata": {},
   "outputs": [],
   "source": []
  },
  {
   "cell_type": "markdown",
   "metadata": {},
   "source": [
    "# Q2"
   ]
  },
  {
   "cell_type": "code",
   "execution_count": 13,
   "metadata": {},
   "outputs": [],
   "source": [
    "def solution(char) :\n",
    "    answer = 0\n",
    "    \n",
    "    for i in char :\n",
    "        num = int(i)\n",
    "        if num <= 1 or answer <= 1:\n",
    "            answer += num\n",
    "        else :\n",
    "            answer *= num\n",
    "    return answer"
   ]
  },
  {
   "cell_type": "code",
   "execution_count": 14,
   "metadata": {},
   "outputs": [],
   "source": [
    "char = '02984'\n",
    "# 576"
   ]
  },
  {
   "cell_type": "code",
   "execution_count": 16,
   "metadata": {},
   "outputs": [],
   "source": [
    "char = '567'\n",
    "# 210"
   ]
  },
  {
   "cell_type": "code",
   "execution_count": 17,
   "metadata": {},
   "outputs": [
    {
     "data": {
      "text/plain": [
       "210"
      ]
     },
     "execution_count": 17,
     "metadata": {},
     "output_type": "execute_result"
    }
   ],
   "source": [
    "solution(char)"
   ]
  },
  {
   "cell_type": "code",
   "execution_count": null,
   "metadata": {},
   "outputs": [],
   "source": []
  },
  {
   "cell_type": "markdown",
   "metadata": {},
   "source": [
    "# Q3"
   ]
  },
  {
   "cell_type": "code",
   "execution_count": 18,
   "metadata": {},
   "outputs": [],
   "source": [
    "def solution(char) :\n",
    "    answer = 0\n",
    "    \n",
    "    count0 = 0\n",
    "    count1 = 0\n",
    "    \n",
    "    if char[0] == '1' :\n",
    "        count0 += 1\n",
    "    else :\n",
    "        count1 += 1\n",
    "    \n",
    "    for i in range(len(char)-1) :\n",
    "        if char[i] != char[i+1] :\n",
    "            if char[i+1] == '1' :\n",
    "                count0 += 1\n",
    "            else :\n",
    "                count1 += 1\n",
    "    answer = min(count0, count1)\n",
    "    return answer"
   ]
  },
  {
   "cell_type": "code",
   "execution_count": 19,
   "metadata": {},
   "outputs": [],
   "source": [
    "char = '0001100'\n",
    "# 1"
   ]
  },
  {
   "cell_type": "code",
   "execution_count": 20,
   "metadata": {},
   "outputs": [
    {
     "data": {
      "text/plain": [
       "1"
      ]
     },
     "execution_count": 20,
     "metadata": {},
     "output_type": "execute_result"
    }
   ],
   "source": [
    "solution(char)"
   ]
  },
  {
   "cell_type": "code",
   "execution_count": null,
   "metadata": {},
   "outputs": [],
   "source": []
  },
  {
   "cell_type": "markdown",
   "metadata": {},
   "source": [
    "# Q4"
   ]
  },
  {
   "cell_type": "code",
   "execution_count": 21,
   "metadata": {},
   "outputs": [],
   "source": [
    "def solution(coin) :\n",
    "    answer = 1\n",
    "    coin.sort()\n",
    "    \n",
    "    for x in coin :\n",
    "        if x > answer :\n",
    "            break\n",
    "        answer += x\n",
    "    return answer"
   ]
  },
  {
   "cell_type": "code",
   "execution_count": 22,
   "metadata": {},
   "outputs": [],
   "source": [
    "coin = [3,2,1,1,9]\n",
    "# 8"
   ]
  },
  {
   "cell_type": "code",
   "execution_count": 23,
   "metadata": {},
   "outputs": [
    {
     "data": {
      "text/plain": [
       "8"
      ]
     },
     "execution_count": 23,
     "metadata": {},
     "output_type": "execute_result"
    }
   ],
   "source": [
    "solution(coin)"
   ]
  },
  {
   "cell_type": "code",
   "execution_count": null,
   "metadata": {},
   "outputs": [],
   "source": []
  },
  {
   "cell_type": "markdown",
   "metadata": {},
   "source": [
    "# Q5"
   ]
  },
  {
   "cell_type": "code",
   "execution_count": 27,
   "metadata": {},
   "outputs": [],
   "source": [
    "def solution(weights) :\n",
    "    answer = 0\n",
    "    array = [0] * 11\n",
    "    \n",
    "    max_weight = max(weights)\n",
    "    n = len(weights)\n",
    "    \n",
    "    for x in weights :\n",
    "        array[x] += 1\n",
    "    \n",
    "    for i in range(1, max_weight+1) :\n",
    "        n -= array[i]\n",
    "        answer += array[i] * n\n",
    "    return answer"
   ]
  },
  {
   "cell_type": "code",
   "execution_count": 28,
   "metadata": {},
   "outputs": [],
   "source": [
    "weights = [1,3,2,3,2]\n",
    "# 8"
   ]
  },
  {
   "cell_type": "code",
   "execution_count": 30,
   "metadata": {},
   "outputs": [],
   "source": [
    "weights = [1,5,4,3,2,4,5,2]\n",
    "# 25"
   ]
  },
  {
   "cell_type": "code",
   "execution_count": 31,
   "metadata": {},
   "outputs": [
    {
     "data": {
      "text/plain": [
       "25"
      ]
     },
     "execution_count": 31,
     "metadata": {},
     "output_type": "execute_result"
    }
   ],
   "source": [
    "solution(weights)"
   ]
  },
  {
   "cell_type": "code",
   "execution_count": null,
   "metadata": {},
   "outputs": [],
   "source": []
  },
  {
   "cell_type": "markdown",
   "metadata": {},
   "source": [
    "# Q6"
   ]
  },
  {
   "cell_type": "code",
   "execution_count": 32,
   "metadata": {},
   "outputs": [],
   "source": [
    "import heapq"
   ]
  },
  {
   "cell_type": "code",
   "execution_count": 33,
   "metadata": {},
   "outputs": [],
   "source": [
    "def solution(food_times, k) :\n",
    "    answer = 0\n",
    "    \n",
    "    if sum(food_times) <= k :\n",
    "        return -1\n",
    "    \n",
    "    q = []\n",
    "    for i in range(len(food_times)) :\n",
    "        heapq.heappush(q, (food_times[i], i+1))\n",
    "    \n",
    "    sum_val = 0\n",
    "    previous = 0\n",
    "    length = len(food_times)\n",
    "    \n",
    "    while sum_val + ((q[0][0] - previous) * length) <= k :\n",
    "        now = heapq.heappop(q)[0]\n",
    "        sum_val += (now - previous) * length\n",
    "        length -= 1\n",
    "        previous = now\n",
    "        \n",
    "    result = sorted(q, key=lambda x:x[1])\n",
    "    answer = result[(k-sum_val) % length][1]\n",
    "    return answer"
   ]
  },
  {
   "cell_type": "code",
   "execution_count": 34,
   "metadata": {},
   "outputs": [],
   "source": [
    "food_times = [3,1,2]\n",
    "k = 5\n",
    "# 1"
   ]
  },
  {
   "cell_type": "code",
   "execution_count": 35,
   "metadata": {},
   "outputs": [
    {
     "data": {
      "text/plain": [
       "1"
      ]
     },
     "execution_count": 35,
     "metadata": {},
     "output_type": "execute_result"
    }
   ],
   "source": [
    "solution(food_times, k)"
   ]
  }
 ],
 "metadata": {
  "kernelspec": {
   "display_name": "Python 3",
   "language": "python",
   "name": "python3"
  },
  "language_info": {
   "codemirror_mode": {
    "name": "ipython",
    "version": 3
   },
   "file_extension": ".py",
   "mimetype": "text/x-python",
   "name": "python",
   "nbconvert_exporter": "python",
   "pygments_lexer": "ipython3",
   "version": "3.7.9"
  }
 },
 "nbformat": 4,
 "nbformat_minor": 4
}
