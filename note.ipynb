{
 "cells": [
  {
   "cell_type": "code",
   "execution_count": null,
   "metadata": {},
   "outputs": [],
   "source": [
    "def rotate_a_matrix_by_90_degree(a) :\n",
    "    n = len(a)\n",
    "    m = len(a[0])\n",
    "    result = [[0] * n for _ in range(m)]\n",
    "    for i in range(n):\n",
    "        for j in range(m) :\n",
    "            result[j][n-i-1] = a[i][j]\n",
    "    return result"
   ]
  },
  {
   "cell_type": "code",
   "execution_count": null,
   "metadata": {},
   "outputs": [],
   "source": []
  },
  {
   "cell_type": "code",
   "execution_count": null,
   "metadata": {},
   "outputs": [],
   "source": [
    "import math"
   ]
  },
  {
   "cell_type": "code",
   "execution_count": null,
   "metadata": {},
   "outputs": [],
   "source": [
    "def get_prime_list(n) :\n",
    "    prime_lst = []\n",
    "    array = [True for i in range(n+1)]\n",
    "    \n",
    "    for i in range(2, int(math.sqrt(n)) + 1) :\n",
    "        if array[i] == True :\n",
    "            j = 2\n",
    "            while i * j <= n :\n",
    "                array[i*j] = False\n",
    "                j += 1\n",
    "    \n",
    "    for i in range(2, n+1) :\n",
    "        if array[i] :\n",
    "            prime_lst.append(i)\n",
    "    return prime_lst"
   ]
  },
  {
   "cell_type": "code",
   "execution_count": null,
   "metadata": {},
   "outputs": [],
   "source": []
  },
  {
   "cell_type": "code",
   "execution_count": null,
   "metadata": {},
   "outputs": [],
   "source": [
    "def solution(n, q):\n",
    "    rev_base = ''\n",
    "\n",
    "    while n > 0:\n",
    "        n, mod = divmod(n, q)\n",
    "        rev_base += str(mod)\n",
    "\n",
    "    return rev_base[::-1] "
   ]
  },
  {
   "cell_type": "code",
   "execution_count": null,
   "metadata": {},
   "outputs": [],
   "source": []
  },
  {
   "cell_type": "code",
   "execution_count": null,
   "metadata": {},
   "outputs": [],
   "source": [
    "def is_prime_num(k):\n",
    "    if k == 2 or k == 3: return True\n",
    "    if k % 2 == 0 or k < 2: return False\n",
    "    for i in range(3, int(k ** 0.5) + 1, 2):\n",
    "        if k % i == 0:\n",
    "            return False\n",
    "    return True"
   ]
  },
  {
   "cell_type": "code",
   "execution_count": null,
   "metadata": {},
   "outputs": [],
   "source": []
  },
  {
   "cell_type": "code",
   "execution_count": null,
   "metadata": {},
   "outputs": [],
   "source": [
    "from datetime import datetime"
   ]
  },
  {
   "cell_type": "code",
   "execution_count": null,
   "metadata": {},
   "outputs": [],
   "source": [
    "def time_calculate(time1, time2) :\n",
    "    time_1 = datetime.strptime(time1, '%H:%M')\n",
    "    time_2 = datetime.strptime(time2, '%H:%M')\n",
    "    \n",
    "    time_interval = time_2 - time_1\n",
    "    return time_interval.seconds // 60"
   ]
  },
  {
   "cell_type": "code",
   "execution_count": null,
   "metadata": {},
   "outputs": [],
   "source": []
  },
  {
   "cell_type": "code",
   "execution_count": null,
   "metadata": {},
   "outputs": [],
   "source": [
    "def hour_to_minute(time) :\n",
    "    hour, minute = time.split(':')\n",
    "    minute = int(hour) * 60 + int(minute)\n",
    "    return minute"
   ]
  },
  {
   "cell_type": "code",
   "execution_count": null,
   "metadata": {},
   "outputs": [],
   "source": []
  },
  {
   "cell_type": "code",
   "execution_count": null,
   "metadata": {},
   "outputs": [],
   "source": []
  }
 ],
 "metadata": {
  "kernelspec": {
   "display_name": "Python 3",
   "language": "python",
   "name": "python3"
  },
  "language_info": {
   "codemirror_mode": {
    "name": "ipython",
    "version": 3
   },
   "file_extension": ".py",
   "mimetype": "text/x-python",
   "name": "python",
   "nbconvert_exporter": "python",
   "pygments_lexer": "ipython3",
   "version": "3.7.9"
  }
 },
 "nbformat": 4,
 "nbformat_minor": 4
}
