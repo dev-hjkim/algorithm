{
 "cells": [
  {
   "cell_type": "markdown",
   "metadata": {},
   "source": [
    "# 2920"
   ]
  },
  {
   "cell_type": "code",
   "execution_count": 24,
   "metadata": {},
   "outputs": [],
   "source": [
    "def solution(data) :\n",
    "    answer = ''\n",
    "    \n",
    "    asc = True\n",
    "    desc = True\n",
    "    \n",
    "    for i in range(len(data)-1) :\n",
    "        if data[i] < data[i+1] :\n",
    "            desc = False\n",
    "        else :\n",
    "            asc = False\n",
    "    \n",
    "    if asc:\n",
    "        answer = 'ascending'\n",
    "    elif desc:\n",
    "        answer = 'descending'\n",
    "    else :\n",
    "        answer = 'mixed'\n",
    "    \n",
    "    return answer"
   ]
  },
  {
   "cell_type": "code",
   "execution_count": 25,
   "metadata": {},
   "outputs": [],
   "source": [
    "data = [1, 2, 3, 4, 5, 6, 7, 8]\n",
    "# ascending"
   ]
  },
  {
   "cell_type": "code",
   "execution_count": 27,
   "metadata": {},
   "outputs": [],
   "source": [
    "data = [8, 7, 6, 5, 4, 3, 2, 1]\n",
    "# descending"
   ]
  },
  {
   "cell_type": "code",
   "execution_count": 29,
   "metadata": {},
   "outputs": [],
   "source": [
    "data = [8, 1, 7, 2, 6, 3, 5, 4]\n",
    "# mixed"
   ]
  },
  {
   "cell_type": "code",
   "execution_count": 30,
   "metadata": {},
   "outputs": [
    {
     "data": {
      "text/plain": [
       "'mixed'"
      ]
     },
     "execution_count": 30,
     "metadata": {},
     "output_type": "execute_result"
    }
   ],
   "source": [
    "solution(data)"
   ]
  },
  {
   "cell_type": "code",
   "execution_count": null,
   "metadata": {},
   "outputs": [],
   "source": []
  },
  {
   "cell_type": "markdown",
   "metadata": {},
   "source": [
    "# 2798"
   ]
  },
  {
   "cell_type": "code",
   "execution_count": 31,
   "metadata": {},
   "outputs": [],
   "source": [
    "from itertools import combinations"
   ]
  },
  {
   "cell_type": "code",
   "execution_count": 41,
   "metadata": {},
   "outputs": [],
   "source": [
    "def solution(n, m, cards) :\n",
    "    answer = 1e9\n",
    "    \n",
    "    for candidate in combinations(cards, 3) :\n",
    "        if sum(candidate) <= m :\n",
    "            diff = m - sum(candidate)\n",
    "            answer = min(diff, answer)\n",
    "    return m - answer"
   ]
  },
  {
   "cell_type": "code",
   "execution_count": 42,
   "metadata": {},
   "outputs": [],
   "source": [
    "n = 5\n",
    "m = 21\n",
    "cards = [5, 6, 7, 8,9]\n",
    "# 21"
   ]
  },
  {
   "cell_type": "code",
   "execution_count": 44,
   "metadata": {},
   "outputs": [],
   "source": [
    "n = 10\n",
    "m = 500\n",
    "cards = [93, 181, 245, 214, 315, 36, 185, 138, 216, 295]\n",
    "# 497"
   ]
  },
  {
   "cell_type": "code",
   "execution_count": 45,
   "metadata": {},
   "outputs": [
    {
     "data": {
      "text/plain": [
       "497"
      ]
     },
     "execution_count": 45,
     "metadata": {},
     "output_type": "execute_result"
    }
   ],
   "source": [
    "solution(n, m, cards)"
   ]
  },
  {
   "cell_type": "code",
   "execution_count": null,
   "metadata": {},
   "outputs": [],
   "source": []
  },
  {
   "cell_type": "markdown",
   "metadata": {},
   "source": [
    "# 1874"
   ]
  },
  {
   "cell_type": "code",
   "execution_count": 51,
   "metadata": {},
   "outputs": [],
   "source": [
    "def solution(n, data) :\n",
    "    idx = data.index(n)\n",
    "    temp = data[idx:]\n",
    "    \n",
    "    desc_temp = sorted(temp, reverse=True)\n",
    "    \n",
    "    if temp != desc_temp :\n",
    "        print('NO')\n",
    "    else :\n",
    "        data_i = 0\n",
    "        stack = []\n",
    "        cnt = 1\n",
    "        while cnt <= n :\n",
    "            if len(stack) != 0 and data[data_i] == stack[-1] :\n",
    "                print('-')\n",
    "                stack.pop()\n",
    "                data_i += 1\n",
    "            else :\n",
    "                print('+')\n",
    "                stack.append(cnt)\n",
    "                cnt += 1\n",
    "        \n",
    "        if len(stack) != 0 :\n",
    "            for i in range(len(stack)) :\n",
    "                print('-')"
   ]
  },
  {
   "cell_type": "code",
   "execution_count": 52,
   "metadata": {},
   "outputs": [],
   "source": [
    "n = 8\n",
    "data = [4, 3, 6, 8, 7, 5, 2, 1]"
   ]
  },
  {
   "cell_type": "code",
   "execution_count": 54,
   "metadata": {},
   "outputs": [],
   "source": [
    "n = 5\n",
    "data = [1, 2, 5, 3, 4]"
   ]
  },
  {
   "cell_type": "code",
   "execution_count": 55,
   "metadata": {},
   "outputs": [
    {
     "name": "stdout",
     "output_type": "stream",
     "text": [
      "NO\n"
     ]
    }
   ],
   "source": [
    "solution(n, data)"
   ]
  },
  {
   "cell_type": "code",
   "execution_count": null,
   "metadata": {},
   "outputs": [],
   "source": []
  },
  {
   "cell_type": "code",
   "execution_count": null,
   "metadata": {},
   "outputs": [],
   "source": [
    "n = int(input())\n",
    "\n",
    "count = 1\n",
    "stack = []\n",
    "result = []\n",
    "\n",
    "for i in range(1, n+1) :\n",
    "    data = int(input())\n",
    "    while count <= data :\n",
    "        stack.append(count)\n",
    "        count += 1\n",
    "        result.append('+')\n",
    "    if stack[-1] == data :\n",
    "        stack.pop()\n",
    "        result.append('-')\n",
    "    else :\n",
    "        print('NO')\n",
    "        exit(0)\n",
    "print('\\n'.join(result))"
   ]
  }
 ],
 "metadata": {
  "kernelspec": {
   "display_name": "Python 3",
   "language": "python",
   "name": "python3"
  },
  "language_info": {
   "codemirror_mode": {
    "name": "ipython",
    "version": 3
   },
   "file_extension": ".py",
   "mimetype": "text/x-python",
   "name": "python",
   "nbconvert_exporter": "python",
   "pygments_lexer": "ipython3",
   "version": "3.7.9"
  }
 },
 "nbformat": 4,
 "nbformat_minor": 4
}
