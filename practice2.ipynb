{
 "cells": [
  {
   "cell_type": "markdown",
   "metadata": {},
   "source": [
    "# 2920"
   ]
  },
  {
   "cell_type": "code",
   "execution_count": 24,
   "metadata": {},
   "outputs": [],
   "source": [
    "def solution(data) :\n",
    "    answer = ''\n",
    "    \n",
    "    asc = True\n",
    "    desc = True\n",
    "    \n",
    "    for i in range(len(data)-1) :\n",
    "        if data[i] < data[i+1] :\n",
    "            desc = False\n",
    "        else :\n",
    "            asc = False\n",
    "    \n",
    "    if asc:\n",
    "        answer = 'ascending'\n",
    "    elif desc:\n",
    "        answer = 'descending'\n",
    "    else :\n",
    "        answer = 'mixed'\n",
    "    \n",
    "    return answer"
   ]
  },
  {
   "cell_type": "code",
   "execution_count": 25,
   "metadata": {},
   "outputs": [],
   "source": [
    "data = [1, 2, 3, 4, 5, 6, 7, 8]\n",
    "# ascending"
   ]
  },
  {
   "cell_type": "code",
   "execution_count": 27,
   "metadata": {},
   "outputs": [],
   "source": [
    "data = [8, 7, 6, 5, 4, 3, 2, 1]\n",
    "# descending"
   ]
  },
  {
   "cell_type": "code",
   "execution_count": 29,
   "metadata": {},
   "outputs": [],
   "source": [
    "data = [8, 1, 7, 2, 6, 3, 5, 4]\n",
    "# mixed"
   ]
  },
  {
   "cell_type": "code",
   "execution_count": 30,
   "metadata": {},
   "outputs": [
    {
     "data": {
      "text/plain": [
       "'mixed'"
      ]
     },
     "execution_count": 30,
     "metadata": {},
     "output_type": "execute_result"
    }
   ],
   "source": [
    "solution(data)"
   ]
  },
  {
   "cell_type": "code",
   "execution_count": 10,
   "metadata": {},
   "outputs": [
    {
     "name": "stdout",
     "output_type": "stream",
     "text": [
      "8 1 7 2 6 3 5 4\n",
      "mixed\n"
     ]
    }
   ],
   "source": [
    "data = list(map(int, input().split(' ')))\n",
    "\n",
    "asc, desc = False, False\n",
    "\n",
    "for i in range(len(data)-1) :\n",
    "    if data[i] < data[i+1] :\n",
    "        asc = True\n",
    "    elif data[i] > data[i+1] :\n",
    "        desc = True\n",
    "\n",
    "if asc and not desc :\n",
    "    print('ascending')\n",
    "elif desc and not asc :\n",
    "    print('descending')\n",
    "else :\n",
    "    print('mixed')"
   ]
  },
  {
   "cell_type": "code",
   "execution_count": null,
   "metadata": {},
   "outputs": [],
   "source": []
  },
  {
   "cell_type": "markdown",
   "metadata": {},
   "source": [
    "# 2798"
   ]
  },
  {
   "cell_type": "code",
   "execution_count": 31,
   "metadata": {},
   "outputs": [],
   "source": [
    "from itertools import combinations"
   ]
  },
  {
   "cell_type": "code",
   "execution_count": 41,
   "metadata": {},
   "outputs": [],
   "source": [
    "def solution(n, m, cards) :\n",
    "    answer = 1e9\n",
    "    \n",
    "    for candidate in combinations(cards, 3) :\n",
    "        if sum(candidate) <= m :\n",
    "            diff = m - sum(candidate)\n",
    "            answer = min(diff, answer)\n",
    "    return m - answer"
   ]
  },
  {
   "cell_type": "code",
   "execution_count": 42,
   "metadata": {},
   "outputs": [],
   "source": [
    "n = 5\n",
    "m = 21\n",
    "cards = [5, 6, 7, 8,9]\n",
    "# 21"
   ]
  },
  {
   "cell_type": "code",
   "execution_count": 44,
   "metadata": {},
   "outputs": [],
   "source": [
    "n = 10\n",
    "m = 500\n",
    "cards = [93, 181, 245, 214, 315, 36, 185, 138, 216, 295]\n",
    "# 497"
   ]
  },
  {
   "cell_type": "code",
   "execution_count": 45,
   "metadata": {},
   "outputs": [
    {
     "data": {
      "text/plain": [
       "497"
      ]
     },
     "execution_count": 45,
     "metadata": {},
     "output_type": "execute_result"
    }
   ],
   "source": [
    "solution(n, m, cards)"
   ]
  },
  {
   "cell_type": "code",
   "execution_count": 13,
   "metadata": {},
   "outputs": [
    {
     "name": "stdout",
     "output_type": "stream",
     "text": [
      "10 500\n",
      "93 181 245 214 315 36 185 138 216 295\n",
      "497\n"
     ]
    }
   ],
   "source": [
    "from itertools import combinations\n",
    "\n",
    "n, m = map(int, input().split(' '))\n",
    "data = list(map(int, input().split(' ')))\n",
    "\n",
    "candidates = combinations(data, 3)\n",
    "\n",
    "answer = 1e9\n",
    "for candidate in candidates :\n",
    "    if sum(candidate) <= m :\n",
    "        answer = min(answer, m-sum(candidate))\n",
    "\n",
    "print(m-answer)"
   ]
  },
  {
   "cell_type": "code",
   "execution_count": null,
   "metadata": {},
   "outputs": [],
   "source": []
  },
  {
   "cell_type": "markdown",
   "metadata": {},
   "source": [
    "# 1874"
   ]
  },
  {
   "cell_type": "code",
   "execution_count": 51,
   "metadata": {},
   "outputs": [],
   "source": [
    "def solution(n, data) :\n",
    "    idx = data.index(n)\n",
    "    temp = data[idx:]\n",
    "    \n",
    "    desc_temp = sorted(temp, reverse=True)\n",
    "    \n",
    "    if temp != desc_temp :\n",
    "        print('NO')\n",
    "    else :\n",
    "        data_i = 0\n",
    "        stack = []\n",
    "        cnt = 1\n",
    "        while cnt <= n :\n",
    "            if len(stack) != 0 and data[data_i] == stack[-1] :\n",
    "                print('-')\n",
    "                stack.pop()\n",
    "                data_i += 1\n",
    "            else :\n",
    "                print('+')\n",
    "                stack.append(cnt)\n",
    "                cnt += 1\n",
    "        \n",
    "        if len(stack) != 0 :\n",
    "            for i in range(len(stack)) :\n",
    "                print('-')"
   ]
  },
  {
   "cell_type": "code",
   "execution_count": 52,
   "metadata": {},
   "outputs": [],
   "source": [
    "n = 8\n",
    "data = [4, 3, 6, 8, 7, 5, 2, 1]"
   ]
  },
  {
   "cell_type": "code",
   "execution_count": 54,
   "metadata": {},
   "outputs": [],
   "source": [
    "n = 5\n",
    "data = [1, 2, 5, 3, 4]"
   ]
  },
  {
   "cell_type": "code",
   "execution_count": 55,
   "metadata": {},
   "outputs": [
    {
     "name": "stdout",
     "output_type": "stream",
     "text": [
      "NO\n"
     ]
    }
   ],
   "source": [
    "solution(n, data)"
   ]
  },
  {
   "cell_type": "code",
   "execution_count": 15,
   "metadata": {},
   "outputs": [
    {
     "name": "stdout",
     "output_type": "stream",
     "text": [
      "8\n",
      "4\n",
      "3\n",
      "6\n",
      "8\n",
      "7\n",
      "5\n",
      "2\n",
      "1\n",
      "+\n",
      "+\n",
      "+\n",
      "+\n",
      "-\n",
      "-\n",
      "+\n",
      "+\n",
      "-\n",
      "+\n",
      "+\n",
      "-\n",
      "-\n",
      "-\n",
      "-\n",
      "-\n"
     ]
    }
   ],
   "source": [
    "n = int(input())\n",
    "\n",
    "temp = []\n",
    "result = []\n",
    "count = 1\n",
    "for i in range(1, n+1) :\n",
    "    data = int(input())\n",
    "    while count <= data :\n",
    "        temp.append(count)\n",
    "        count += 1\n",
    "        result.append('+')\n",
    "    if temp[-1] == data :\n",
    "        temp.pop()\n",
    "        result.append('-')\n",
    "    else :\n",
    "        print('NO')\n",
    "        exit(0)\n",
    "\n",
    "print('\\n'.join(result))"
   ]
  },
  {
   "cell_type": "code",
   "execution_count": null,
   "metadata": {},
   "outputs": [],
   "source": []
  },
  {
   "cell_type": "markdown",
   "metadata": {},
   "source": [
    "# 1966"
   ]
  },
  {
   "cell_type": "code",
   "execution_count": 16,
   "metadata": {},
   "outputs": [
    {
     "name": "stdout",
     "output_type": "stream",
     "text": [
      "3\n",
      "1 0\n",
      "5\n",
      "1\n",
      "4 2\n",
      "1 2 3 4\n",
      "2\n",
      "6 0\n",
      "1 1 9 1 1 1\n",
      "5\n"
     ]
    }
   ],
   "source": [
    "test_case = int(input())\n",
    "\n",
    "for _ in range(test_case) :\n",
    "    n, m = map(int, input().split(' '))\n",
    "    queue = list(map(int, input().split(' ')))\n",
    "    queue = [(i, idx) for idx, i in enumerate(queue)]\n",
    "    \n",
    "    count = 0\n",
    "    while True :\n",
    "        if queue[0][0] == max(queue, key=lambda x:x[0])[0] :\n",
    "            count += 1\n",
    "            if queue[0][1] == m :\n",
    "                print(count)\n",
    "                break\n",
    "            else :\n",
    "                queue.pop(0)\n",
    "        else:\n",
    "            queue.append(queue.pop(0))"
   ]
  },
  {
   "cell_type": "code",
   "execution_count": null,
   "metadata": {},
   "outputs": [],
   "source": []
  },
  {
   "cell_type": "markdown",
   "metadata": {},
   "source": [
    "# 5397"
   ]
  },
  {
   "cell_type": "code",
   "execution_count": 21,
   "metadata": {},
   "outputs": [
    {
     "name": "stdout",
     "output_type": "stream",
     "text": [
      "2\n",
      "<<BP<A>>Cd-\n",
      "BAPC\n",
      "ThIsIsS3Cr3t\n",
      "ThIsIsS3Cr3t\n"
     ]
    }
   ],
   "source": [
    "test_case = int(input())\n",
    "\n",
    "for _ in range(test_case) :\n",
    "    left_stack = []\n",
    "    right_stack = []\n",
    "    data = input()\n",
    "    for i in data :\n",
    "        if i == '-' :\n",
    "            if left_stack :\n",
    "                left_stack.pop()\n",
    "        elif i == '<' :\n",
    "            if left_stack :\n",
    "                right_stack.append(left_stack.pop())\n",
    "        elif i == '>' :\n",
    "            if right_stack :\n",
    "                left_stack.append(right_stack.pop())\n",
    "        else :\n",
    "            left_stack.append(i)\n",
    "    \n",
    "    left_stack.extend(reversed(right_stack))\n",
    "    print(''.join(left_stack))"
   ]
  },
  {
   "cell_type": "code",
   "execution_count": null,
   "metadata": {},
   "outputs": [],
   "source": []
  },
  {
   "cell_type": "markdown",
   "metadata": {},
   "source": [
    "# 10930"
   ]
  },
  {
   "cell_type": "code",
   "execution_count": 6,
   "metadata": {},
   "outputs": [
    {
     "name": "stdout",
     "output_type": "stream",
     "text": [
      "abc\n",
      "ba7816bf8f01cfea414140de5dae2223b00361a396177a9cb410ff61f20015ad\n"
     ]
    }
   ],
   "source": [
    "import hashlib\n",
    "\n",
    "target = input()\n",
    "result = hashlib.sha256(target.encode())\n",
    "print(result.hexdigest())"
   ]
  },
  {
   "cell_type": "code",
   "execution_count": null,
   "metadata": {},
   "outputs": [],
   "source": []
  },
  {
   "cell_type": "markdown",
   "metadata": {},
   "source": [
    "# 1920"
   ]
  },
  {
   "cell_type": "code",
   "execution_count": 2,
   "metadata": {},
   "outputs": [
    {
     "name": "stdout",
     "output_type": "stream",
     "text": [
      "5\n",
      "4 1 5 2 3\n",
      "5\n",
      "1 3 7 9 5\n",
      "1\n",
      "1\n",
      "0\n",
      "0\n",
      "1\n"
     ]
    }
   ],
   "source": [
    "n = int(input())\n",
    "data = set(map(int, input().split(' ')))\n",
    "\n",
    "m = int(input())\n",
    "targets = list(map(int, input().split(' ')))\n",
    "\n",
    "for target in targets :\n",
    "    if target in data :\n",
    "        print('1')\n",
    "    else :\n",
    "        print('0')"
   ]
  },
  {
   "cell_type": "markdown",
   "metadata": {},
   "source": [
    "# 4195"
   ]
  },
  {
   "cell_type": "code",
   "execution_count": 6,
   "metadata": {},
   "outputs": [
    {
     "name": "stdout",
     "output_type": "stream",
     "text": [
      "2\n",
      "3\n",
      "Fred Barney\n",
      "2\n",
      "Barney Betty\n",
      "3\n",
      "Betty Wilma\n",
      "4\n",
      "3\n",
      "Fred Barney\n",
      "2\n",
      "Betty Wilma\n",
      "2\n",
      "Barney Betty\n",
      "4\n"
     ]
    }
   ],
   "source": [
    "def find(x) :\n",
    "    if x == parent[x] :\n",
    "        return x\n",
    "    else :\n",
    "        p = find(parent[x])\n",
    "        parent[x] = p\n",
    "        return parent[x]\n",
    "\n",
    "def union(x, y) :\n",
    "    x = find(x)\n",
    "    y = find(y)\n",
    "    \n",
    "    if x != y :\n",
    "        parent[y] = x\n",
    "        number[x] += number[y]\n",
    "\n",
    "\n",
    "tests = int(input())\n",
    "\n",
    "for _ in range(tests) :\n",
    "    parent = dict()\n",
    "    number = dict()\n",
    "    \n",
    "    rel_num = int(input())\n",
    "    for _ in range(rel_num) :\n",
    "        p1, p2 = input().split(' ')\n",
    "        \n",
    "        if p1 not in parent :\n",
    "            parent[p1] = p1\n",
    "            number[p1] = 1\n",
    "        if p2 not in parent :\n",
    "            parent[p2] = p2\n",
    "            number[p2] = 1\n",
    "        \n",
    "        union(p1, p2)\n",
    "        \n",
    "        print(number[find(p1)])"
   ]
  }
 ],
 "metadata": {
  "kernelspec": {
   "display_name": "Python 3",
   "language": "python",
   "name": "python3"
  },
  "language_info": {
   "codemirror_mode": {
    "name": "ipython",
    "version": 3
   },
   "file_extension": ".py",
   "mimetype": "text/x-python",
   "name": "python",
   "nbconvert_exporter": "python",
   "pygments_lexer": "ipython3",
   "version": "3.7.9"
  }
 },
 "nbformat": 4,
 "nbformat_minor": 4
}
